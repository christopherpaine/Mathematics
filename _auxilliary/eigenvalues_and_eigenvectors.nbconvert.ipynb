{
 "cells": [
  {
   "cell_type": "code",
   "execution_count": 1,
   "id": "42725f0a",
   "metadata": {
    "execution": {
     "iopub.execute_input": "2025-07-26T21:35:13.335277Z",
     "iopub.status.busy": "2025-07-26T21:35:13.334737Z",
     "iopub.status.idle": "2025-07-26T21:35:14.879752Z",
     "shell.execute_reply": "2025-07-26T21:35:14.878923Z"
    },
    "lines_to_next_cell": 2
   },
   "outputs": [],
   "source": [
    "# imports\n",
    "from IPython.display import display, Markdown, HTML, SVG\n",
    "import numpy as np\n",
    "import matplotlib.pyplot as plt\n",
    "import pandas as pd\n",
    "from io import StringIO\n",
    "\n"
   ]
  }
 ],
 "metadata": {
  "jupytext": {
   "formats": "ipynb,py:percent,md"
  },
  "kernelspec": {
   "display_name": "Python 3 (ipykernel)",
   "language": "python",
   "name": "python3"
  },
  "language_info": {
   "codemirror_mode": {
    "name": "ipython",
    "version": 3
   },
   "file_extension": ".py",
   "mimetype": "text/x-python",
   "name": "python",
   "nbconvert_exporter": "python",
   "pygments_lexer": "ipython3",
   "version": "3.12.8"
  }
 },
 "nbformat": 4,
 "nbformat_minor": 5
}
