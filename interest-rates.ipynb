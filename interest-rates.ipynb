{
 "cells": [
  {
   "cell_type": "code",
   "execution_count": 1,
   "id": "2087d72a",
   "metadata": {
    "execution": {
     "iopub.execute_input": "2025-07-30T21:14:17.340731Z",
     "iopub.status.busy": "2025-07-30T21:14:17.339831Z",
     "iopub.status.idle": "2025-07-30T21:14:17.957111Z",
     "shell.execute_reply": "2025-07-30T21:14:17.956387Z"
    }
   },
   "outputs": [],
   "source": [
    "# imports\n",
    "from IPython.display import display, Markdown, HTML, SVG\n",
    "import numpy as np\n",
    "import matplotlib.pyplot as plt\n",
    "import pandas as pd\n",
    "from io import StringIO\n",
    "import notation as ntn\n",
    "import functions as fns "
   ]
  },
  {
   "cell_type": "code",
   "execution_count": 2,
   "id": "2a190a4f",
   "metadata": {
    "execution": {
     "iopub.execute_input": "2025-07-30T21:14:17.959873Z",
     "iopub.status.busy": "2025-07-30T21:14:17.959441Z",
     "iopub.status.idle": "2025-07-30T21:14:17.967066Z",
     "shell.execute_reply": "2025-07-30T21:14:17.966533Z"
    }
   },
   "outputs": [
    {
     "data": {
      "text/html": [
       "  <style>  .circle {\n",
       "    width: 18px;\n",
       "    height: 18px;\n",
       "    border-radius: 50%;\n",
       "    background-color: #444;\n",
       "    color: #fff;\n",
       "    text-align: center;\n",
       "    line-height: 18px;\n",
       "    font-weight: bold;\n",
       "    margin-left: 10px;\n",
       "    flex-shrink: 0;\n",
       "    }</style>\n",
       "     "
      ],
      "text/plain": [
       "<IPython.core.display.HTML object>"
      ]
     },
     "execution_count": 2,
     "metadata": {},
     "output_type": "execute_result"
    }
   ],
   "source": [
    "HTML(\"\"\"  <style>  .circle {\n",
    "    width: 18px;\n",
    "    height: 18px;\n",
    "    border-radius: 50%;\n",
    "    background-color: #444;\n",
    "    color: #fff;\n",
    "    text-align: center;\n",
    "    line-height: 18px;\n",
    "    font-weight: bold;\n",
    "    margin-left: 10px;\n",
    "    flex-shrink: 0;\n",
    "    }</style>\n",
    "     \"\"\"\n",
    ")\n",
    "\n",
    "\n",
    "\n",
    "\n",
    "\n",
    "\n"
   ]
  },
  {
   "cell_type": "code",
   "execution_count": 3,
   "id": "906aaa9d",
   "metadata": {
    "execution": {
     "iopub.execute_input": "2025-07-30T21:14:17.969200Z",
     "iopub.status.busy": "2025-07-30T21:14:17.968945Z",
     "iopub.status.idle": "2025-07-30T21:14:17.983879Z",
     "shell.execute_reply": "2025-07-30T21:14:17.983306Z"
    },
    "lines_to_next_cell": 2
   },
   "outputs": [
    {
     "data": {
      "text/html": [
       "<h1>Interest Rates</h1>"
      ],
      "text/plain": [
       "<IPython.core.display.HTML object>"
      ]
     },
     "metadata": {},
     "output_type": "display_data"
    },
    {
     "data": {
      "text/html": [
       "<h2>Zero Coupon Bond</h2>"
      ],
      "text/plain": [
       "<IPython.core.display.HTML object>"
      ]
     },
     "metadata": {},
     "output_type": "display_data"
    },
    {
     "data": {
      "text/html": [
       "\\(B(t,T)\\)"
      ],
      "text/plain": [
       "<IPython.core.display.HTML object>"
      ]
     },
     "metadata": {},
     "output_type": "display_data"
    },
    {
     "data": {
      "text/html": [
       "\\(B(t,T)= \\exp{(T-t)B(t,T)} \\forall \\, t < T\\)"
      ],
      "text/plain": [
       "<IPython.core.display.HTML object>"
      ]
     },
     "metadata": {},
     "output_type": "display_data"
    },
    {
     "data": {
      "text/html": [
       "<h2>Spot Rate</h2>"
      ],
      "text/plain": [
       "<IPython.core.display.HTML object>"
      ]
     },
     "metadata": {},
     "output_type": "display_data"
    },
    {
     "data": {
      "text/html": [
       "\\(R(t,t)\\)"
      ],
      "text/plain": [
       "<IPython.core.display.HTML object>"
      ]
     },
     "metadata": {},
     "output_type": "display_data"
    },
    {
     "data": {
      "text/html": [
       "\\(R(t,T)= \\frac{-1}{T-t}\\log{B(t,T)} \\forall \\, t < T\\)"
      ],
      "text/plain": [
       "<IPython.core.display.HTML object>"
      ]
     },
     "metadata": {},
     "output_type": "display_data"
    },
    {
     "data": {
      "text/html": [
       "\n",
       "    <div style=\"display: flex;\">\n",
       "        <div style=\"flex: 1; padding: 0;\">\n",
       "            \\((1 + R(t, T))^{T-t} = (1 + R(t, T - 1))^{T - t-1} \\cdot (1 + F(t, T - 1, T))\\)\n",
       "        </div>\n",
       "        <div style=\"flex: 1; padding: 0;\">\n",
       "            <div class='circle'>3</div>\n",
       "        </div>\n",
       "    </div>\n",
       "    "
      ],
      "text/plain": [
       "<IPython.core.display.HTML object>"
      ]
     },
     "metadata": {},
     "output_type": "display_data"
    },
    {
     "data": {
      "text/html": [
       "<h2>forward rate</h2>"
      ],
      "text/plain": [
       "<IPython.core.display.HTML object>"
      ]
     },
     "metadata": {},
     "output_type": "display_data"
    },
    {
     "data": {
      "text/html": [
       "\\(F(t,S,T)\\) is the forward rate at time t for delivery between T and S"
      ],
      "text/plain": [
       "<IPython.core.display.HTML object>"
      ]
     },
     "metadata": {},
     "output_type": "display_data"
    }
   ],
   "source": [
    "display(HTML(\"<h1>Interest Rates</h1>\"))\n",
    "display(HTML(\"<h2>Zero Coupon Bond</h2>\"))\n",
    "display(HTML(ntn.not_zero_coupon_bond_price))\n",
    "display(HTML(ntn.eqn_zero_coupon_price_spot_rate))\n",
    "display(HTML(\"<h2>Spot Rate</h2>\"))\n",
    "display(HTML(ntn.not_spot_rate))\n",
    "display(HTML(ntn.eqn_spot_rate_zero_coupon_price))\n",
    "display(HTML(fns.f_create_flex_columns(ntn.eqn_spt_rate_forward_rate , \"<div class='circle'>3</div>\")))\n",
    "display(HTML(\"<h2>forward rate</h2>\"))\n",
    "display(HTML(ntn.not_forward_rate + \" is the forward rate at time t for delivery between T and S\"))\n",
    "\n",
    "\n",
    "\n",
    "\n"
   ]
  }
 ],
 "metadata": {
  "jupytext": {
   "formats": "ipynb,py:percent,md"
  },
  "kernelspec": {
   "display_name": "Python 3 (ipykernel)",
   "language": "python",
   "name": "python3"
  },
  "language_info": {
   "codemirror_mode": {
    "name": "ipython",
    "version": 3
   },
   "file_extension": ".py",
   "mimetype": "text/x-python",
   "name": "python",
   "nbconvert_exporter": "python",
   "pygments_lexer": "ipython3",
   "version": "3.12.8"
  }
 },
 "nbformat": 4,
 "nbformat_minor": 5
}
