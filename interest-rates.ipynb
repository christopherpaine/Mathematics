{
 "cells": [
  {
   "cell_type": "code",
   "execution_count": 1,
   "id": "2087d72a",
   "metadata": {
    "execution": {
     "iopub.execute_input": "2025-07-30T20:41:45.404599Z",
     "iopub.status.busy": "2025-07-30T20:41:45.403602Z",
     "iopub.status.idle": "2025-07-30T20:41:45.952433Z",
     "shell.execute_reply": "2025-07-30T20:41:45.951911Z"
    }
   },
   "outputs": [],
   "source": [
    "# imports\n",
    "from IPython.display import display, Markdown, HTML, SVG\n",
    "import numpy as np\n",
    "import matplotlib.pyplot as plt\n",
    "import pandas as pd\n",
    "from io import StringIO\n",
    "import notation as ntn"
   ]
  },
  {
   "cell_type": "code",
   "execution_count": 2,
   "id": "2a190a4f",
   "metadata": {
    "execution": {
     "iopub.execute_input": "2025-07-30T20:41:45.954516Z",
     "iopub.status.busy": "2025-07-30T20:41:45.954275Z",
     "iopub.status.idle": "2025-07-30T20:41:45.959624Z",
     "shell.execute_reply": "2025-07-30T20:41:45.959283Z"
    }
   },
   "outputs": [
    {
     "data": {
      "text/html": [
       "  <style>  .circle {\n",
       "    width: 28px;\n",
       "    height: 28px;\n",
       "    border-radius: 50%;\n",
       "    background-color: #444;\n",
       "    color: #fff;\n",
       "    text-align: center;\n",
       "    line-height: 28px;\n",
       "    font-weight: bold;\n",
       "    margin-left: 10px;\n",
       "    flex-shrink: 0;\n",
       "    }</style>\n",
       "     "
      ],
      "text/plain": [
       "<IPython.core.display.HTML object>"
      ]
     },
     "execution_count": 2,
     "metadata": {},
     "output_type": "execute_result"
    }
   ],
   "source": [
    "HTML(\"\"\"  <style>  .circle {\n",
    "    width: 28px;\n",
    "    height: 28px;\n",
    "    border-radius: 50%;\n",
    "    background-color: #444;\n",
    "    color: #fff;\n",
    "    text-align: center;\n",
    "    line-height: 28px;\n",
    "    font-weight: bold;\n",
    "    margin-left: 10px;\n",
    "    flex-shrink: 0;\n",
    "    }</style>\n",
    "     \"\"\"\n",
    ")\n",
    "\n",
    "\n",
    "\n",
    "\n",
    "\n"
   ]
  },
  {
   "cell_type": "code",
   "execution_count": 3,
   "id": "906aaa9d",
   "metadata": {
    "execution": {
     "iopub.execute_input": "2025-07-30T20:41:45.961197Z",
     "iopub.status.busy": "2025-07-30T20:41:45.960950Z",
     "iopub.status.idle": "2025-07-30T20:41:45.964197Z",
     "shell.execute_reply": "2025-07-30T20:41:45.963852Z"
    },
    "lines_to_next_cell": 2
   },
   "outputs": [
    {
     "ename": "SyntaxError",
     "evalue": "invalid syntax. Perhaps you forgot a comma? (3162114568.py, line 8)",
     "output_type": "error",
     "traceback": [
      "\u001b[0;36m  Cell \u001b[0;32mIn[3], line 8\u001b[0;36m\u001b[0m\n\u001b[0;31m    display(HTML(ntn.eqn_spt_rate_forward_rate + \"<div class=\"circle\">3</div>\"))\u001b[0m\n\u001b[0m                 ^\u001b[0m\n\u001b[0;31mSyntaxError\u001b[0m\u001b[0;31m:\u001b[0m invalid syntax. Perhaps you forgot a comma?\n"
     ]
    }
   ],
   "source": [
    "display(HTML(\"<h1>Interest Rates</h1>\"))\n",
    "display(HTML(\"<h2>Zero Coupon Bond</h2>\"))\n",
    "display(HTML(ntn.not_zero_coupon_bond_price))\n",
    "display(HTML(ntn.eqn_zero_coupon_price_spot_rate))\n",
    "display(HTML(\"<h2>Spot Rate</h2>\"))\n",
    "display(HTML(ntn.not_spot_rate))\n",
    "display(HTML(ntn.eqn_spot_rate_zero_coupon_price))\n",
    "display(HTML(ntn.eqn_spt_rate_forward_rate + \"<div class=\"circle\">3</div>\"))\n",
    "display(HTML(\"<h2>forward rate</h2>\"))\n",
    "display(HTML(ntn.not_forward_rate + \" is the forward rate at time t for delivery between T and S\"))\n",
    "\n",
    "\n",
    "\n",
    "\n"
   ]
  }
 ],
 "metadata": {
  "jupytext": {
   "formats": "ipynb,py:percent,md"
  },
  "kernelspec": {
   "display_name": "Python 3 (ipykernel)",
   "language": "python",
   "name": "python3"
  },
  "language_info": {
   "codemirror_mode": {
    "name": "ipython",
    "version": 3
   },
   "file_extension": ".py",
   "mimetype": "text/x-python",
   "name": "python",
   "nbconvert_exporter": "python",
   "pygments_lexer": "ipython3",
   "version": "3.12.8"
  }
 },
 "nbformat": 4,
 "nbformat_minor": 5
}
