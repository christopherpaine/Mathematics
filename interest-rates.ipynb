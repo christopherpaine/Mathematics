{
 "cells": [
  {
   "cell_type": "code",
   "execution_count": 1,
   "id": "2087d72a",
   "metadata": {
    "execution": {
     "iopub.execute_input": "2025-07-30T19:12:12.126457Z",
     "iopub.status.busy": "2025-07-30T19:12:12.126115Z",
     "iopub.status.idle": "2025-07-30T19:12:12.662663Z",
     "shell.execute_reply": "2025-07-30T19:12:12.662159Z"
    }
   },
   "outputs": [],
   "source": [
    "# imports\n",
    "from IPython.display import display, Markdown, HTML, SVG\n",
    "import numpy as np\n",
    "import matplotlib.pyplot as plt\n",
    "import pandas as pd\n",
    "from io import StringIO\n",
    "import notation as ntn"
   ]
  },
  {
   "cell_type": "code",
   "execution_count": 2,
   "id": "906aaa9d",
   "metadata": {
    "execution": {
     "iopub.execute_input": "2025-07-30T19:12:12.664742Z",
     "iopub.status.busy": "2025-07-30T19:12:12.664426Z",
     "iopub.status.idle": "2025-07-30T19:12:12.671263Z",
     "shell.execute_reply": "2025-07-30T19:12:12.670918Z"
    },
    "lines_to_next_cell": 2
   },
   "outputs": [
    {
     "data": {
      "text/html": [
       "<h2>Interest Rates</h2>"
      ],
      "text/plain": [
       "<IPython.core.display.HTML object>"
      ]
     },
     "metadata": {},
     "output_type": "display_data"
    },
    {
     "data": {
      "text/html": [
       "<h2>forward rate</h2>"
      ],
      "text/plain": [
       "<IPython.core.display.HTML object>"
      ]
     },
     "metadata": {},
     "output_type": "display_data"
    },
    {
     "data": {
      "text/html": [
       "\\(F(t,S,T)\\) is the forward rate at time t for delivery between T and S"
      ],
      "text/plain": [
       "<IPython.core.display.HTML object>"
      ]
     },
     "metadata": {},
     "output_type": "display_data"
    }
   ],
   "source": [
    "display(HTML(\"<h2>Interest Rates</h2>\"))\n",
    "display(HTML(\"<h2>forward rate</h2>\"))\n",
    "display(HTML(ntn.not_forward_rate + \" is the forward rate at time t for delivery between T and S\"))\n",
    "\n",
    "\n"
   ]
  }
 ],
 "metadata": {
  "jupytext": {
   "formats": "ipynb,py:percent,md"
  },
  "kernelspec": {
   "display_name": "Python 3 (ipykernel)",
   "language": "python",
   "name": "python3"
  },
  "language_info": {
   "codemirror_mode": {
    "name": "ipython",
    "version": 3
   },
   "file_extension": ".py",
   "mimetype": "text/x-python",
   "name": "python",
   "nbconvert_exporter": "python",
   "pygments_lexer": "ipython3",
   "version": "3.12.8"
  }
 },
 "nbformat": 4,
 "nbformat_minor": 5
}
