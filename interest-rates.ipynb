{
 "cells": [
  {
   "cell_type": "code",
   "execution_count": 1,
   "id": "2087d72a",
   "metadata": {
    "execution": {
     "iopub.execute_input": "2025-07-30T17:08:18.674069Z",
     "iopub.status.busy": "2025-07-30T17:08:18.673550Z",
     "iopub.status.idle": "2025-07-30T17:08:19.223936Z",
     "shell.execute_reply": "2025-07-30T17:08:19.223331Z"
    }
   },
   "outputs": [],
   "source": [
    "# imports\n",
    "from IPython.display import display, Markdown, HTML, SVG\n",
    "import numpy as np\n",
    "import matplotlib.pyplot as plt\n",
    "import pandas as pd\n",
    "from io import StringIO\n",
    "import notation as ntn"
   ]
  },
  {
   "cell_type": "code",
   "execution_count": 2,
   "id": "906aaa9d",
   "metadata": {
    "execution": {
     "iopub.execute_input": "2025-07-30T17:08:19.226461Z",
     "iopub.status.busy": "2025-07-30T17:08:19.226217Z",
     "iopub.status.idle": "2025-07-30T17:08:19.403990Z",
     "shell.execute_reply": "2025-07-30T17:08:19.403609Z"
    },
    "lines_to_next_cell": 3
   },
   "outputs": [
    {
     "ename": "AttributeError",
     "evalue": "module 'notation' has no attribute 'not_foward_rate'",
     "output_type": "error",
     "traceback": [
      "\u001b[0;31m---------------------------------------------------------------------------\u001b[0m",
      "\u001b[0;31mAttributeError\u001b[0m                            Traceback (most recent call last)",
      "Cell \u001b[0;32mIn[2], line 1\u001b[0m\n\u001b[0;32m----> 1\u001b[0m display(HTML(\u001b[43mntn\u001b[49m\u001b[38;5;241;43m.\u001b[39;49m\u001b[43mnot_foward_rate\u001b[49m \u001b[38;5;241m+\u001b[39m \u001b[38;5;124m\"\u001b[39m\u001b[38;5;124mis the forward rate at time t for delivery between T and S\u001b[39m\u001b[38;5;124m\"\u001b[39m))\n",
      "\u001b[0;31mAttributeError\u001b[0m: module 'notation' has no attribute 'not_foward_rate'"
     ]
    }
   ],
   "source": [
    "display(HTML(ntn.not_foward_rate + \"is the forward rate at time t for delivery between T and S\"))"
   ]
  }
 ],
 "metadata": {
  "jupytext": {
   "formats": "ipynb,py:percent,md"
  },
  "kernelspec": {
   "display_name": "Python 3 (ipykernel)",
   "language": "python",
   "name": "python3"
  },
  "language_info": {
   "codemirror_mode": {
    "name": "ipython",
    "version": 3
   },
   "file_extension": ".py",
   "mimetype": "text/x-python",
   "name": "python",
   "nbconvert_exporter": "python",
   "pygments_lexer": "ipython3",
   "version": "3.12.8"
  }
 },
 "nbformat": 4,
 "nbformat_minor": 5
}
