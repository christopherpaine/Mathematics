{
 "cells": [
  {
   "cell_type": "code",
   "execution_count": 1,
   "id": "2087d72a",
   "metadata": {
    "execution": {
     "iopub.execute_input": "2025-07-30T20:42:49.126005Z",
     "iopub.status.busy": "2025-07-30T20:42:49.125822Z",
     "iopub.status.idle": "2025-07-30T20:42:49.675687Z",
     "shell.execute_reply": "2025-07-30T20:42:49.675183Z"
    }
   },
   "outputs": [],
   "source": [
    "# imports\n",
    "from IPython.display import display, Markdown, HTML, SVG\n",
    "import numpy as np\n",
    "import matplotlib.pyplot as plt\n",
    "import pandas as pd\n",
    "from io import StringIO\n",
    "import notation as ntn"
   ]
  },
  {
   "cell_type": "code",
   "execution_count": 2,
   "id": "2a190a4f",
   "metadata": {
    "execution": {
     "iopub.execute_input": "2025-07-30T20:42:49.677796Z",
     "iopub.status.busy": "2025-07-30T20:42:49.677478Z",
     "iopub.status.idle": "2025-07-30T20:42:49.682844Z",
     "shell.execute_reply": "2025-07-30T20:42:49.682503Z"
    }
   },
   "outputs": [
    {
     "data": {
      "text/html": [
       "  <style>  .circle {\n",
       "    width: 28px;\n",
       "    height: 28px;\n",
       "    border-radius: 50%;\n",
       "    background-color: #444;\n",
       "    color: #fff;\n",
       "    text-align: center;\n",
       "    line-height: 28px;\n",
       "    font-weight: bold;\n",
       "    margin-left: 10px;\n",
       "    flex-shrink: 0;\n",
       "    }</style>\n",
       "     "
      ],
      "text/plain": [
       "<IPython.core.display.HTML object>"
      ]
     },
     "execution_count": 2,
     "metadata": {},
     "output_type": "execute_result"
    }
   ],
   "source": [
    "HTML(\"\"\"  <style>  .circle {\n",
    "    width: 28px;\n",
    "    height: 28px;\n",
    "    border-radius: 50%;\n",
    "    background-color: #444;\n",
    "    color: #fff;\n",
    "    text-align: center;\n",
    "    line-height: 28px;\n",
    "    font-weight: bold;\n",
    "    margin-left: 10px;\n",
    "    flex-shrink: 0;\n",
    "    }</style>\n",
    "     \"\"\"\n",
    ")\n",
    "\n",
    "\n",
    "\n",
    "\n",
    "\n"
   ]
  },
  {
   "cell_type": "code",
   "execution_count": 3,
   "id": "906aaa9d",
   "metadata": {
    "execution": {
     "iopub.execute_input": "2025-07-30T20:42:49.684406Z",
     "iopub.status.busy": "2025-07-30T20:42:49.684258Z",
     "iopub.status.idle": "2025-07-30T20:42:49.696118Z",
     "shell.execute_reply": "2025-07-30T20:42:49.695773Z"
    },
    "lines_to_next_cell": 2
   },
   "outputs": [
    {
     "data": {
      "text/html": [
       "<h1>Interest Rates</h1>"
      ],
      "text/plain": [
       "<IPython.core.display.HTML object>"
      ]
     },
     "metadata": {},
     "output_type": "display_data"
    },
    {
     "data": {
      "text/html": [
       "<h2>Zero Coupon Bond</h2>"
      ],
      "text/plain": [
       "<IPython.core.display.HTML object>"
      ]
     },
     "metadata": {},
     "output_type": "display_data"
    },
    {
     "data": {
      "text/html": [
       "\\(B(t,T)\\)"
      ],
      "text/plain": [
       "<IPython.core.display.HTML object>"
      ]
     },
     "metadata": {},
     "output_type": "display_data"
    },
    {
     "data": {
      "text/html": [
       "\\(B(t,T)= \\exp{(T-t)B(t,T)} \\forall \\, t < T\\)"
      ],
      "text/plain": [
       "<IPython.core.display.HTML object>"
      ]
     },
     "metadata": {},
     "output_type": "display_data"
    },
    {
     "data": {
      "text/html": [
       "<h2>Spot Rate</h2>"
      ],
      "text/plain": [
       "<IPython.core.display.HTML object>"
      ]
     },
     "metadata": {},
     "output_type": "display_data"
    },
    {
     "data": {
      "text/html": [
       "\\(R(t,t)\\)"
      ],
      "text/plain": [
       "<IPython.core.display.HTML object>"
      ]
     },
     "metadata": {},
     "output_type": "display_data"
    },
    {
     "data": {
      "text/html": [
       "\\(R(t,T)= \\frac{-1}{T-t}\\log{B(t,T)} \\forall \\, t < T\\)"
      ],
      "text/plain": [
       "<IPython.core.display.HTML object>"
      ]
     },
     "metadata": {},
     "output_type": "display_data"
    },
    {
     "data": {
      "text/html": [
       "\\((1 + R(t, T))^{T-t} = (1 + R(t, T - 1))^{T - t-1} \\cdot (1 + F(t, T - 1, T))\\)"
      ],
      "text/plain": [
       "<IPython.core.display.HTML object>"
      ]
     },
     "metadata": {},
     "output_type": "display_data"
    },
    {
     "data": {
      "text/html": [
       "<h2>forward rate</h2>"
      ],
      "text/plain": [
       "<IPython.core.display.HTML object>"
      ]
     },
     "metadata": {},
     "output_type": "display_data"
    },
    {
     "data": {
      "text/html": [
       "\\(F(t,S,T)\\) is the forward rate at time t for delivery between T and S"
      ],
      "text/plain": [
       "<IPython.core.display.HTML object>"
      ]
     },
     "metadata": {},
     "output_type": "display_data"
    }
   ],
   "source": [
    "display(HTML(\"<h1>Interest Rates</h1>\"))\n",
    "display(HTML(\"<h2>Zero Coupon Bond</h2>\"))\n",
    "display(HTML(ntn.not_zero_coupon_bond_price))\n",
    "display(HTML(ntn.eqn_zero_coupon_price_spot_rate))\n",
    "display(HTML(\"<h2>Spot Rate</h2>\"))\n",
    "display(HTML(ntn.not_spot_rate))\n",
    "display(HTML(ntn.eqn_spot_rate_zero_coupon_price))\n",
    "display(HTML(ntn.eqn_spt_rate_forward_rate ))\n",
    "display(HTML(\"<h2>forward rate</h2>\"))\n",
    "display(HTML(ntn.not_forward_rate + \" is the forward rate at time t for delivery between T and S\"))\n",
    "\n",
    "\n",
    "\n",
    "\n"
   ]
  }
 ],
 "metadata": {
  "jupytext": {
   "formats": "ipynb,py:percent,md"
  },
  "kernelspec": {
   "display_name": "Python 3 (ipykernel)",
   "language": "python",
   "name": "python3"
  },
  "language_info": {
   "codemirror_mode": {
    "name": "ipython",
    "version": 3
   },
   "file_extension": ".py",
   "mimetype": "text/x-python",
   "name": "python",
   "nbconvert_exporter": "python",
   "pygments_lexer": "ipython3",
   "version": "3.12.8"
  }
 },
 "nbformat": 4,
 "nbformat_minor": 5
}
