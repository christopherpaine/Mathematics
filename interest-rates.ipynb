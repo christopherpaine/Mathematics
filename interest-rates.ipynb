{
 "cells": [
  {
   "cell_type": "code",
   "execution_count": 1,
   "id": "2087d72a",
   "metadata": {
    "execution": {
     "iopub.execute_input": "2025-07-30T19:41:18.111932Z",
     "iopub.status.busy": "2025-07-30T19:41:18.111211Z",
     "iopub.status.idle": "2025-07-30T19:41:18.677721Z",
     "shell.execute_reply": "2025-07-30T19:41:18.677135Z"
    }
   },
   "outputs": [],
   "source": [
    "# imports\n",
    "from IPython.display import display, Markdown, HTML, SVG\n",
    "import numpy as np\n",
    "import matplotlib.pyplot as plt\n",
    "import pandas as pd\n",
    "from io import StringIO\n",
    "import notation as ntn"
   ]
  },
  {
   "cell_type": "code",
   "execution_count": null,
   "id": "2a190a4f",
   "metadata": {},
   "outputs": [],
   "source": [
    "\n",
    "\n",
    "\n",
    "\n",
    "\n",
    "\n",
    "\n"
   ]
  },
  {
   "cell_type": "code",
   "execution_count": 2,
   "id": "906aaa9d",
   "metadata": {
    "execution": {
     "iopub.execute_input": "2025-07-30T19:41:18.679937Z",
     "iopub.status.busy": "2025-07-30T19:41:18.679697Z",
     "iopub.status.idle": "2025-07-30T19:41:18.859697Z",
     "shell.execute_reply": "2025-07-30T19:41:18.859248Z"
    },
    "lines_to_next_cell": 2
   },
   "outputs": [
    {
     "data": {
      "text/html": [
       "<h1>Interest Rates</h1>"
      ],
      "text/plain": [
       "<IPython.core.display.HTML object>"
      ]
     },
     "metadata": {},
     "output_type": "display_data"
    },
    {
     "data": {
      "text/html": [
       "<h2>Zero Coupon Bond</h2>"
      ],
      "text/plain": [
       "<IPython.core.display.HTML object>"
      ]
     },
     "metadata": {},
     "output_type": "display_data"
    },
    {
     "data": {
      "text/html": [
       "\\(B(t,T)\\)"
      ],
      "text/plain": [
       "<IPython.core.display.HTML object>"
      ]
     },
     "metadata": {},
     "output_type": "display_data"
    },
    {
     "ename": "NameError",
     "evalue": "name 'eqn_zero_coupon_price_spot_rate' is not defined",
     "output_type": "error",
     "traceback": [
      "\u001b[0;31m---------------------------------------------------------------------------\u001b[0m",
      "\u001b[0;31mNameError\u001b[0m                                 Traceback (most recent call last)",
      "Cell \u001b[0;32mIn[2], line 4\u001b[0m\n\u001b[1;32m      2\u001b[0m display(HTML(\u001b[38;5;124m\"\u001b[39m\u001b[38;5;124m<h2>Zero Coupon Bond</h2>\u001b[39m\u001b[38;5;124m\"\u001b[39m))\n\u001b[1;32m      3\u001b[0m display(HTML(ntn\u001b[38;5;241m.\u001b[39mnot_zero_coupon_bond_price))\n\u001b[0;32m----> 4\u001b[0m display(HTML(\u001b[43meqn_zero_coupon_price_spot_rate\u001b[49m))\n\u001b[1;32m      5\u001b[0m display(HTML(\u001b[38;5;124m\"\u001b[39m\u001b[38;5;124m<h2>Spot Rate</h2>\u001b[39m\u001b[38;5;124m\"\u001b[39m))\n\u001b[1;32m      6\u001b[0m display(HTML(ntn\u001b[38;5;241m.\u001b[39mnot_spot_rate))\n",
      "\u001b[0;31mNameError\u001b[0m: name 'eqn_zero_coupon_price_spot_rate' is not defined"
     ]
    }
   ],
   "source": [
    "display(HTML(\"<h1>Interest Rates</h1>\"))\n",
    "display(HTML(\"<h2>Zero Coupon Bond</h2>\"))\n",
    "display(HTML(ntn.not_zero_coupon_bond_price))\n",
    "display(HTML(eqn_zero_coupon_price_spot_rate))\n",
    "display(HTML(\"<h2>Spot Rate</h2>\"))\n",
    "display(HTML(ntn.not_spot_rate))\n",
    "display(HTML(ntn.eqn_spot_rate_zero_coupon_price))\n",
    "display(HTML(\"<h2>forward rate</h2>\"))\n",
    "display(HTML(ntn.not_forward_rate + \" is the forward rate at time t for delivery between T and S\"))\n",
    "\n",
    "\n",
    "\n"
   ]
  }
 ],
 "metadata": {
  "jupytext": {
   "formats": "ipynb,py:percent,md"
  },
  "kernelspec": {
   "display_name": "Python 3 (ipykernel)",
   "language": "python",
   "name": "python3"
  },
  "language_info": {
   "codemirror_mode": {
    "name": "ipython",
    "version": 3
   },
   "file_extension": ".py",
   "mimetype": "text/x-python",
   "name": "python",
   "nbconvert_exporter": "python",
   "pygments_lexer": "ipython3",
   "version": "3.12.8"
  }
 },
 "nbformat": 4,
 "nbformat_minor": 5
}
