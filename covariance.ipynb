{
 "cells": [
  {
   "cell_type": "code",
   "execution_count": 1,
   "id": "8d4cd04e",
   "metadata": {
    "execution": {
     "iopub.execute_input": "2025-07-29T18:07:32.992886Z",
     "iopub.status.busy": "2025-07-29T18:07:32.992593Z",
     "iopub.status.idle": "2025-07-29T18:07:33.458475Z",
     "shell.execute_reply": "2025-07-29T18:07:33.457932Z"
    },
    "lines_to_next_cell": 2
   },
   "outputs": [],
   "source": [
    "# imports\n",
    "from IPython.display import display, Markdown, HTML, SVG\n",
    "import numpy as np\n",
    "import matplotlib.pyplot as plt\n",
    "import pandas as pd\n",
    "from io import StringIO"
   ]
  },
  {
   "cell_type": "code",
   "execution_count": 2,
   "id": "eba4944a",
   "metadata": {
    "execution": {
     "iopub.execute_input": "2025-07-29T18:07:33.460366Z",
     "iopub.status.busy": "2025-07-29T18:07:33.460129Z",
     "iopub.status.idle": "2025-07-29T18:07:33.463039Z",
     "shell.execute_reply": "2025-07-29T18:07:33.462636Z"
    }
   },
   "outputs": [],
   "source": [
    "wrd_covariance = \"\"\"\n",
    "<h1>\n",
    "covariance\n",
    "</h1>\n",
    "\n",
    "<h2>\n",
    "                 Observed Covariance vs. Theoretical Covariance                 \n",
    "</h2>\n",
    "\n",
    "<p>Observed Covariance is calculated directly from a dataset. It measures how two  \n",
    "variables change together in a specific sample. This is an empirical measure and\n",
    "can be influenced by sample size, outliers, and sampling method.                </p>\n",
    "\n",
    "<p>Theoretical Covariance, on the other hand, is derived from the probability      \n",
    "distributions of random variables. It is a parameter of the joint distribution  \n",
    "and represents the expected value of the product of the deviations of two random\n",
    "variables from their means. This is a more abstract concept and is used in      \n",
    "theoretical models to predict relationships between variables.                  \n",
    "</p>\n",
    "\n",
    "<p>\n",
    "In summary, observed covariance is data-driven, while theoretical covariance is \n",
    "model-driven.                                                                   \n",
    "</p>\n",
    "\"\"\"\n",
    "\n"
   ]
  },
  {
   "cell_type": "code",
   "execution_count": 3,
   "id": "cacd984c",
   "metadata": {
    "execution": {
     "iopub.execute_input": "2025-07-29T18:07:33.464508Z",
     "iopub.status.busy": "2025-07-29T18:07:33.464339Z",
     "iopub.status.idle": "2025-07-29T18:07:33.469259Z",
     "shell.execute_reply": "2025-07-29T18:07:33.468939Z"
    },
    "lines_to_next_cell": 2
   },
   "outputs": [
    {
     "data": {
      "text/html": [
       "\n",
       "<h1>\n",
       "covariance\n",
       "</h1>\n",
       "\n",
       "<h2>\n",
       "                 Observed Covariance vs. Theoretical Covariance                 \n",
       "</h2>\n",
       "\n",
       "<p>Observed Covariance is calculated directly from a dataset. It measures how two  \n",
       "variables change together in a specific sample. This is an empirical measure and\n",
       "can be influenced by sample size, outliers, and sampling method.                </p>\n",
       "\n",
       "<p>Theoretical Covariance, on the other hand, is derived from the probability      \n",
       "distributions of random variables. It is a parameter of the joint distribution  \n",
       "and represents the expected value of the product of the deviations of two random\n",
       "variables from their means. This is a more abstract concept and is used in      \n",
       "theoretical models to predict relationships between variables.                  \n",
       "</p>\n",
       "\n",
       "<p>\n",
       "In summary, observed covariance is data-driven, while theoretical covariance is \n",
       "model-driven.                                                                   \n",
       "</p>\n"
      ],
      "text/plain": [
       "<IPython.core.display.HTML object>"
      ]
     },
     "metadata": {},
     "output_type": "display_data"
    }
   ],
   "source": [
    "display(HTML(wrd_covariance))\n",
    "\n",
    "\n",
    "\n",
    "\n",
    "\n",
    "\n",
    "\n",
    "\n",
    "\n"
   ]
  }
 ],
 "metadata": {
  "jupytext": {
   "formats": "ipynb,py:percent,md"
  },
  "kernelspec": {
   "display_name": "Python 3 (ipykernel)",
   "language": "python",
   "name": "python3"
  },
  "language_info": {
   "codemirror_mode": {
    "name": "ipython",
    "version": 3
   },
   "file_extension": ".py",
   "mimetype": "text/x-python",
   "name": "python",
   "nbconvert_exporter": "python",
   "pygments_lexer": "ipython3",
   "version": "3.13.4"
  }
 },
 "nbformat": 4,
 "nbformat_minor": 5
}
