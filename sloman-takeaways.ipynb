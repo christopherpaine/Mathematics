{
 "cells": [
  {
   "cell_type": "code",
   "execution_count": 1,
   "id": "87a98482",
   "metadata": {
    "execution": {
     "iopub.execute_input": "2025-08-01T12:07:31.911250Z",
     "iopub.status.busy": "2025-08-01T12:07:31.911084Z",
     "iopub.status.idle": "2025-08-01T12:07:32.530543Z",
     "shell.execute_reply": "2025-08-01T12:07:32.529831Z"
    },
    "lines_to_next_cell": 2
   },
   "outputs": [],
   "source": [
    "# imports\n",
    "from IPython.display import display, Markdown, HTML, SVG\n",
    "import numpy as np\n",
    "import matplotlib.pyplot as plt\n",
    "import pandas as pd\n",
    "from io import StringIO\n",
    "import notation as ntn\n",
    "import functions as fnc\n",
    "import takeaways as tka"
   ]
  },
  {
   "cell_type": "code",
   "execution_count": 2,
   "id": "ef45bf49",
   "metadata": {
    "execution": {
     "iopub.execute_input": "2025-08-01T12:07:32.532982Z",
     "iopub.status.busy": "2025-08-01T12:07:32.532619Z",
     "iopub.status.idle": "2025-08-01T12:07:32.535873Z",
     "shell.execute_reply": "2025-08-01T12:07:32.535485Z"
    },
    "lines_to_next_cell": 2
   },
   "outputs": [],
   "source": [
    "tka.f_css()"
   ]
  },
  {
   "cell_type": "code",
   "execution_count": 3,
   "id": "977d46f4",
   "metadata": {
    "execution": {
     "iopub.execute_input": "2025-08-01T12:07:32.537443Z",
     "iopub.status.busy": "2025-08-01T12:07:32.537265Z",
     "iopub.status.idle": "2025-08-01T12:07:32.540596Z",
     "shell.execute_reply": "2025-08-01T12:07:32.540152Z"
    }
   },
   "outputs": [],
   "source": [
    "# GRAMMAR STATEMENTS \n",
    "grm_national_income = \"national income is value of nations output per year\"\n",
    "grm_stock_and_flow= \"national income is a flow concept.  money supply is a stock concept\"\n",
    "grm_3_functions_money = \"3 functions of money: store of wealth; medium of exchange;means of evaluation; means of establishing future value\"\n",
    "grm_financial_intermediaries = \"Financial intermediaries The general name for financial institutions (banks, building societies, etc.) which act as a means of channelling funds from depositors to borrowers.\"\n",
    "grm_matruity_transformation = \"This process whereby financial intermediaries lend for longer periods of time than they borrow is known as maturity transformation .\"\n",
    "grm_risk_transformation = \"risk transformation enabled by pooling of risk\"\n",
    "grm_functional_separation = \"functional separation of retail and wholesale banking, such as by enforcing a ringfence between the different divisions of a financial institution.\"\n",
    "grm_regulation_on_functional_separation = \"The ring-fencing of UK banking groups with more than £25 billion of core retail deposits became effective from January 2019.\"\n",
    "grm_ring_fenced_banks = \"Banks which are functionally separated from the rest of their groups are known as ring-fenced banks or RFBs.\"\n",
    "\n",
    "\n",
    "\n"
   ]
  },
  {
   "cell_type": "code",
   "execution_count": 4,
   "id": "3816794b",
   "metadata": {
    "execution": {
     "iopub.execute_input": "2025-08-01T12:07:32.542016Z",
     "iopub.status.busy": "2025-08-01T12:07:32.541853Z",
     "iopub.status.idle": "2025-08-01T12:07:32.544174Z",
     "shell.execute_reply": "2025-08-01T12:07:32.543817Z"
    }
   },
   "outputs": [],
   "source": [
    "# LOGIC LISTS\n",
    "lgc_risk_maturity_transformation = [\n",
    "\"maturity transformation creates risk for financial intermediaries\", \n",
    "\"mismatch of assets and liabilities on their balance sheet\",\n",
    "\"risk needs managing\",\n",
    "\n",
    "]"
   ]
  },
  {
   "cell_type": "code",
   "execution_count": 5,
   "id": "27dc89a7",
   "metadata": {
    "execution": {
     "iopub.execute_input": "2025-08-01T12:07:32.545833Z",
     "iopub.status.busy": "2025-08-01T12:07:32.545622Z",
     "iopub.status.idle": "2025-08-01T12:07:32.563080Z",
     "shell.execute_reply": "2025-08-01T12:07:32.562615Z"
    }
   },
   "outputs": [
    {
     "data": {
      "text/html": [
       "<h1>Rough notes on Sloman Economics Banking Money and Interest Rates section</h1>"
      ],
      "text/plain": [
       "<IPython.core.display.HTML object>"
      ]
     },
     "metadata": {},
     "output_type": "display_data"
    },
    {
     "data": {
      "text/html": [
       "<h2>grammar</h2>"
      ],
      "text/plain": [
       "<IPython.core.display.HTML object>"
      ]
     },
     "metadata": {},
     "output_type": "display_data"
    },
    {
     "data": {
      "text/html": [
       "national income is value of nations output per year"
      ],
      "text/plain": [
       "<IPython.core.display.HTML object>"
      ]
     },
     "metadata": {},
     "output_type": "display_data"
    },
    {
     "data": {
      "text/html": [
       "national income is a flow concept.  money supply is a stock concept"
      ],
      "text/plain": [
       "<IPython.core.display.HTML object>"
      ]
     },
     "metadata": {},
     "output_type": "display_data"
    },
    {
     "data": {
      "text/html": [
       "3 functions of money: store of wealth; medium of exchange;means of evaluation; means of establishing future value"
      ],
      "text/plain": [
       "<IPython.core.display.HTML object>"
      ]
     },
     "metadata": {},
     "output_type": "display_data"
    },
    {
     "data": {
      "text/html": [
       "Financial intermediaries The general name for financial institutions (banks, building societies, etc.) which act as a means of channelling funds from depositors to borrowers."
      ],
      "text/plain": [
       "<IPython.core.display.HTML object>"
      ]
     },
     "metadata": {},
     "output_type": "display_data"
    },
    {
     "data": {
      "text/html": [
       "This process whereby financial intermediaries lend for longer periods of time than they borrow is known as maturity transformation ."
      ],
      "text/plain": [
       "<IPython.core.display.HTML object>"
      ]
     },
     "metadata": {},
     "output_type": "display_data"
    },
    {
     "data": {
      "text/html": [
       "risk transformation enabled by pooling of risk"
      ],
      "text/plain": [
       "<IPython.core.display.HTML object>"
      ]
     },
     "metadata": {},
     "output_type": "display_data"
    },
    {
     "data": {
      "text/html": [
       "functional separation of retail and wholesale banking, such as by enforcing a ringfence between the different divisions of a financial institution."
      ],
      "text/plain": [
       "<IPython.core.display.HTML object>"
      ]
     },
     "metadata": {},
     "output_type": "display_data"
    },
    {
     "data": {
      "text/html": [
       "The ring-fencing of UK banking groups with more than £25 billion of core retail deposits became effective from January 2019."
      ],
      "text/plain": [
       "<IPython.core.display.HTML object>"
      ]
     },
     "metadata": {},
     "output_type": "display_data"
    },
    {
     "data": {
      "text/html": [
       "Banks which are functionally separated from the rest of their groups are known as ring-fenced banks or RFBs."
      ],
      "text/plain": [
       "<IPython.core.display.HTML object>"
      ]
     },
     "metadata": {},
     "output_type": "display_data"
    },
    {
     "data": {
      "text/html": [
       "<h2>logic</h2>"
      ],
      "text/plain": [
       "<IPython.core.display.HTML object>"
      ]
     },
     "metadata": {},
     "output_type": "display_data"
    },
    {
     "data": {
      "text/html": [
       "<h3>maturity transformation creates risk for financial intermediaries</h3>mismatch of assets and liabilities on their balance sheet<br>risk needs managing"
      ],
      "text/plain": [
       "<IPython.core.display.HTML object>"
      ]
     },
     "metadata": {},
     "output_type": "display_data"
    },
    {
     "data": {
      "text/html": [
       "<h2>rhetoric</h2>"
      ],
      "text/plain": [
       "<IPython.core.display.HTML object>"
      ]
     },
     "metadata": {},
     "output_type": "display_data"
    },
    {
     "data": {
      "text/html": [
       "It is generally recognised that changes in the amount of money can have a powerful effect on all the major macroeconomic indicators, such as inflation, unemployment, economic growth, interest rates, exchange rates and the balance of payments. "
      ],
      "text/plain": [
       "<IPython.core.display.HTML object>"
      ]
     },
     "metadata": {},
     "output_type": "display_data"
    }
   ],
   "source": [
    "# RHETORICAL STATEMENTS \n",
    "rht_changes_in_money = \"It is generally recognised that changes in the amount of money can have a powerful effect on all the major macroeconomic indicators, such as inflation, unemployment, economic growth, interest rates, exchange rates and the balance of payments. \"\n",
    "\n",
    "\n",
    "\n",
    "\n",
    "\n",
    "\n",
    "display(HTML(\"<h1>Rough notes on Sloman Economics Banking Money and Interest Rates section</h1>\"))\n",
    "tka.f_convert_string_vars_to_htmls(globals(),\"grm\",2,\"grammar\")\n",
    "display(HTML(\"<h2>logic</h2>\"))\n",
    "tka.f_display_html_with_heading(globals(),\"lgc\",3)\n",
    "tka.f_convert_string_vars_to_htmls(globals(),\"rht\",2,\"rhetoric\")"
   ]
  }
 ],
 "metadata": {
  "jupytext": {
   "formats": "ipynb,py:percent,md"
  },
  "kernelspec": {
   "display_name": "Python 3 (ipykernel)",
   "language": "python",
   "name": "python3"
  },
  "language_info": {
   "codemirror_mode": {
    "name": "ipython",
    "version": 3
   },
   "file_extension": ".py",
   "mimetype": "text/x-python",
   "name": "python",
   "nbconvert_exporter": "python",
   "pygments_lexer": "ipython3",
   "version": "3.13.4"
  }
 },
 "nbformat": 4,
 "nbformat_minor": 5
}
