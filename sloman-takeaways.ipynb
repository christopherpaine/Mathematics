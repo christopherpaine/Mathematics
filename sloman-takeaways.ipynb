{
 "cells": [
  {
   "cell_type": "code",
   "execution_count": 1,
   "id": "87a98482",
   "metadata": {
    "execution": {
     "iopub.execute_input": "2025-08-01T10:31:28.944483Z",
     "iopub.status.busy": "2025-08-01T10:31:28.944173Z",
     "iopub.status.idle": "2025-08-01T10:31:29.482108Z",
     "shell.execute_reply": "2025-08-01T10:31:29.481550Z"
    },
    "lines_to_next_cell": 2
   },
   "outputs": [],
   "source": [
    "# imports\n",
    "from IPython.display import display, Markdown, HTML, SVG\n",
    "import numpy as np\n",
    "import matplotlib.pyplot as plt\n",
    "import pandas as pd\n",
    "from io import StringIO\n",
    "import notation as ntn\n",
    "import functions as fnc\n",
    "import takeaways as tka"
   ]
  },
  {
   "cell_type": "code",
   "execution_count": 2,
   "id": "ef45bf49",
   "metadata": {
    "execution": {
     "iopub.execute_input": "2025-08-01T10:31:29.484027Z",
     "iopub.status.busy": "2025-08-01T10:31:29.483793Z",
     "iopub.status.idle": "2025-08-01T10:31:29.486186Z",
     "shell.execute_reply": "2025-08-01T10:31:29.485852Z"
    },
    "lines_to_next_cell": 2
   },
   "outputs": [],
   "source": [
    "tka.f_css()\n",
    "\n",
    "\n"
   ]
  }
 ],
 "metadata": {
  "jupytext": {
   "formats": "ipynb,py:percent,md"
  },
  "kernelspec": {
   "display_name": "Python 3 (ipykernel)",
   "language": "python",
   "name": "python3"
  },
  "language_info": {
   "codemirror_mode": {
    "name": "ipython",
    "version": 3
   },
   "file_extension": ".py",
   "mimetype": "text/x-python",
   "name": "python",
   "nbconvert_exporter": "python",
   "pygments_lexer": "ipython3",
   "version": "3.13.4"
  }
 },
 "nbformat": 4,
 "nbformat_minor": 5
}
