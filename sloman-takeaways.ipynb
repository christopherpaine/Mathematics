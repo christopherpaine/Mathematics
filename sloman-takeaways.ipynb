{
 "cells": [
  {
   "cell_type": "code",
   "execution_count": 1,
   "id": "87a98482",
   "metadata": {
    "execution": {
     "iopub.execute_input": "2025-08-01T10:44:41.457433Z",
     "iopub.status.busy": "2025-08-01T10:44:41.457018Z",
     "iopub.status.idle": "2025-08-01T10:44:42.119097Z",
     "shell.execute_reply": "2025-08-01T10:44:42.118581Z"
    },
    "lines_to_next_cell": 2
   },
   "outputs": [],
   "source": [
    "# imports\n",
    "from IPython.display import display, Markdown, HTML, SVG\n",
    "import numpy as np\n",
    "import matplotlib.pyplot as plt\n",
    "import pandas as pd\n",
    "from io import StringIO\n",
    "import notation as ntn\n",
    "import functions as fnc\n",
    "import takeaways as tka"
   ]
  },
  {
   "cell_type": "code",
   "execution_count": 2,
   "id": "ef45bf49",
   "metadata": {
    "execution": {
     "iopub.execute_input": "2025-08-01T10:44:42.121053Z",
     "iopub.status.busy": "2025-08-01T10:44:42.120811Z",
     "iopub.status.idle": "2025-08-01T10:44:42.123290Z",
     "shell.execute_reply": "2025-08-01T10:44:42.122919Z"
    },
    "lines_to_next_cell": 2
   },
   "outputs": [],
   "source": [
    "tka.f_css()"
   ]
  },
  {
   "cell_type": "code",
   "execution_count": 3,
   "id": "977d46f4",
   "metadata": {
    "execution": {
     "iopub.execute_input": "2025-08-01T10:44:42.125054Z",
     "iopub.status.busy": "2025-08-01T10:44:42.124765Z",
     "iopub.status.idle": "2025-08-01T10:44:42.126935Z",
     "shell.execute_reply": "2025-08-01T10:44:42.126586Z"
    }
   },
   "outputs": [],
   "source": [
    "# GRAMMAR STATEMENTS \n",
    "grm_national_income = \"national income is value of nations output per year\"\n",
    "grm_3_functions_money = \"3 functions of money: store of wealth; medium of exchange;means of evaluation; means of establishing future value\""
   ]
  },
  {
   "cell_type": "code",
   "execution_count": 4,
   "id": "3816794b",
   "metadata": {
    "execution": {
     "iopub.execute_input": "2025-08-01T10:44:42.128722Z",
     "iopub.status.busy": "2025-08-01T10:44:42.128472Z",
     "iopub.status.idle": "2025-08-01T10:44:42.138432Z",
     "shell.execute_reply": "2025-08-01T10:44:42.138077Z"
    }
   },
   "outputs": [
    {
     "data": {
      "text/html": [
       "<h1>Rough notes on Sloman Economics Banking Money and Interest Rates section</h1>"
      ],
      "text/plain": [
       "<IPython.core.display.HTML object>"
      ]
     },
     "metadata": {},
     "output_type": "display_data"
    },
    {
     "data": {
      "text/html": [
       "<h2>grammar</h2>"
      ],
      "text/plain": [
       "<IPython.core.display.HTML object>"
      ]
     },
     "metadata": {},
     "output_type": "display_data"
    },
    {
     "data": {
      "text/html": [
       "national income is value of nations output per year"
      ],
      "text/plain": [
       "<IPython.core.display.HTML object>"
      ]
     },
     "metadata": {},
     "output_type": "display_data"
    },
    {
     "data": {
      "text/html": [
       "3 functions of money: store of wealth; medium of exchange;means of evaluation; means of establishing future value"
      ],
      "text/plain": [
       "<IPython.core.display.HTML object>"
      ]
     },
     "metadata": {},
     "output_type": "display_data"
    },
    {
     "data": {
      "text/html": [
       "<h2>rhetoric</h2>"
      ],
      "text/plain": [
       "<IPython.core.display.HTML object>"
      ]
     },
     "metadata": {},
     "output_type": "display_data"
    },
    {
     "data": {
      "text/html": [
       "It is generally recognised that changes in the amount of money can have a powerful effect on all the major macroeconomic indicators, such as inflation, unemployment, economic growth, interest rates, exchange rates and the balance of payments. "
      ],
      "text/plain": [
       "<IPython.core.display.HTML object>"
      ]
     },
     "metadata": {},
     "output_type": "display_data"
    }
   ],
   "source": [
    "# RHETORICAL STATEMENTS \n",
    "rht_changes_in_money = \"It is generally recognised that changes in the amount of money can have a powerful effect on all the major macroeconomic indicators, such as inflation, unemployment, economic growth, interest rates, exchange rates and the balance of payments. \"\n",
    "\n",
    "\n",
    "\n",
    "\n",
    "\n",
    "\n",
    "display(HTML(\"<h1>Rough notes on Sloman Economics Banking Money and Interest Rates section</h1>\"))\n",
    "tka.f_convert_string_vars_to_htmls(globals(),\"grm\",2,\"grammar\")\n",
    "tka.f_convert_string_vars_to_htmls(globals(),\"rht\",2,\"rhetoric\")"
   ]
  }
 ],
 "metadata": {
  "jupytext": {
   "formats": "ipynb,py:percent,md"
  },
  "kernelspec": {
   "display_name": "Python 3 (ipykernel)",
   "language": "python",
   "name": "python3"
  },
  "language_info": {
   "codemirror_mode": {
    "name": "ipython",
    "version": 3
   },
   "file_extension": ".py",
   "mimetype": "text/x-python",
   "name": "python",
   "nbconvert_exporter": "python",
   "pygments_lexer": "ipython3",
   "version": "3.13.4"
  }
 },
 "nbformat": 4,
 "nbformat_minor": 5
}
