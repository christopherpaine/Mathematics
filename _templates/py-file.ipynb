{
 "cells": [
  {
   "cell_type": "code",
   "execution_count": 1,
   "id": "052a829e",
   "metadata": {
    "execution": {
     "iopub.execute_input": "2025-08-02T16:31:41.871763Z",
     "iopub.status.busy": "2025-08-02T16:31:41.871470Z",
     "iopub.status.idle": "2025-08-02T16:31:41.875612Z",
     "shell.execute_reply": "2025-08-02T16:31:41.874909Z"
    }
   },
   "outputs": [],
   "source": [
    "import sys\n",
    "import os\n",
    "\n"
   ]
  },
  {
   "cell_type": "code",
   "execution_count": 2,
   "id": "e0d661df",
   "metadata": {
    "execution": {
     "iopub.execute_input": "2025-08-02T16:31:41.878902Z",
     "iopub.status.busy": "2025-08-02T16:31:41.878121Z",
     "iopub.status.idle": "2025-08-02T16:31:41.881413Z",
     "shell.execute_reply": "2025-08-02T16:31:41.880973Z"
    }
   },
   "outputs": [],
   "source": [
    "sys.path.append(os.path.abspath(\"/home/chris-jakoolit/Mathematics/_templates\"))\n",
    "\n"
   ]
  },
  {
   "cell_type": "code",
   "execution_count": 3,
   "id": "f8ac8e55",
   "metadata": {
    "execution": {
     "iopub.execute_input": "2025-08-02T16:31:41.883700Z",
     "iopub.status.busy": "2025-08-02T16:31:41.883033Z",
     "iopub.status.idle": "2025-08-02T16:31:42.075497Z",
     "shell.execute_reply": "2025-08-02T16:31:42.075023Z"
    },
    "lines_to_next_cell": 2
   },
   "outputs": [
    {
     "ename": "NameError",
     "evalue": "name 'tka' is not defined",
     "output_type": "error",
     "traceback": [
      "\u001b[0;31m---------------------------------------------------------------------------\u001b[0m",
      "\u001b[0;31mNameError\u001b[0m                                 Traceback (most recent call last)",
      "Cell \u001b[0;32mIn[3], line 1\u001b[0m\n\u001b[0;32m----> 1\u001b[0m \u001b[43mtka\u001b[49m\u001b[38;5;241m.\u001b[39mf_css()\n",
      "\u001b[0;31mNameError\u001b[0m: name 'tka' is not defined"
     ]
    }
   ],
   "source": [
    "tka.f_css()"
   ]
  }
 ],
 "metadata": {
  "jupytext": {
   "formats": "ipynb,py:percent"
  },
  "kernelspec": {
   "display_name": "Python 3 (ipykernel)",
   "language": "python",
   "name": "python3"
  },
  "language_info": {
   "codemirror_mode": {
    "name": "ipython",
    "version": 3
   },
   "file_extension": ".py",
   "mimetype": "text/x-python",
   "name": "python",
   "nbconvert_exporter": "python",
   "pygments_lexer": "ipython3",
   "version": "3.12.8"
  }
 },
 "nbformat": 4,
 "nbformat_minor": 5
}
