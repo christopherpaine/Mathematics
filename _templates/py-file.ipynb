{
 "cells": [
  {
   "cell_type": "code",
   "execution_count": 1,
   "id": "052a829e",
   "metadata": {
    "execution": {
     "iopub.execute_input": "2025-08-02T16:34:14.291289Z",
     "iopub.status.busy": "2025-08-02T16:34:14.290975Z",
     "iopub.status.idle": "2025-08-02T16:34:14.295178Z",
     "shell.execute_reply": "2025-08-02T16:34:14.294719Z"
    }
   },
   "outputs": [],
   "source": [
    "import sys\n",
    "import os\n",
    "\n"
   ]
  },
  {
   "cell_type": "code",
   "execution_count": 2,
   "id": "e0d661df",
   "metadata": {
    "execution": {
     "iopub.execute_input": "2025-08-02T16:34:14.297273Z",
     "iopub.status.busy": "2025-08-02T16:34:14.296972Z",
     "iopub.status.idle": "2025-08-02T16:34:14.998319Z",
     "shell.execute_reply": "2025-08-02T16:34:14.997749Z"
    },
    "lines_to_next_cell": 2
   },
   "outputs": [],
   "source": [
    "sys.path.append(os.path.abspath(\"/home/chris-jakoolit/Mathematics/_templates\"))\n",
    "from common_imports import *"
   ]
  },
  {
   "cell_type": "code",
   "execution_count": 3,
   "id": "f8ac8e55",
   "metadata": {
    "execution": {
     "iopub.execute_input": "2025-08-02T16:34:15.001837Z",
     "iopub.status.busy": "2025-08-02T16:34:15.000914Z",
     "iopub.status.idle": "2025-08-02T16:34:15.004870Z",
     "shell.execute_reply": "2025-08-02T16:34:15.004067Z"
    },
    "lines_to_next_cell": 2
   },
   "outputs": [],
   "source": [
    "tka.f_css()"
   ]
  }
 ],
 "metadata": {
  "jupytext": {
   "formats": "ipynb,py:percent"
  },
  "kernelspec": {
   "display_name": "Python 3 (ipykernel)",
   "language": "python",
   "name": "python3"
  },
  "language_info": {
   "codemirror_mode": {
    "name": "ipython",
    "version": 3
   },
   "file_extension": ".py",
   "mimetype": "text/x-python",
   "name": "python",
   "nbconvert_exporter": "python",
   "pygments_lexer": "ipython3",
   "version": "3.12.8"
  }
 },
 "nbformat": 4,
 "nbformat_minor": 5
}
