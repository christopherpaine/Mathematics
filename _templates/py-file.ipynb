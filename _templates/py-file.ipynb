{
 "cells": [
  {
   "cell_type": "code",
   "execution_count": 1,
   "id": "052a829e",
   "metadata": {
    "execution": {
     "iopub.execute_input": "2025-08-02T16:43:25.221868Z",
     "iopub.status.busy": "2025-08-02T16:43:25.221455Z",
     "iopub.status.idle": "2025-08-02T16:43:25.224785Z",
     "shell.execute_reply": "2025-08-02T16:43:25.224395Z"
    }
   },
   "outputs": [],
   "source": [
    "import sys\n",
    "import os\n",
    "\n"
   ]
  },
  {
   "cell_type": "code",
   "execution_count": 2,
   "id": "e0d661df",
   "metadata": {
    "execution": {
     "iopub.execute_input": "2025-08-02T16:43:25.226808Z",
     "iopub.status.busy": "2025-08-02T16:43:25.226636Z",
     "iopub.status.idle": "2025-08-02T16:43:25.899781Z",
     "shell.execute_reply": "2025-08-02T16:43:25.899156Z"
    },
    "lines_to_next_cell": 2
   },
   "outputs": [],
   "source": [
    "sys.path.append(os.path.abspath(\"/home/chris-jakoolit/Mathematics/_templates\"))\n",
    "from common_imports import *"
   ]
  },
  {
   "cell_type": "code",
   "execution_count": 3,
   "id": "f8ac8e55",
   "metadata": {
    "execution": {
     "iopub.execute_input": "2025-08-02T16:43:25.902691Z",
     "iopub.status.busy": "2025-08-02T16:43:25.902079Z",
     "iopub.status.idle": "2025-08-02T16:43:25.905410Z",
     "shell.execute_reply": "2025-08-02T16:43:25.904872Z"
    }
   },
   "outputs": [],
   "source": [
    "tka.f_css()\n",
    "\n",
    "\n"
   ]
  },
  {
   "cell_type": "code",
   "execution_count": null,
   "id": "a3886dde",
   "metadata": {},
   "outputs": [],
   "source": []
  }
 ],
 "metadata": {
  "jupytext": {
   "formats": "ipynb,py:percent"
  },
  "kernelspec": {
   "display_name": "Python 3 (ipykernel)",
   "language": "python",
   "name": "python3"
  },
  "language_info": {
   "codemirror_mode": {
    "name": "ipython",
    "version": 3
   },
   "file_extension": ".py",
   "mimetype": "text/x-python",
   "name": "python",
   "nbconvert_exporter": "python",
   "pygments_lexer": "ipython3",
   "version": "3.12.8"
  }
 },
 "nbformat": 4,
 "nbformat_minor": 5
}
