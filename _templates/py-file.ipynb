{
 "cells": [
  {
   "cell_type": "code",
   "execution_count": 1,
   "id": "052a829e",
   "metadata": {
    "execution": {
     "iopub.execute_input": "2025-08-05T12:07:48.559658Z",
     "iopub.status.busy": "2025-08-05T12:07:48.559422Z",
     "iopub.status.idle": "2025-08-05T12:07:48.562697Z",
     "shell.execute_reply": "2025-08-05T12:07:48.562148Z"
    }
   },
   "outputs": [],
   "source": [
    "import sys\n",
    "import os\n",
    "\n"
   ]
  },
  {
   "cell_type": "code",
   "execution_count": 2,
   "id": "e0d661df",
   "metadata": {
    "execution": {
     "iopub.execute_input": "2025-08-05T12:07:48.564279Z",
     "iopub.status.busy": "2025-08-05T12:07:48.564107Z",
     "iopub.status.idle": "2025-08-05T12:07:49.178283Z",
     "shell.execute_reply": "2025-08-05T12:07:49.177727Z"
    },
    "lines_to_next_cell": 2
   },
   "outputs": [],
   "source": [
    "sys.path.append(os.path.abspath(\"/home/chris-jakoolit/Mathematics/_templates\"))\n",
    "from common_imports import *"
   ]
  },
  {
   "cell_type": "code",
   "execution_count": 3,
   "id": "f8ac8e55",
   "metadata": {
    "execution": {
     "iopub.execute_input": "2025-08-05T12:07:49.180298Z",
     "iopub.status.busy": "2025-08-05T12:07:49.180012Z",
     "iopub.status.idle": "2025-08-05T12:07:49.185351Z",
     "shell.execute_reply": "2025-08-05T12:07:49.184874Z"
    }
   },
   "outputs": [
    {
     "data": {
      "text/html": [
       "<style>\n",
       "         h1, h2 {\n",
       "             font-weight: 1000 !important;\n",
       "             color: black;\n",
       "             }\n",
       "    \n",
       "         h4 {\n",
       "             color: lightgrey;\n",
       "             }\n",
       "         h1 {\n",
       "             text-decoration: underline; !important;\n",
       "             }\n",
       "        p {\n",
       "            text-indent: 0px;\n",
       "        }\n",
       "         </style>\n",
       "    "
      ],
      "text/plain": [
       "<IPython.core.display.HTML object>"
      ]
     },
     "metadata": {},
     "output_type": "display_data"
    }
   ],
   "source": [
    "tka.f_css()\n",
    "\n",
    "\n"
   ]
  },
  {
   "cell_type": "code",
   "execution_count": 4,
   "id": "a3886dde",
   "metadata": {
    "execution": {
     "iopub.execute_input": "2025-08-05T12:07:49.187360Z",
     "iopub.status.busy": "2025-08-05T12:07:49.187008Z",
     "iopub.status.idle": "2025-08-05T12:07:49.189391Z",
     "shell.execute_reply": "2025-08-05T12:07:49.189032Z"
    }
   },
   "outputs": [],
   "source": [
    "#display(HTML(fnc.f_md_to_html(\"./_md/instrument_specific_risk_measures.md\")))"
   ]
  }
 ],
 "metadata": {
  "jupytext": {
   "formats": "ipynb,py:percent"
  },
  "kernelspec": {
   "display_name": "Python 3 (ipykernel)",
   "language": "python",
   "name": "python3"
  },
  "language_info": {
   "codemirror_mode": {
    "name": "ipython",
    "version": 3
   },
   "file_extension": ".py",
   "mimetype": "text/x-python",
   "name": "python",
   "nbconvert_exporter": "python",
   "pygments_lexer": "ipython3",
   "version": "3.13.4"
  }
 },
 "nbformat": 4,
 "nbformat_minor": 5
}
