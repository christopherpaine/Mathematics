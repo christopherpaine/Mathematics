{
 "cells": [
  {
   "cell_type": "code",
   "execution_count": 1,
   "id": "7607a076",
   "metadata": {
    "execution": {
     "iopub.execute_input": "2025-08-05T12:19:41.176293Z",
     "iopub.status.busy": "2025-08-05T12:19:41.176062Z",
     "iopub.status.idle": "2025-08-05T12:19:41.179033Z",
     "shell.execute_reply": "2025-08-05T12:19:41.178693Z"
    }
   },
   "outputs": [],
   "source": [
    "import sys\n",
    "import os\n",
    "\n"
   ]
  },
  {
   "cell_type": "code",
   "execution_count": 2,
   "id": "568d67f0",
   "metadata": {
    "execution": {
     "iopub.execute_input": "2025-08-05T12:19:41.180658Z",
     "iopub.status.busy": "2025-08-05T12:19:41.180379Z",
     "iopub.status.idle": "2025-08-05T12:19:41.745105Z",
     "shell.execute_reply": "2025-08-05T12:19:41.744507Z"
    }
   },
   "outputs": [],
   "source": [
    "sys.path.append(os.path.abspath(\"/home/chris-jakoolit/Mathematics/_templates\"))\n",
    "from common_imports import *\n",
    "\n",
    "\n",
    "\n"
   ]
  },
  {
   "cell_type": "code",
   "execution_count": 3,
   "id": "20083829",
   "metadata": {
    "execution": {
     "iopub.execute_input": "2025-08-05T12:19:41.747101Z",
     "iopub.status.busy": "2025-08-05T12:19:41.746801Z",
     "iopub.status.idle": "2025-08-05T12:19:41.752261Z",
     "shell.execute_reply": "2025-08-05T12:19:41.751858Z"
    }
   },
   "outputs": [
    {
     "data": {
      "text/html": [
       "<style>\n",
       "         h1, h2 {\n",
       "             font-weight: 1000 !important;\n",
       "             color: black;\n",
       "             }\n",
       "    \n",
       "         h4 {\n",
       "             color: lightgrey;\n",
       "             }\n",
       "         h1 {\n",
       "             text-decoration: underline; !important;\n",
       "             }\n",
       "        p {\n",
       "            text-indent: 0px;\n",
       "        }\n",
       "         </style>\n",
       "    "
      ],
      "text/plain": [
       "<IPython.core.display.HTML object>"
      ]
     },
     "metadata": {},
     "output_type": "display_data"
    }
   ],
   "source": [
    "tka.f_css()\n",
    "\n",
    "\n",
    "\n"
   ]
  },
  {
   "cell_type": "code",
   "execution_count": 4,
   "id": "e7ce0127",
   "metadata": {
    "execution": {
     "iopub.execute_input": "2025-08-05T12:19:41.754389Z",
     "iopub.status.busy": "2025-08-05T12:19:41.753921Z",
     "iopub.status.idle": "2025-08-05T12:19:41.761579Z",
     "shell.execute_reply": "2025-08-05T12:19:41.761216Z"
    }
   },
   "outputs": [
    {
     "data": {
      "text/html": [
       "<h1>Market Consistency</h1>\n",
       "<h2>Risk Measurement Theory</h2>\n",
       "<p>i am reminded of the expression \"<em>what gets measured gets managed</em>\" in this discussion of risk management.<br />\n",
       "hand in hand with the management of risk is the measurement of risk.</p>\n",
       "<h3>Instrument Specific Risk Measures</h3>\n",
       "<h4>Grammar</h4>\n",
       "<p>risk<br />\n",
       "instrument<br />\n",
       "exposure<br />\n",
       "idiosyncratic risks<br />\n",
       "sensitivity of value to underlying risk factor<br />\n",
       "regularity conditions  </p>\n",
       "<h4>Logic</h4>\n",
       "<h4>Rhetoric</h4>"
      ],
      "text/plain": [
       "<IPython.core.display.HTML object>"
      ]
     },
     "metadata": {},
     "output_type": "display_data"
    }
   ],
   "source": [
    "display(HTML(fnc.f_md_to_html(\"./_md/instrument_specific_risk_measures.md\")))"
   ]
  }
 ],
 "metadata": {
  "jupytext": {
   "formats": "ipynb,py:percent"
  },
  "kernelspec": {
   "display_name": "Python 3 (ipykernel)",
   "language": "python",
   "name": "python3"
  },
  "language_info": {
   "codemirror_mode": {
    "name": "ipython",
    "version": 3
   },
   "file_extension": ".py",
   "mimetype": "text/x-python",
   "name": "python",
   "nbconvert_exporter": "python",
   "pygments_lexer": "ipython3",
   "version": "3.13.4"
  }
 },
 "nbformat": 4,
 "nbformat_minor": 5
}
