{
 "cells": [
  {
   "cell_type": "code",
   "execution_count": 1,
   "id": "7607a076",
   "metadata": {
    "execution": {
     "iopub.execute_input": "2025-08-05T12:12:31.170122Z",
     "iopub.status.busy": "2025-08-05T12:12:31.169728Z",
     "iopub.status.idle": "2025-08-05T12:12:31.172567Z",
     "shell.execute_reply": "2025-08-05T12:12:31.172215Z"
    }
   },
   "outputs": [],
   "source": [
    "import sys\n",
    "import os\n",
    "\n"
   ]
  },
  {
   "cell_type": "code",
   "execution_count": 2,
   "id": "568d67f0",
   "metadata": {
    "execution": {
     "iopub.execute_input": "2025-08-05T12:12:31.175095Z",
     "iopub.status.busy": "2025-08-05T12:12:31.174734Z",
     "iopub.status.idle": "2025-08-05T12:12:31.746163Z",
     "shell.execute_reply": "2025-08-05T12:12:31.745599Z"
    }
   },
   "outputs": [],
   "source": [
    "sys.path.append(os.path.abspath(\"/home/chris-jakoolit/Mathematics/_templates\"))\n",
    "from common_imports import *\n",
    "\n",
    "\n",
    "\n"
   ]
  },
  {
   "cell_type": "code",
   "execution_count": 3,
   "id": "20083829",
   "metadata": {
    "execution": {
     "iopub.execute_input": "2025-08-05T12:12:31.748321Z",
     "iopub.status.busy": "2025-08-05T12:12:31.747939Z",
     "iopub.status.idle": "2025-08-05T12:12:31.752936Z",
     "shell.execute_reply": "2025-08-05T12:12:31.752560Z"
    }
   },
   "outputs": [
    {
     "data": {
      "text/html": [
       "<style>\n",
       "         h1, h2 {\n",
       "             font-weight: 1000 !important;\n",
       "             color: black;\n",
       "             }\n",
       "    \n",
       "         h4 {\n",
       "             color: lightgrey;\n",
       "             }\n",
       "         h1 {\n",
       "             text-decoration: underline; !important;\n",
       "             }\n",
       "        p {\n",
       "            text-indent: 0px;\n",
       "        }\n",
       "         </style>\n",
       "    "
      ],
      "text/plain": [
       "<IPython.core.display.HTML object>"
      ]
     },
     "metadata": {},
     "output_type": "display_data"
    }
   ],
   "source": [
    "tka.f_css()\n",
    "\n",
    "\n",
    "\n",
    "\n",
    "\n"
   ]
  },
  {
   "cell_type": "code",
   "execution_count": 4,
   "id": "e7ce0127",
   "metadata": {
    "execution": {
     "iopub.execute_input": "2025-08-05T12:12:31.754733Z",
     "iopub.status.busy": "2025-08-05T12:12:31.754423Z",
     "iopub.status.idle": "2025-08-05T12:12:31.761844Z",
     "shell.execute_reply": "2025-08-05T12:12:31.761481Z"
    }
   },
   "outputs": [
    {
     "data": {
      "text/html": [
       "<p>i am reminded of the expression <em>what gets measured gets managed</em> in this discussion of risk management.<br />\n",
       "hand in had with the management of risk is the measurement of risk.</p>\n",
       "<h2>Instrument Specific Risk Measures</h2>\n",
       "<h3>Grammar</h3>\n",
       "<h3>Logic</h3>\n",
       "<h3>Rhetoric</h3>"
      ],
      "text/plain": [
       "<IPython.core.display.HTML object>"
      ]
     },
     "metadata": {},
     "output_type": "display_data"
    }
   ],
   "source": [
    "display(HTML(fnc.f_md_to_html(\"./_md/instrument_specific_risk_measures.md\")))"
   ]
  }
 ],
 "metadata": {
  "jupytext": {
   "formats": "ipynb,py:percent"
  },
  "kernelspec": {
   "display_name": "Python 3 (ipykernel)",
   "language": "python",
   "name": "python3"
  },
  "language_info": {
   "codemirror_mode": {
    "name": "ipython",
    "version": 3
   },
   "file_extension": ".py",
   "mimetype": "text/x-python",
   "name": "python",
   "nbconvert_exporter": "python",
   "pygments_lexer": "ipython3",
   "version": "3.13.4"
  }
 },
 "nbformat": 4,
 "nbformat_minor": 5
}
