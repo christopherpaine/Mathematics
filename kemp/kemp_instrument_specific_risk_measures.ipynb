{
 "cells": [
  {
   "cell_type": "code",
   "execution_count": 1,
   "id": "7607a076",
   "metadata": {
    "execution": {
     "iopub.execute_input": "2025-08-05T12:13:48.370948Z",
     "iopub.status.busy": "2025-08-05T12:13:48.370638Z",
     "iopub.status.idle": "2025-08-05T12:13:48.373716Z",
     "shell.execute_reply": "2025-08-05T12:13:48.373072Z"
    }
   },
   "outputs": [],
   "source": [
    "import sys\n",
    "import os\n",
    "\n"
   ]
  },
  {
   "cell_type": "code",
   "execution_count": 2,
   "id": "568d67f0",
   "metadata": {
    "execution": {
     "iopub.execute_input": "2025-08-05T12:13:48.375598Z",
     "iopub.status.busy": "2025-08-05T12:13:48.375229Z",
     "iopub.status.idle": "2025-08-05T12:13:49.034107Z",
     "shell.execute_reply": "2025-08-05T12:13:49.033613Z"
    }
   },
   "outputs": [],
   "source": [
    "sys.path.append(os.path.abspath(\"/home/chris-jakoolit/Mathematics/_templates\"))\n",
    "from common_imports import *\n",
    "\n",
    "\n",
    "\n"
   ]
  },
  {
   "cell_type": "code",
   "execution_count": 3,
   "id": "20083829",
   "metadata": {
    "execution": {
     "iopub.execute_input": "2025-08-05T12:13:49.036157Z",
     "iopub.status.busy": "2025-08-05T12:13:49.035768Z",
     "iopub.status.idle": "2025-08-05T12:13:49.041267Z",
     "shell.execute_reply": "2025-08-05T12:13:49.040803Z"
    }
   },
   "outputs": [
    {
     "data": {
      "text/html": [
       "<style>\n",
       "         h1, h2 {\n",
       "             font-weight: 1000 !important;\n",
       "             color: black;\n",
       "             }\n",
       "    \n",
       "         h4 {\n",
       "             color: lightgrey;\n",
       "             }\n",
       "         h1 {\n",
       "             text-decoration: underline; !important;\n",
       "             }\n",
       "        p {\n",
       "            text-indent: 0px;\n",
       "        }\n",
       "         </style>\n",
       "    "
      ],
      "text/plain": [
       "<IPython.core.display.HTML object>"
      ]
     },
     "metadata": {},
     "output_type": "display_data"
    }
   ],
   "source": [
    "tka.f_css()\n",
    "\n",
    "\n",
    "\n",
    "\n",
    "\n",
    "\n",
    "\n"
   ]
  },
  {
   "cell_type": "code",
   "execution_count": 4,
   "id": "e7ce0127",
   "metadata": {
    "execution": {
     "iopub.execute_input": "2025-08-05T12:13:49.043132Z",
     "iopub.status.busy": "2025-08-05T12:13:49.042794Z",
     "iopub.status.idle": "2025-08-05T12:13:49.050561Z",
     "shell.execute_reply": "2025-08-05T12:13:49.050108Z"
    }
   },
   "outputs": [
    {
     "data": {
      "text/html": [
       "<h1>Market Consistency</h1>\n",
       "<h2>Risk Measurement Theory</h2>\n",
       "<p>i am reminded of the expression <em>what gets measured gets managed</em> in this discussion of risk management.<br />\n",
       "hand in had with the management of risk is the measurement of risk.</p>\n",
       "<h3>Instrument Specific Risk Measures</h3>\n",
       "<h4>Grammar</h4>\n",
       "<h4>Logic</h4>\n",
       "<h4>Rhetoric</h4>"
      ],
      "text/plain": [
       "<IPython.core.display.HTML object>"
      ]
     },
     "metadata": {},
     "output_type": "display_data"
    }
   ],
   "source": [
    "display(HTML(fnc.f_md_to_html(\"./_md/instrument_specific_risk_measures.md\")))"
   ]
  }
 ],
 "metadata": {
  "jupytext": {
   "formats": "ipynb,py:percent"
  },
  "kernelspec": {
   "display_name": "Python 3 (ipykernel)",
   "language": "python",
   "name": "python3"
  },
  "language_info": {
   "codemirror_mode": {
    "name": "ipython",
    "version": 3
   },
   "file_extension": ".py",
   "mimetype": "text/x-python",
   "name": "python",
   "nbconvert_exporter": "python",
   "pygments_lexer": "ipython3",
   "version": "3.13.4"
  }
 },
 "nbformat": 4,
 "nbformat_minor": 5
}
