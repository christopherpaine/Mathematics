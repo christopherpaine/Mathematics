{
 "cells": [
  {
   "cell_type": "code",
   "execution_count": 1,
   "id": "7607a076",
   "metadata": {
    "execution": {
     "iopub.execute_input": "2025-08-05T12:07:11.029773Z",
     "iopub.status.busy": "2025-08-05T12:07:11.029430Z",
     "iopub.status.idle": "2025-08-05T12:07:11.032440Z",
     "shell.execute_reply": "2025-08-05T12:07:11.031881Z"
    }
   },
   "outputs": [],
   "source": [
    "import sys\n",
    "import os\n",
    "\n"
   ]
  },
  {
   "cell_type": "code",
   "execution_count": 2,
   "id": "568d67f0",
   "metadata": {
    "execution": {
     "iopub.execute_input": "2025-08-05T12:07:11.035376Z",
     "iopub.status.busy": "2025-08-05T12:07:11.034486Z",
     "iopub.status.idle": "2025-08-05T12:07:11.877406Z",
     "shell.execute_reply": "2025-08-05T12:07:11.876961Z"
    }
   },
   "outputs": [],
   "source": [
    "sys.path.append(os.path.abspath(\"/home/chris-jakoolit/Mathematics/_templates\"))\n",
    "from common_imports import *\n",
    "\n",
    "\n",
    "\n"
   ]
  },
  {
   "cell_type": "code",
   "execution_count": 3,
   "id": "20083829",
   "metadata": {
    "execution": {
     "iopub.execute_input": "2025-08-05T12:07:11.879301Z",
     "iopub.status.busy": "2025-08-05T12:07:11.879057Z",
     "iopub.status.idle": "2025-08-05T12:07:11.884221Z",
     "shell.execute_reply": "2025-08-05T12:07:11.883890Z"
    }
   },
   "outputs": [
    {
     "data": {
      "text/html": [
       "<style>\n",
       "         h1, h2 {\n",
       "             font-weight: 1000 !important;\n",
       "             color: black;\n",
       "             }\n",
       "    \n",
       "         h4 {\n",
       "             color: lightgrey;\n",
       "             }\n",
       "         h1 {\n",
       "             text-decoration: underline; !important;\n",
       "             }\n",
       "        p {\n",
       "            text-indent: 0px;\n",
       "        }\n",
       "         </style>\n",
       "    "
      ],
      "text/plain": [
       "<IPython.core.display.HTML object>"
      ]
     },
     "metadata": {},
     "output_type": "display_data"
    }
   ],
   "source": [
    "tka.f_css()\n",
    "\n",
    "\n",
    "\n",
    "\n"
   ]
  },
  {
   "cell_type": "code",
   "execution_count": 4,
   "id": "e7ce0127",
   "metadata": {
    "execution": {
     "iopub.execute_input": "2025-08-05T12:07:11.885794Z",
     "iopub.status.busy": "2025-08-05T12:07:11.885445Z",
     "iopub.status.idle": "2025-08-05T12:07:11.891681Z",
     "shell.execute_reply": "2025-08-05T12:07:11.891158Z"
    }
   },
   "outputs": [
    {
     "data": {
      "text/html": [],
      "text/plain": [
       "<IPython.core.display.HTML object>"
      ]
     },
     "metadata": {},
     "output_type": "display_data"
    }
   ],
   "source": [
    "display(HTML(fnc.f_md_to_html(\"./_md/instrument_specific_risk_measures.md\")))"
   ]
  }
 ],
 "metadata": {
  "jupytext": {
   "formats": "ipynb,py:percent"
  },
  "kernelspec": {
   "display_name": "Python 3 (ipykernel)",
   "language": "python",
   "name": "python3"
  },
  "language_info": {
   "codemirror_mode": {
    "name": "ipython",
    "version": 3
   },
   "file_extension": ".py",
   "mimetype": "text/x-python",
   "name": "python",
   "nbconvert_exporter": "python",
   "pygments_lexer": "ipython3",
   "version": "3.13.4"
  }
 },
 "nbformat": 4,
 "nbformat_minor": 5
}
