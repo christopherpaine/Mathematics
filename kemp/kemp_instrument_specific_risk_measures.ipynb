{
 "cells": [
  {
   "cell_type": "code",
   "execution_count": 1,
   "id": "7607a076",
   "metadata": {
    "execution": {
     "iopub.execute_input": "2025-08-05T13:41:54.631376Z",
     "iopub.status.busy": "2025-08-05T13:41:54.630775Z",
     "iopub.status.idle": "2025-08-05T13:41:54.633995Z",
     "shell.execute_reply": "2025-08-05T13:41:54.633407Z"
    }
   },
   "outputs": [],
   "source": [
    "import sys\n",
    "import os\n",
    "\n"
   ]
  },
  {
   "cell_type": "code",
   "execution_count": 2,
   "id": "568d67f0",
   "metadata": {
    "execution": {
     "iopub.execute_input": "2025-08-05T13:41:54.635825Z",
     "iopub.status.busy": "2025-08-05T13:41:54.635448Z",
     "iopub.status.idle": "2025-08-05T13:41:55.191709Z",
     "shell.execute_reply": "2025-08-05T13:41:55.190779Z"
    }
   },
   "outputs": [],
   "source": [
    "sys.path.append(os.path.abspath(\"/home/chris-jakoolit/Mathematics/_templates\"))\n",
    "from common_imports import *\n",
    "\n",
    "\n",
    "\n"
   ]
  },
  {
   "cell_type": "code",
   "execution_count": 3,
   "id": "20083829",
   "metadata": {
    "execution": {
     "iopub.execute_input": "2025-08-05T13:41:55.193893Z",
     "iopub.status.busy": "2025-08-05T13:41:55.193350Z",
     "iopub.status.idle": "2025-08-05T13:41:55.198760Z",
     "shell.execute_reply": "2025-08-05T13:41:55.198227Z"
    }
   },
   "outputs": [
    {
     "data": {
      "text/html": [
       "<style>\n",
       "         h1, h2 {\n",
       "             font-weight: 1000 !important;\n",
       "             color: black;\n",
       "             }\n",
       "    \n",
       "         h4 {\n",
       "             color: lightgrey;\n",
       "             }\n",
       "         h1 {\n",
       "             text-decoration: underline; !important;\n",
       "             }\n",
       "        p {\n",
       "            text-indent: 0px;\n",
       "        }\n",
       "         </style>\n",
       "    "
      ],
      "text/plain": [
       "<IPython.core.display.HTML object>"
      ]
     },
     "metadata": {},
     "output_type": "display_data"
    }
   ],
   "source": [
    "tka.f_css()\n",
    "\n",
    "\n",
    "\n",
    "\n"
   ]
  },
  {
   "cell_type": "code",
   "execution_count": 4,
   "id": "e7ce0127",
   "metadata": {
    "execution": {
     "iopub.execute_input": "2025-08-05T13:41:55.200692Z",
     "iopub.status.busy": "2025-08-05T13:41:55.200234Z",
     "iopub.status.idle": "2025-08-05T13:41:55.208485Z",
     "shell.execute_reply": "2025-08-05T13:41:55.208041Z"
    }
   },
   "outputs": [
    {
     "data": {
      "text/html": [
       "<h1>Market Consistency</h1>\n",
       "<h2>Risk Measurement Theory</h2>\n",
       "<p>i am reminded of the expression \"<em>what gets measured gets managed</em>\" in this discussion of risk management.<br />\n",
       "hand in hand with the management of risk is the measurement of risk.</p>\n",
       "<h3>Instrument Specific Risk Measures</h3>\n",
       "<h4>Grammar</h4>\n",
       "<p>risk<br />\n",
       "instrument<br />\n",
       "exposure<br />\n",
       "idiosyncratic risks<br />\n",
       "sensitivity of value to underlying risk factor<br />\n",
       "regularity conditions  </p>\n",
       "<h4>Logic</h4>\n",
       "<p>sensitivites conceptually equivalent to the greeks<br />\n",
       "instrument specific risk measures are most advanced for fixed interest instruments  </p>\n",
       "<ul>\n",
       "<li>DV01  </li>\n",
       "<li>duration</li>\n",
       "<li>convexity </li>\n",
       "</ul>\n",
       "<h4>Rhetoric</h4>"
      ],
      "text/plain": [
       "<IPython.core.display.HTML object>"
      ]
     },
     "metadata": {},
     "output_type": "display_data"
    }
   ],
   "source": [
    "display(HTML(fnc.f_md_to_html(\"./_md/instrument_specific_risk_measures.md\")))"
   ]
  }
 ],
 "metadata": {
  "jupytext": {
   "formats": "ipynb,py:percent"
  },
  "kernelspec": {
   "display_name": "Python 3 (ipykernel)",
   "language": "python",
   "name": "python3"
  },
  "language_info": {
   "codemirror_mode": {
    "name": "ipython",
    "version": 3
   },
   "file_extension": ".py",
   "mimetype": "text/x-python",
   "name": "python",
   "nbconvert_exporter": "python",
   "pygments_lexer": "ipython3",
   "version": "3.13.4"
  }
 },
 "nbformat": 4,
 "nbformat_minor": 5
}
