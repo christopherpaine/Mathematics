{
 "cells": [
  {
   "cell_type": "code",
   "execution_count": 1,
   "id": "21f67ced",
   "metadata": {
    "execution": {
     "iopub.execute_input": "2025-08-05T14:16:25.037249Z",
     "iopub.status.busy": "2025-08-05T14:16:25.036982Z",
     "iopub.status.idle": "2025-08-05T14:16:25.039873Z",
     "shell.execute_reply": "2025-08-05T14:16:25.039503Z"
    }
   },
   "outputs": [],
   "source": [
    "import sys\n",
    "import os\n",
    "\n"
   ]
  },
  {
   "cell_type": "code",
   "execution_count": 2,
   "id": "b3e5f58d",
   "metadata": {
    "execution": {
     "iopub.execute_input": "2025-08-05T14:16:25.041285Z",
     "iopub.status.busy": "2025-08-05T14:16:25.041132Z",
     "iopub.status.idle": "2025-08-05T14:16:25.658402Z",
     "shell.execute_reply": "2025-08-05T14:16:25.657883Z"
    }
   },
   "outputs": [],
   "source": [
    "sys.path.append(os.path.abspath(\"/home/chris-jakoolit/Mathematics/_templates\"))\n",
    "from common_imports import *\n",
    "\n",
    "\n",
    "\n"
   ]
  },
  {
   "cell_type": "code",
   "execution_count": 3,
   "id": "d9724869",
   "metadata": {
    "execution": {
     "iopub.execute_input": "2025-08-05T14:16:25.661630Z",
     "iopub.status.busy": "2025-08-05T14:16:25.661244Z",
     "iopub.status.idle": "2025-08-05T14:16:25.667412Z",
     "shell.execute_reply": "2025-08-05T14:16:25.666923Z"
    }
   },
   "outputs": [
    {
     "data": {
      "text/html": [
       "<style>\n",
       "         h1, h2 {\n",
       "             font-weight: 1000 !important;\n",
       "             color: black;\n",
       "             }\n",
       "    \n",
       "         h4 {\n",
       "             color: lightgrey;\n",
       "             }\n",
       "         h1 {\n",
       "             text-decoration: underline; !important;\n",
       "             }\n",
       "        p {\n",
       "            text-indent: 0px;\n",
       "        }\n",
       "         </style>\n",
       "    "
      ],
      "text/plain": [
       "<IPython.core.display.HTML object>"
      ]
     },
     "metadata": {},
     "output_type": "display_data"
    }
   ],
   "source": [
    "tka.f_css()\n",
    "\n",
    "\n",
    "\n",
    "\n",
    "\n"
   ]
  },
  {
   "cell_type": "code",
   "execution_count": 4,
   "id": "da428764",
   "metadata": {
    "execution": {
     "iopub.execute_input": "2025-08-05T14:16:25.669031Z",
     "iopub.status.busy": "2025-08-05T14:16:25.668838Z",
     "iopub.status.idle": "2025-08-05T14:16:25.678269Z",
     "shell.execute_reply": "2025-08-05T14:16:25.677800Z"
    }
   },
   "outputs": [
    {
     "data": {
      "text/html": [
       "<h1>Market Consistency</h1>\n",
       "<h2>Risk Measurement Theory</h2>\n",
       "<h3>Portfolio Specific Risk Measures</h3>\n",
       "<h4>Grammar</h4>\n",
       "<p>common tools:</p>\n",
       "<ul>\n",
       "<li>value at risk</li>\n",
       "<li>expected shortfall</li>\n",
       "<li>tracking error</li>\n",
       "<li>stress testing</li>\n",
       "</ul>\n",
       "<p>joint probability distribution between multiple risk factors</p>\n",
       "<p>ex-post risk measure - measure past\n",
       "ex-ante risk measure - forward looking</p>\n",
       "<p>absolute return objective employed by hedge funds - An Absolute Return fund is a type of investment vehicle that attempts to generate steady, positive returns in all market environments by using a variety of investment strategies such as derivatives, arbitrage, short selling, leverage, and more.</p>\n",
       "<p>tracking error -  $()$</p>\n",
       "<h4>Logic</h4>\n",
       "<p>| Objective Type                  | Typical Benchmark                          | What \"Risk\" Means                          |\n",
       "|--------------------------------|--------------------------------------------|--------------------------------------------|\n",
       "| Absolute Return (e.g., hedge fund) | Cash returns (e.g., LIBOR, SONIA)         | Losing money or underperforming cash       |\n",
       "| Long-only portfolio             | Market index (e.g., FTSE 100, S&amp;P 500)     | Underperforming the market index           |\n",
       "| Liability-driven investment     | Index proxy <strong>or</strong> required cash flows     | Failing to meet liabilities or cash flow goals |</p>\n",
       "<p>split portfolio risk into 2:</p>\n",
       "<ul>\n",
       "<li>the choice of benchmark against risk is measured</li>\n",
       "<li>the measure that quantifies \"how far away\" the portfolio is from the benchmark</li>\n",
       "</ul>\n",
       "<h4>Rhetoric</h4>\n",
       "<h3>Questions</h3>\n",
       "<p>the description of drawdown expost risk measure is not clear to me.  some mathematics would help clear up the ambiguity in my mind.</p>"
      ],
      "text/plain": [
       "<IPython.core.display.HTML object>"
      ]
     },
     "metadata": {},
     "output_type": "display_data"
    }
   ],
   "source": [
    "display(HTML(fnc.f_md_to_html(\"./_md/portfolio_risk_measures.md\")))"
   ]
  }
 ],
 "metadata": {
  "jupytext": {
   "formats": "ipynb,py:percent"
  },
  "kernelspec": {
   "display_name": "Python 3 (ipykernel)",
   "language": "python",
   "name": "python3"
  },
  "language_info": {
   "codemirror_mode": {
    "name": "ipython",
    "version": 3
   },
   "file_extension": ".py",
   "mimetype": "text/x-python",
   "name": "python",
   "nbconvert_exporter": "python",
   "pygments_lexer": "ipython3",
   "version": "3.13.4"
  }
 },
 "nbformat": 4,
 "nbformat_minor": 5
}
