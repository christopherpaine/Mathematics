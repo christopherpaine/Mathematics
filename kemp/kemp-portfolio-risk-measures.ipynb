{
 "cells": [
  {
   "cell_type": "code",
   "execution_count": 1,
   "id": "21f67ced",
   "metadata": {
    "execution": {
     "iopub.execute_input": "2025-08-05T12:33:34.572759Z",
     "iopub.status.busy": "2025-08-05T12:33:34.572509Z",
     "iopub.status.idle": "2025-08-05T12:33:34.575053Z",
     "shell.execute_reply": "2025-08-05T12:33:34.574716Z"
    }
   },
   "outputs": [],
   "source": [
    "import sys\n",
    "import os\n",
    "\n"
   ]
  },
  {
   "cell_type": "code",
   "execution_count": 2,
   "id": "b3e5f58d",
   "metadata": {
    "execution": {
     "iopub.execute_input": "2025-08-05T12:33:34.576670Z",
     "iopub.status.busy": "2025-08-05T12:33:34.576238Z",
     "iopub.status.idle": "2025-08-05T12:33:35.148054Z",
     "shell.execute_reply": "2025-08-05T12:33:35.147498Z"
    }
   },
   "outputs": [],
   "source": [
    "sys.path.append(os.path.abspath(\"/home/chris-jakoolit/Mathematics/_templates\"))\n",
    "from common_imports import *\n",
    "\n",
    "\n",
    "\n"
   ]
  },
  {
   "cell_type": "code",
   "execution_count": 3,
   "id": "d9724869",
   "metadata": {
    "execution": {
     "iopub.execute_input": "2025-08-05T12:33:35.149868Z",
     "iopub.status.busy": "2025-08-05T12:33:35.149646Z",
     "iopub.status.idle": "2025-08-05T12:33:35.155464Z",
     "shell.execute_reply": "2025-08-05T12:33:35.155110Z"
    }
   },
   "outputs": [
    {
     "data": {
      "text/html": [
       "<style>\n",
       "         h1, h2 {\n",
       "             font-weight: 1000 !important;\n",
       "             color: black;\n",
       "             }\n",
       "    \n",
       "         h4 {\n",
       "             color: lightgrey;\n",
       "             }\n",
       "         h1 {\n",
       "             text-decoration: underline; !important;\n",
       "             }\n",
       "        p {\n",
       "            text-indent: 0px;\n",
       "        }\n",
       "         </style>\n",
       "    "
      ],
      "text/plain": [
       "<IPython.core.display.HTML object>"
      ]
     },
     "metadata": {},
     "output_type": "display_data"
    }
   ],
   "source": [
    "tka.f_css()\n",
    "\n",
    "\n",
    "\n"
   ]
  },
  {
   "cell_type": "code",
   "execution_count": 4,
   "id": "da428764",
   "metadata": {
    "execution": {
     "iopub.execute_input": "2025-08-05T12:33:35.157127Z",
     "iopub.status.busy": "2025-08-05T12:33:35.156945Z",
     "iopub.status.idle": "2025-08-05T12:33:35.163148Z",
     "shell.execute_reply": "2025-08-05T12:33:35.162777Z"
    }
   },
   "outputs": [
    {
     "data": {
      "text/html": [],
      "text/plain": [
       "<IPython.core.display.HTML object>"
      ]
     },
     "metadata": {},
     "output_type": "display_data"
    }
   ],
   "source": [
    "display(HTML(fnc.f_md_to_html(\"./_md/portfolio_risk_measures.md\")))"
   ]
  }
 ],
 "metadata": {
  "jupytext": {
   "formats": "ipynb,py:percent"
  },
  "kernelspec": {
   "display_name": "Python 3 (ipykernel)",
   "language": "python",
   "name": "python3"
  },
  "language_info": {
   "codemirror_mode": {
    "name": "ipython",
    "version": 3
   },
   "file_extension": ".py",
   "mimetype": "text/x-python",
   "name": "python",
   "nbconvert_exporter": "python",
   "pygments_lexer": "ipython3",
   "version": "3.13.4"
  }
 },
 "nbformat": 4,
 "nbformat_minor": 5
}
