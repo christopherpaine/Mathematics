{
 "cells": [
  {
   "cell_type": "code",
   "execution_count": 1,
   "id": "9e478e30",
   "metadata": {
    "execution": {
     "iopub.execute_input": "2025-08-02T16:32:26.945739Z",
     "iopub.status.busy": "2025-08-02T16:32:26.945547Z",
     "iopub.status.idle": "2025-08-02T16:32:26.948940Z",
     "shell.execute_reply": "2025-08-02T16:32:26.948499Z"
    }
   },
   "outputs": [],
   "source": [
    "import sys\n",
    "import os\n",
    "\n"
   ]
  },
  {
   "cell_type": "code",
   "execution_count": 2,
   "id": "031c7ab6",
   "metadata": {
    "execution": {
     "iopub.execute_input": "2025-08-02T16:32:26.951267Z",
     "iopub.status.busy": "2025-08-02T16:32:26.950757Z",
     "iopub.status.idle": "2025-08-02T16:32:27.596088Z",
     "shell.execute_reply": "2025-08-02T16:32:27.595327Z"
    }
   },
   "outputs": [],
   "source": [
    "sys.path.append(os.path.abspath(\"/home/chris-jakoolit/Mathematics/_templates\"))\n",
    "from common_imports import *\n",
    "# import common_imports \n",
    "\n"
   ]
  },
  {
   "cell_type": "code",
   "execution_count": 3,
   "id": "707dbc2d",
   "metadata": {
    "execution": {
     "iopub.execute_input": "2025-08-02T16:32:27.599002Z",
     "iopub.status.busy": "2025-08-02T16:32:27.598672Z",
     "iopub.status.idle": "2025-08-02T16:32:27.815118Z",
     "shell.execute_reply": "2025-08-02T16:32:27.814613Z"
    }
   },
   "outputs": [
    {
     "ename": "NameError",
     "evalue": "name 'tka' is not defined",
     "output_type": "error",
     "traceback": [
      "\u001b[0;31m---------------------------------------------------------------------------\u001b[0m",
      "\u001b[0;31mNameError\u001b[0m                                 Traceback (most recent call last)",
      "Cell \u001b[0;32mIn[3], line 1\u001b[0m\n\u001b[0;32m----> 1\u001b[0m \u001b[43mtka\u001b[49m\u001b[38;5;241m.\u001b[39mf_css()\n\u001b[1;32m      4\u001b[0m display(HTML(fnc\u001b[38;5;241m.\u001b[39mf_md_to_html(\u001b[38;5;124m\"\u001b[39m\u001b[38;5;124m./_md/the-financial-system.md\u001b[39m\u001b[38;5;124m\"\u001b[39m)))\n",
      "\u001b[0;31mNameError\u001b[0m: name 'tka' is not defined"
     ]
    }
   ],
   "source": [
    "tka.f_css()\n",
    "\n",
    "\n",
    "display(HTML(fnc.f_md_to_html(\"./_md/the-financial-system.md\")))"
   ]
  }
 ],
 "metadata": {
  "jupytext": {
   "formats": "ipynb,py:percent"
  },
  "kernelspec": {
   "display_name": "Python 3 (ipykernel)",
   "language": "python",
   "name": "python3"
  },
  "language_info": {
   "codemirror_mode": {
    "name": "ipython",
    "version": 3
   },
   "file_extension": ".py",
   "mimetype": "text/x-python",
   "name": "python",
   "nbconvert_exporter": "python",
   "pygments_lexer": "ipython3",
   "version": "3.12.8"
  }
 },
 "nbformat": 4,
 "nbformat_minor": 5
}
