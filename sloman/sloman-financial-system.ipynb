{
 "cells": [
  {
   "cell_type": "code",
   "execution_count": 1,
   "id": "031c7ab6",
   "metadata": {
    "execution": {
     "iopub.execute_input": "2025-08-02T16:19:20.049203Z",
     "iopub.status.busy": "2025-08-02T16:19:20.048629Z",
     "iopub.status.idle": "2025-08-02T16:19:20.053934Z",
     "shell.execute_reply": "2025-08-02T16:19:20.053432Z"
    }
   },
   "outputs": [
    {
     "ename": "SyntaxError",
     "evalue": "invalid syntax (2292001782.py, line 2)",
     "output_type": "error",
     "traceback": [
      "\u001b[0;36m  Cell \u001b[0;32mIn[1], line 2\u001b[0;36m\u001b[0m\n\u001b[0;31m    from ../common_imports import *\u001b[0m\n\u001b[0m           ^\u001b[0m\n\u001b[0;31mSyntaxError\u001b[0m\u001b[0;31m:\u001b[0m invalid syntax\n"
     ]
    }
   ],
   "source": [
    "sys.path.append(os.path.abspath(\"/home/chris-jakoolit/Mathematics/_templates/common_imports.py\"))\n",
    "from ../common_imports import *\n",
    "\n",
    "\n",
    "\n",
    "\n",
    "\n",
    "display(HTML(\"./_md/the-financial-system.md\"))"
   ]
  }
 ],
 "metadata": {
  "jupytext": {
   "formats": "ipynb,py:percent"
  },
  "kernelspec": {
   "display_name": "Python 3 (ipykernel)",
   "language": "python",
   "name": "python3"
  },
  "language_info": {
   "codemirror_mode": {
    "name": "ipython",
    "version": 3
   },
   "file_extension": ".py",
   "mimetype": "text/x-python",
   "name": "python",
   "nbconvert_exporter": "python",
   "pygments_lexer": "ipython3",
   "version": "3.12.8"
  }
 },
 "nbformat": 4,
 "nbformat_minor": 5
}
