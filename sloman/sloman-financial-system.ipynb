{
 "cells": [
  {
   "cell_type": "code",
   "execution_count": 1,
   "id": "9e478e30",
   "metadata": {
    "execution": {
     "iopub.execute_input": "2025-08-02T16:51:39.166202Z",
     "iopub.status.busy": "2025-08-02T16:51:39.165424Z",
     "iopub.status.idle": "2025-08-02T16:51:39.177145Z",
     "shell.execute_reply": "2025-08-02T16:51:39.174776Z"
    }
   },
   "outputs": [],
   "source": [
    "import sys\n",
    "import os\n",
    "\n"
   ]
  },
  {
   "cell_type": "code",
   "execution_count": 2,
   "id": "031c7ab6",
   "metadata": {
    "execution": {
     "iopub.execute_input": "2025-08-02T16:51:39.185032Z",
     "iopub.status.busy": "2025-08-02T16:51:39.184214Z",
     "iopub.status.idle": "2025-08-02T16:51:40.055344Z",
     "shell.execute_reply": "2025-08-02T16:51:40.054494Z"
    }
   },
   "outputs": [],
   "source": [
    "sys.path.append(os.path.abspath(\"/home/chris-jakoolit/Mathematics/_templates\"))\n",
    "from common_imports import *\n",
    "\n",
    "\n",
    "\n"
   ]
  },
  {
   "cell_type": "code",
   "execution_count": 3,
   "id": "99b34fb1",
   "metadata": {
    "execution": {
     "iopub.execute_input": "2025-08-02T16:51:40.058824Z",
     "iopub.status.busy": "2025-08-02T16:51:40.058456Z",
     "iopub.status.idle": "2025-08-02T16:51:40.067222Z",
     "shell.execute_reply": "2025-08-02T16:51:40.066486Z"
    }
   },
   "outputs": [
    {
     "data": {
      "text/html": [
       "<style>\n",
       "         h1, h2 {\n",
       "             font-weight: 1000 !important;\n",
       "             color: black;\n",
       "             }\n",
       "    \n",
       "         h1 {\n",
       "             text-decoration: underline; !important;\n",
       "             }\n",
       "        p {\n",
       "            text-indent: 20px;\n",
       "        }\n",
       "         </style>\n",
       "    "
      ],
      "text/plain": [
       "<IPython.core.display.HTML object>"
      ]
     },
     "metadata": {},
     "output_type": "display_data"
    }
   ],
   "source": [
    "tka.f_css()\n",
    "\n"
   ]
  },
  {
   "cell_type": "code",
   "execution_count": 4,
   "id": "707dbc2d",
   "metadata": {
    "execution": {
     "iopub.execute_input": "2025-08-02T16:51:40.070598Z",
     "iopub.status.busy": "2025-08-02T16:51:40.070223Z",
     "iopub.status.idle": "2025-08-02T16:51:40.084578Z",
     "shell.execute_reply": "2025-08-02T16:51:40.083287Z"
    }
   },
   "outputs": [
    {
     "data": {
      "text/html": [
       "<h1>Banking Money and Interest Rates</h1>\n",
       "<h2>the financial system</h2>\n",
       "<h3>the role of the financial sector</h3>\n",
       "<h4>grammar</h4>\n",
       "<p><strong>financial intermediaries</strong> link lenders and borrowers</p>\n",
       "<h4>logic</h4>\n",
       "<p>5 services of financial intermediaries:</p>\n",
       "<ul>\n",
       "<li>expert advice</li>\n",
       "<li>channel funds to optimal risk/return</li>\n",
       "<li>maturity transformation</li>\n",
       "<li>risk transformation</li>\n",
       "<li>transmission of funds</li>\n",
       "</ul>\n",
       "<h4>rhetoric</h4>\n",
       "<h3>the banking system</h3>\n",
       "<h4>grammar</h4>\n",
       "<p>retail banks\n",
       "wholesale banking\n",
       "functional separation of retail and wholesale\n",
       "    more than 25 billion\n",
       "<strong>monetary financial institutions</strong> - all deposit taking institutions including central bank\n",
       "<strong>wholesale funding</strong> - lending and borrowing between MFIs - money market instruments</p>\n",
       "<h4>logic</h4>\n",
       "<p>less of a clear distinction between building societies and retail banks these days\n",
       "wholesale funding saw marked increase before financial crisis of 2008</p>\n",
       "<h4>rhetoric</h4>\n",
       "<h3>deposit taking and lending</h3>\n",
       "<h4>grammar</h4>\n",
       "<p>aggregate size of combined UK MFI balance sheet is 4x that of UK annual GDP\n",
       "<strong>cash balances</strong> - held at BoE for day to day liquidity and also used in clearing.\n",
       "<strong>clearing</strong> - settling day to day payments between banks\n",
       "<strong>reserve balances</strong> - regulatory amount held at BoE and earns bank rate (repo rate)</p>\n",
       "<p><strong>cash ratio deposits</strong> - also regulatory, earn no interest, cannot be drawn on</p>\n",
       "<p><strong>market loans</strong> - interbank lending</p>\n",
       "<p>3 types of interbank lending:</p>\n",
       "<ul>\n",
       "<li>money lent at call</li>\n",
       "<li>money lent for upto to 1yr </li>\n",
       "<li>certificates of deposit</li>\n",
       "</ul>\n",
       "<p><strong>bills of exchange</strong> - either commercial bills (to companies) or treasury bills (to the government).</p>\n",
       "<h4>logic</h4>\n",
       "<p>bills of exchange do not pay interest so are sold below face value.</p>\n",
       "<h4>rhetoric</h4>\n",
       "<h3>liquidity profitability and capital adequacy</h3>\n",
       "<h4>grammar</h4>\n",
       "<h4>logic</h4>\n",
       "<h4>rhetoric</h4>\n",
       "<h4>grammar</h4>\n",
       "<h4>logic</h4>\n",
       "<h4>rhetoric</h4>\n",
       "<h4>grammar</h4>\n",
       "<h4>logic</h4>\n",
       "<h4>rhetoric</h4>"
      ],
      "text/plain": [
       "<IPython.core.display.HTML object>"
      ]
     },
     "metadata": {},
     "output_type": "display_data"
    }
   ],
   "source": [
    "display(HTML(fnc.f_md_to_html(\"./_md/the-financial-system.md\")))"
   ]
  }
 ],
 "metadata": {
  "jupytext": {
   "formats": "ipynb,py:percent"
  },
  "kernelspec": {
   "display_name": "Python 3 (ipykernel)",
   "language": "python",
   "name": "python3"
  },
  "language_info": {
   "codemirror_mode": {
    "name": "ipython",
    "version": 3
   },
   "file_extension": ".py",
   "mimetype": "text/x-python",
   "name": "python",
   "nbconvert_exporter": "python",
   "pygments_lexer": "ipython3",
   "version": "3.12.8"
  }
 },
 "nbformat": 4,
 "nbformat_minor": 5
}
