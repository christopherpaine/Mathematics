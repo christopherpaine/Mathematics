{
 "cells": [
  {
   "cell_type": "code",
   "execution_count": 1,
   "id": "9e478e30",
   "metadata": {
    "execution": {
     "iopub.execute_input": "2025-08-02T16:27:10.661595Z",
     "iopub.status.busy": "2025-08-02T16:27:10.660871Z",
     "iopub.status.idle": "2025-08-02T16:27:10.671209Z",
     "shell.execute_reply": "2025-08-02T16:27:10.669203Z"
    }
   },
   "outputs": [],
   "source": [
    "import sys\n",
    "import os\n",
    "\n"
   ]
  },
  {
   "cell_type": "code",
   "execution_count": 2,
   "id": "031c7ab6",
   "metadata": {
    "execution": {
     "iopub.execute_input": "2025-08-02T16:27:10.674562Z",
     "iopub.status.busy": "2025-08-02T16:27:10.674380Z",
     "iopub.status.idle": "2025-08-02T16:27:11.510188Z",
     "shell.execute_reply": "2025-08-02T16:27:11.509702Z"
    }
   },
   "outputs": [
    {
     "ename": "NameError",
     "evalue": "name 'HTML' is not defined",
     "output_type": "error",
     "traceback": [
      "\u001b[0;31m---------------------------------------------------------------------------\u001b[0m",
      "\u001b[0;31mNameError\u001b[0m                                 Traceback (most recent call last)",
      "Cell \u001b[0;32mIn[2], line 8\u001b[0m\n\u001b[1;32m      2\u001b[0m \u001b[38;5;66;03m# from common_imports import *\u001b[39;00m\n\u001b[1;32m      3\u001b[0m \u001b[38;5;28;01mimport\u001b[39;00m \u001b[38;5;21;01mcommon_imports\u001b[39;00m \n\u001b[0;32m----> 8\u001b[0m display(\u001b[43mHTML\u001b[49m(\u001b[38;5;124m\"\u001b[39m\u001b[38;5;124m./_md/the-financial-system.md\u001b[39m\u001b[38;5;124m\"\u001b[39m))\n",
      "\u001b[0;31mNameError\u001b[0m: name 'HTML' is not defined"
     ]
    }
   ],
   "source": [
    "sys.path.append(os.path.abspath(\"/home/chris-jakoolit/Mathematics/_templates\"))\n",
    "# from common_imports import *\n",
    "import common_imports \n",
    "\n",
    "\n",
    "\n",
    "\n",
    "display(HTML(\"./_md/the-financial-system.md\"))"
   ]
  }
 ],
 "metadata": {
  "jupytext": {
   "formats": "ipynb,py:percent"
  },
  "kernelspec": {
   "display_name": "Python 3 (ipykernel)",
   "language": "python",
   "name": "python3"
  },
  "language_info": {
   "codemirror_mode": {
    "name": "ipython",
    "version": 3
   },
   "file_extension": ".py",
   "mimetype": "text/x-python",
   "name": "python",
   "nbconvert_exporter": "python",
   "pygments_lexer": "ipython3",
   "version": "3.12.8"
  }
 },
 "nbformat": 4,
 "nbformat_minor": 5
}
