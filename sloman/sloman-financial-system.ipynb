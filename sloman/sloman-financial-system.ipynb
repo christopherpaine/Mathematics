{
 "cells": [
  {
   "cell_type": "code",
   "execution_count": 1,
   "id": "9e478e30",
   "metadata": {
    "execution": {
     "iopub.execute_input": "2025-08-02T16:28:01.279204Z",
     "iopub.status.busy": "2025-08-02T16:28:01.278398Z",
     "iopub.status.idle": "2025-08-02T16:28:01.290453Z",
     "shell.execute_reply": "2025-08-02T16:28:01.288015Z"
    }
   },
   "outputs": [],
   "source": [
    "import sys\n",
    "import os\n",
    "\n"
   ]
  },
  {
   "cell_type": "code",
   "execution_count": 2,
   "id": "031c7ab6",
   "metadata": {
    "execution": {
     "iopub.execute_input": "2025-08-02T16:28:01.295394Z",
     "iopub.status.busy": "2025-08-02T16:28:01.294967Z",
     "iopub.status.idle": "2025-08-02T16:28:01.907157Z",
     "shell.execute_reply": "2025-08-02T16:28:01.906622Z"
    }
   },
   "outputs": [
    {
     "data": {
      "text/html": [
       "# Banking Money and Interest Rates\n",
       "## the financial system\n",
       "### the role of the financial sector\n",
       "#### grammar\n",
       "__financial intermediaries__ link lenders and borrowers\n",
       "#### logic\n",
       "5 services of financial intermediaries:\n",
       "* expert advice\n",
       "* channel funds to optimal risk/return\n",
       "* maturity transformation\n",
       "* risk transformation\n",
       "* transmission of funds\n",
       "#### rhetoric\n",
       "\n",
       "### the banking system\n",
       "#### grammar\n",
       "retail banks\n",
       "wholesale banking\n",
       "functional separation of retail and wholesale\n",
       "    more than 25 billion\n",
       "__monetary financial institutions__ - all deposit taking institutions including central bank\n",
       "__wholesale funding__ - lending and borrowing between MFIs - money market instruments\n",
       "\n",
       "#### logic\n",
       "less of a clear distinction between building societies and retail banks these days\n",
       "wholesale funding saw marked increase before financial crisis of 2008\n",
       "#### rhetoric\n",
       "\n",
       "### deposit taking and lending\n",
       "#### grammar\n",
       "aggregate size of combined UK MFI balance sheet is 4x that of UK annual GDP\n",
       "__cash balances__ - held at BoE for day to day liquidity and also used in clearing.\n",
       "__clearing__ - settling day to day payments between banks\n",
       "__reserve balances__ - regulatory amount held at BoE and earns bank rate (repo rate)\n",
       "\n",
       "__cash ratio deposits__ - also regulatory, earn no interest, cannot be drawn on\n",
       "\n",
       "__market loans__ - interbank lending\n",
       "\n",
       "3 types of interbank lending:\n",
       "* money lent at call\n",
       "* money lent for upto to 1yr \n",
       "* certificates of deposit\n",
       "\n",
       "__bills of exchange__ - either commercial bills (to companies) or treasury bills (to the government).\n",
       "\n",
       "\n",
       "#### logic\n",
       "bills of exchange do not pay interest so are sold below face value.\n",
       "\n",
       "\n",
       "#### rhetoric\n",
       "\n",
       "### liquidity profitability and capital adequacy\n",
       "#### grammar\n",
       "\n",
       "#### logic\n",
       "\n",
       "#### rhetoric\n",
       "\n",
       "\n",
       "#### grammar\n",
       "\n",
       "#### logic\n",
       "\n",
       "#### rhetoric\n",
       "\n",
       "\n",
       "#### grammar\n",
       "\n",
       "#### logic\n",
       "\n",
       "#### rhetoric\n",
       "\n",
       "\n"
      ],
      "text/plain": [
       "<IPython.core.display.HTML object>"
      ]
     },
     "metadata": {},
     "output_type": "display_data"
    }
   ],
   "source": [
    "sys.path.append(os.path.abspath(\"/home/chris-jakoolit/Mathematics/_templates\"))\n",
    "from common_imports import *\n",
    "# import common_imports \n",
    "\n",
    "\n",
    "\n",
    "\n",
    "display(HTML(\"./_md/the-financial-system.md\"))"
   ]
  }
 ],
 "metadata": {
  "jupytext": {
   "formats": "ipynb,py:percent"
  },
  "kernelspec": {
   "display_name": "Python 3 (ipykernel)",
   "language": "python",
   "name": "python3"
  },
  "language_info": {
   "codemirror_mode": {
    "name": "ipython",
    "version": 3
   },
   "file_extension": ".py",
   "mimetype": "text/x-python",
   "name": "python",
   "nbconvert_exporter": "python",
   "pygments_lexer": "ipython3",
   "version": "3.12.8"
  }
 },
 "nbformat": 4,
 "nbformat_minor": 5
}
