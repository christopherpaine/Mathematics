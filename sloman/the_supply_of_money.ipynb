{
 "cells": [
  {
   "cell_type": "code",
   "execution_count": 1,
   "id": "39fcbc0b",
   "metadata": {
    "execution": {
     "iopub.execute_input": "2025-08-03T08:22:21.873986Z",
     "iopub.status.busy": "2025-08-03T08:22:21.873217Z",
     "iopub.status.idle": "2025-08-03T08:22:21.878153Z",
     "shell.execute_reply": "2025-08-03T08:22:21.877498Z"
    }
   },
   "outputs": [],
   "source": [
    "import sys\n",
    "import os\n",
    "\n"
   ]
  },
  {
   "cell_type": "code",
   "execution_count": 2,
   "id": "532cfc95",
   "metadata": {
    "execution": {
     "iopub.execute_input": "2025-08-03T08:22:21.880579Z",
     "iopub.status.busy": "2025-08-03T08:22:21.880324Z",
     "iopub.status.idle": "2025-08-03T08:22:22.456305Z",
     "shell.execute_reply": "2025-08-03T08:22:22.455702Z"
    }
   },
   "outputs": [],
   "source": [
    "sys.path.append(os.path.abspath(\"/home/chris-jakoolit/Mathematics/_templates\"))\n",
    "from common_imports import *\n",
    "\n",
    "\n",
    "\n"
   ]
  },
  {
   "cell_type": "code",
   "execution_count": 3,
   "id": "4e8e1e8f",
   "metadata": {
    "execution": {
     "iopub.execute_input": "2025-08-03T08:22:22.459978Z",
     "iopub.status.busy": "2025-08-03T08:22:22.459286Z",
     "iopub.status.idle": "2025-08-03T08:22:22.467136Z",
     "shell.execute_reply": "2025-08-03T08:22:22.466670Z"
    }
   },
   "outputs": [
    {
     "data": {
      "text/html": [
       "<style>\n",
       "         h1, h2 {\n",
       "             font-weight: 1000 !important;\n",
       "             color: black;\n",
       "             }\n",
       "    \n",
       "         h4 {\n",
       "             color: lightgrey;\n",
       "             }\n",
       "         h1 {\n",
       "             text-decoration: underline; !important;\n",
       "             }\n",
       "        p {\n",
       "            text-indent: 0px;\n",
       "        }\n",
       "         </style>\n",
       "    "
      ],
      "text/plain": [
       "<IPython.core.display.HTML object>"
      ]
     },
     "metadata": {},
     "output_type": "display_data"
    }
   ],
   "source": [
    "tka.f_css()\n",
    "\n",
    "\n",
    "\n",
    "\n"
   ]
  },
  {
   "cell_type": "code",
   "execution_count": 4,
   "id": "1175dca5",
   "metadata": {
    "execution": {
     "iopub.execute_input": "2025-08-03T08:22:22.469005Z",
     "iopub.status.busy": "2025-08-03T08:22:22.468729Z",
     "iopub.status.idle": "2025-08-03T08:22:22.476975Z",
     "shell.execute_reply": "2025-08-03T08:22:22.476520Z"
    }
   },
   "outputs": [
    {
     "data": {
      "text/html": [],
      "text/plain": [
       "<IPython.core.display.HTML object>"
      ]
     },
     "metadata": {},
     "output_type": "display_data"
    }
   ],
   "source": [
    "display(HTML(fnc.f_md_to_html(\"./_md/the_suppy_of_money.md\")))"
   ]
  }
 ],
 "metadata": {
  "jupytext": {
   "formats": "ipynb,py:percent"
  },
  "kernelspec": {
   "display_name": "Python 3 (ipykernel)",
   "language": "python",
   "name": "python3"
  },
  "language_info": {
   "codemirror_mode": {
    "name": "ipython",
    "version": 3
   },
   "file_extension": ".py",
   "mimetype": "text/x-python",
   "name": "python",
   "nbconvert_exporter": "python",
   "pygments_lexer": "ipython3",
   "version": "3.12.8"
  }
 },
 "nbformat": 4,
 "nbformat_minor": 5
}
