{
 "cells": [
  {
   "cell_type": "code",
   "execution_count": 1,
   "id": "87a98482",
   "metadata": {
    "execution": {
     "iopub.execute_input": "2025-08-02T11:40:41.753268Z",
     "iopub.status.busy": "2025-08-02T11:40:41.753057Z",
     "iopub.status.idle": "2025-08-02T11:40:42.491450Z",
     "shell.execute_reply": "2025-08-02T11:40:42.490868Z"
    },
    "lines_to_next_cell": 2
   },
   "outputs": [
    {
     "ename": "ModuleNotFoundError",
     "evalue": "No module named 'notation'",
     "output_type": "error",
     "traceback": [
      "\u001b[0;31m---------------------------------------------------------------------------\u001b[0m",
      "\u001b[0;31mModuleNotFoundError\u001b[0m                       Traceback (most recent call last)",
      "Cell \u001b[0;32mIn[1], line 7\u001b[0m\n\u001b[1;32m      5\u001b[0m \u001b[38;5;28;01mimport\u001b[39;00m \u001b[38;5;21;01mpandas\u001b[39;00m \u001b[38;5;28;01mas\u001b[39;00m \u001b[38;5;21;01mpd\u001b[39;00m\n\u001b[1;32m      6\u001b[0m \u001b[38;5;28;01mfrom\u001b[39;00m \u001b[38;5;21;01mio\u001b[39;00m \u001b[38;5;28;01mimport\u001b[39;00m StringIO\n\u001b[0;32m----> 7\u001b[0m \u001b[38;5;28;01mimport\u001b[39;00m \u001b[38;5;21;01mnotation\u001b[39;00m \u001b[38;5;28;01mas\u001b[39;00m \u001b[38;5;21;01mntn\u001b[39;00m\n\u001b[1;32m      8\u001b[0m \u001b[38;5;28;01mimport\u001b[39;00m \u001b[38;5;21;01mfunctions\u001b[39;00m \u001b[38;5;28;01mas\u001b[39;00m \u001b[38;5;21;01mfnc\u001b[39;00m\n\u001b[1;32m      9\u001b[0m \u001b[38;5;28;01mimport\u001b[39;00m \u001b[38;5;21;01mtakeaways\u001b[39;00m \u001b[38;5;28;01mas\u001b[39;00m \u001b[38;5;21;01mtka\u001b[39;00m\n",
      "\u001b[0;31mModuleNotFoundError\u001b[0m: No module named 'notation'"
     ]
    }
   ],
   "source": [
    "# imports\n",
    "from IPython.display import display, Markdown, HTML, SVG\n",
    "import numpy as np\n",
    "import matplotlib.pyplot as plt\n",
    "import pandas as pd\n",
    "from io import StringIO\n",
    "import notation as ntn\n",
    "import functions as fnc\n",
    "import takeaways as tka"
   ]
  },
  {
   "cell_type": "code",
   "execution_count": 2,
   "id": "ef45bf49",
   "metadata": {
    "execution": {
     "iopub.execute_input": "2025-08-02T11:40:42.493319Z",
     "iopub.status.busy": "2025-08-02T11:40:42.493048Z",
     "iopub.status.idle": "2025-08-02T11:40:42.503937Z",
     "shell.execute_reply": "2025-08-02T11:40:42.503582Z"
    }
   },
   "outputs": [
    {
     "ename": "NameError",
     "evalue": "name 'tka' is not defined",
     "output_type": "error",
     "traceback": [
      "\u001b[0;31m---------------------------------------------------------------------------\u001b[0m",
      "\u001b[0;31mNameError\u001b[0m                                 Traceback (most recent call last)",
      "Cell \u001b[0;32mIn[2], line 1\u001b[0m\n\u001b[0;32m----> 1\u001b[0m \u001b[43mtka\u001b[49m\u001b[38;5;241m.\u001b[39mf_css()\n",
      "\u001b[0;31mNameError\u001b[0m: name 'tka' is not defined"
     ]
    }
   ],
   "source": [
    "tka.f_css()\n",
    "\n",
    "\n"
   ]
  },
  {
   "cell_type": "code",
   "execution_count": 3,
   "id": "977d46f4",
   "metadata": {
    "execution": {
     "iopub.execute_input": "2025-08-02T11:40:42.506441Z",
     "iopub.status.busy": "2025-08-02T11:40:42.506170Z",
     "iopub.status.idle": "2025-08-02T11:40:42.509154Z",
     "shell.execute_reply": "2025-08-02T11:40:42.508817Z"
    }
   },
   "outputs": [],
   "source": [
    "# GRAMMAR STATEMENTS \n",
    "grm_national_income = \"national income is value of nations output per year\"\n",
    "grm_stock_and_flow= \"national income is a flow concept.  money supply is a stock concept\"\n",
    "grm_3_functions_money = \"3 functions of money: store of wealth; medium of exchange;means of evaluation; means of establishing future value\"\n",
    "grm_financial_intermediaries = \"Financial intermediaries The general name for financial institutions (banks, building societies, etc.) which act as a means of channelling funds from depositors to borrowers.\"\n",
    "grm_matruity_transformation = \"This process whereby financial intermediaries lend for longer periods of time than they borrow is known as maturity transformation .\"\n",
    "grm_risk_transformation = \"risk transformation enabled by pooling of risk\"\n",
    "grm_functional_separation = \"functional separation of retail and wholesale banking, such as by enforcing a ringfence between the different divisions of a financial institution.\"\n",
    "grm_regulation_on_functional_separation = \"The ring-fencing of UK banking groups with more than £25 billion of core retail deposits became effective from January 2019.\"\n",
    "grm_ring_fenced_banks = \"Banks which are functionally separated from the rest of their groups are known as ring-fenced banks or RFBs.\"\n",
    "grm_mfi = \"banks and building societies are both examples of what are called monetary financial institutions (MFIs)\"\n",
    "grm_mfi_vs_gdp = \"The aggregate size of the balance sheet in the first quarter of 2021 was roughly 4 times the UK’s annual gdp (c. £2.5 trillion)\"\n",
    "\n"
   ]
  },
  {
   "cell_type": "code",
   "execution_count": 4,
   "id": "3816794b",
   "metadata": {
    "execution": {
     "iopub.execute_input": "2025-08-02T11:40:42.510713Z",
     "iopub.status.busy": "2025-08-02T11:40:42.510468Z",
     "iopub.status.idle": "2025-08-02T11:40:42.513141Z",
     "shell.execute_reply": "2025-08-02T11:40:42.512765Z"
    }
   },
   "outputs": [],
   "source": [
    "# LOGIC LISTS\n",
    "lgc_risk_maturity_transformation = [\n",
    "\"maturity transformation creates risk for financial intermediaries\", \n",
    "\"mismatch of assets and liabilities on their balance sheet\",\n",
    "\"risk needs managing\",\n",
    "\n",
    "]"
   ]
  },
  {
   "cell_type": "code",
   "execution_count": 5,
   "id": "27dc89a7",
   "metadata": {
    "execution": {
     "iopub.execute_input": "2025-08-02T11:40:42.514608Z",
     "iopub.status.busy": "2025-08-02T11:40:42.514397Z",
     "iopub.status.idle": "2025-08-02T11:40:42.529982Z",
     "shell.execute_reply": "2025-08-02T11:40:42.529383Z"
    },
    "lines_to_next_cell": 2
   },
   "outputs": [
    {
     "data": {
      "text/html": [
       "<h1>Rough notes on Sloman Economics Banking Money and Interest Rates section</h1>"
      ],
      "text/plain": [
       "<IPython.core.display.HTML object>"
      ]
     },
     "metadata": {},
     "output_type": "display_data"
    },
    {
     "ename": "NameError",
     "evalue": "name 'tka' is not defined",
     "output_type": "error",
     "traceback": [
      "\u001b[0;31m---------------------------------------------------------------------------\u001b[0m",
      "\u001b[0;31mNameError\u001b[0m                                 Traceback (most recent call last)",
      "Cell \u001b[0;32mIn[5], line 10\u001b[0m\n\u001b[1;32m      2\u001b[0m rht_changes_in_money \u001b[38;5;241m=\u001b[39m \u001b[38;5;124m\"\u001b[39m\u001b[38;5;124mIt is generally recognised that changes in the amount of money can have a powerful effect on all the major macroeconomic indicators, such as inflation, unemployment, economic growth, interest rates, exchange rates and the balance of payments. \u001b[39m\u001b[38;5;124m\"\u001b[39m\n\u001b[1;32m      9\u001b[0m display(HTML(\u001b[38;5;124m\"\u001b[39m\u001b[38;5;124m<h1>Rough notes on Sloman Economics Banking Money and Interest Rates section</h1>\u001b[39m\u001b[38;5;124m\"\u001b[39m))\n\u001b[0;32m---> 10\u001b[0m \u001b[43mtka\u001b[49m\u001b[38;5;241m.\u001b[39mf_convert_string_vars_to_htmls(\u001b[38;5;28mglobals\u001b[39m(),\u001b[38;5;124m\"\u001b[39m\u001b[38;5;124mgrm\u001b[39m\u001b[38;5;124m\"\u001b[39m,\u001b[38;5;241m2\u001b[39m,\u001b[38;5;124m\"\u001b[39m\u001b[38;5;124mgrammar\u001b[39m\u001b[38;5;124m\"\u001b[39m)\n\u001b[1;32m     11\u001b[0m display(HTML(\u001b[38;5;124m\"\u001b[39m\u001b[38;5;124m<h2>logic</h2>\u001b[39m\u001b[38;5;124m\"\u001b[39m))\n\u001b[1;32m     12\u001b[0m tka\u001b[38;5;241m.\u001b[39mf_display_html_with_heading(\u001b[38;5;28mglobals\u001b[39m(),\u001b[38;5;124m\"\u001b[39m\u001b[38;5;124mlgc\u001b[39m\u001b[38;5;124m\"\u001b[39m,\u001b[38;5;241m3\u001b[39m)\n",
      "\u001b[0;31mNameError\u001b[0m: name 'tka' is not defined"
     ]
    }
   ],
   "source": [
    "# RHETORICAL STATEMENTS \n",
    "rht_changes_in_money = \"It is generally recognised that changes in the amount of money can have a powerful effect on all the major macroeconomic indicators, such as inflation, unemployment, economic growth, interest rates, exchange rates and the balance of payments. \"\n",
    "\n",
    "\n",
    "\n",
    "\n",
    "\n",
    "\n",
    "display(HTML(\"<h1>Rough notes on Sloman Economics Banking Money and Interest Rates section</h1>\"))\n",
    "tka.f_convert_string_vars_to_htmls(globals(),\"grm\",2,\"grammar\")\n",
    "display(HTML(\"<h2>logic</h2>\"))\n",
    "tka.f_display_html_with_heading(globals(),\"lgc\",3)\n",
    "tka.f_convert_string_vars_to_htmls(globals(),\"rht\",2,\"rhetoric\")\n",
    "\n",
    "\n"
   ]
  }
 ],
 "metadata": {
  "jupytext": {
   "formats": "ipynb,py:percent"
  },
  "kernelspec": {
   "display_name": "Python 3 (ipykernel)",
   "language": "python",
   "name": "python3"
  },
  "language_info": {
   "codemirror_mode": {
    "name": "ipython",
    "version": 3
   },
   "file_extension": ".py",
   "mimetype": "text/x-python",
   "name": "python",
   "nbconvert_exporter": "python",
   "pygments_lexer": "ipython3",
   "version": "3.12.8"
  }
 },
 "nbformat": 4,
 "nbformat_minor": 5
}
