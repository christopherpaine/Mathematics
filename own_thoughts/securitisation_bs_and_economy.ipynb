{
 "cells": [
  {
   "cell_type": "code",
   "execution_count": 1,
   "id": "d5f2caa8",
   "metadata": {
    "execution": {
     "iopub.execute_input": "2025-08-02T18:12:46.918715Z",
     "iopub.status.busy": "2025-08-02T18:12:46.918156Z",
     "iopub.status.idle": "2025-08-02T18:12:46.921851Z",
     "shell.execute_reply": "2025-08-02T18:12:46.921382Z"
    }
   },
   "outputs": [],
   "source": [
    "import sys\n",
    "import os\n",
    "\n"
   ]
  },
  {
   "cell_type": "code",
   "execution_count": 2,
   "id": "cde6acc1",
   "metadata": {
    "execution": {
     "iopub.execute_input": "2025-08-02T18:12:46.924148Z",
     "iopub.status.busy": "2025-08-02T18:12:46.923927Z",
     "iopub.status.idle": "2025-08-02T18:12:47.566942Z",
     "shell.execute_reply": "2025-08-02T18:12:47.566347Z"
    },
    "lines_to_next_cell": 2
   },
   "outputs": [],
   "source": [
    "sys.path.append(os.path.abspath(\"/home/chris-jakoolit/Mathematics/_templates\"))\n",
    "from common_imports import *"
   ]
  },
  {
   "cell_type": "code",
   "execution_count": 3,
   "id": "9559a66e",
   "metadata": {
    "execution": {
     "iopub.execute_input": "2025-08-02T18:12:47.569783Z",
     "iopub.status.busy": "2025-08-02T18:12:47.569143Z",
     "iopub.status.idle": "2025-08-02T18:12:47.575477Z",
     "shell.execute_reply": "2025-08-02T18:12:47.574972Z"
    }
   },
   "outputs": [
    {
     "data": {
      "text/html": [
       "<style>\n",
       "         h1, h2 {\n",
       "             font-weight: 1000 !important;\n",
       "             color: black;\n",
       "             }\n",
       "    \n",
       "         h4 {\n",
       "             color: lightgrey;\n",
       "             }\n",
       "         h1 {\n",
       "             text-decoration: underline; !important;\n",
       "             }\n",
       "        p {\n",
       "            text-indent: 0px;\n",
       "        }\n",
       "         </style>\n",
       "    "
      ],
      "text/plain": [
       "<IPython.core.display.HTML object>"
      ]
     },
     "metadata": {},
     "output_type": "display_data"
    }
   ],
   "source": [
    "tka.f_css()\n",
    "\n"
   ]
  },
  {
   "cell_type": "code",
   "execution_count": 4,
   "id": "cd97d089",
   "metadata": {
    "execution": {
     "iopub.execute_input": "2025-08-02T18:12:47.577513Z",
     "iopub.status.busy": "2025-08-02T18:12:47.577274Z",
     "iopub.status.idle": "2025-08-02T18:12:47.583990Z",
     "shell.execute_reply": "2025-08-02T18:12:47.583556Z"
    },
    "lines_to_next_cell": 2
   },
   "outputs": [
    {
     "data": {
      "text/html": [
       "<p>:\n",
       ":</p>"
      ],
      "text/plain": [
       "<IPython.core.display.HTML object>"
      ]
     },
     "metadata": {},
     "output_type": "display_data"
    }
   ],
   "source": [
    "\n",
    "display(HTML(fnc.f_md_to_html(\"./_md/securitisation_bs_and_the_economy.md\")))"
   ]
  }
 ],
 "metadata": {
  "jupytext": {
   "formats": "ipynb,py:percent"
  },
  "kernelspec": {
   "display_name": "Python 3 (ipykernel)",
   "language": "python",
   "name": "python3"
  },
  "language_info": {
   "codemirror_mode": {
    "name": "ipython",
    "version": 3
   },
   "file_extension": ".py",
   "mimetype": "text/x-python",
   "name": "python",
   "nbconvert_exporter": "python",
   "pygments_lexer": "ipython3",
   "version": "3.12.8"
  }
 },
 "nbformat": 4,
 "nbformat_minor": 5
}
