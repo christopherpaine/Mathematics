{
 "cells": [
  {
   "cell_type": "code",
   "execution_count": 1,
   "id": "d5f2caa8",
   "metadata": {
    "execution": {
     "iopub.execute_input": "2025-08-02T20:31:48.236539Z",
     "iopub.status.busy": "2025-08-02T20:31:48.235855Z",
     "iopub.status.idle": "2025-08-02T20:31:48.249741Z",
     "shell.execute_reply": "2025-08-02T20:31:48.248865Z"
    }
   },
   "outputs": [],
   "source": [
    "import sys\n",
    "import os\n",
    "\n"
   ]
  },
  {
   "cell_type": "code",
   "execution_count": 2,
   "id": "cde6acc1",
   "metadata": {
    "execution": {
     "iopub.execute_input": "2025-08-02T20:31:48.253112Z",
     "iopub.status.busy": "2025-08-02T20:31:48.252511Z",
     "iopub.status.idle": "2025-08-02T20:31:48.829087Z",
     "shell.execute_reply": "2025-08-02T20:31:48.828394Z"
    },
    "lines_to_next_cell": 2
   },
   "outputs": [],
   "source": [
    "sys.path.append(os.path.abspath(\"/home/chris-jakoolit/Mathematics/_templates\"))\n",
    "from common_imports import *"
   ]
  },
  {
   "cell_type": "code",
   "execution_count": 3,
   "id": "9559a66e",
   "metadata": {
    "execution": {
     "iopub.execute_input": "2025-08-02T20:31:48.831652Z",
     "iopub.status.busy": "2025-08-02T20:31:48.831390Z",
     "iopub.status.idle": "2025-08-02T20:31:48.838440Z",
     "shell.execute_reply": "2025-08-02T20:31:48.838057Z"
    }
   },
   "outputs": [
    {
     "data": {
      "text/html": [
       "<style>\n",
       "         h1, h2 {\n",
       "             font-weight: 1000 !important;\n",
       "             color: black;\n",
       "             }\n",
       "    \n",
       "         h4 {\n",
       "             color: lightgrey;\n",
       "             }\n",
       "         h1 {\n",
       "             text-decoration: underline; !important;\n",
       "             }\n",
       "        p {\n",
       "            text-indent: 0px;\n",
       "        }\n",
       "         </style>\n",
       "    "
      ],
      "text/plain": [
       "<IPython.core.display.HTML object>"
      ]
     },
     "metadata": {},
     "output_type": "display_data"
    }
   ],
   "source": [
    "tka.f_css()"
   ]
  },
  {
   "cell_type": "code",
   "execution_count": 4,
   "id": "cd97d089",
   "metadata": {
    "execution": {
     "iopub.execute_input": "2025-08-02T20:31:48.840935Z",
     "iopub.status.busy": "2025-08-02T20:31:48.840467Z",
     "iopub.status.idle": "2025-08-02T20:31:48.849529Z",
     "shell.execute_reply": "2025-08-02T20:31:48.849113Z"
    },
    "lines_to_next_cell": 2
   },
   "outputs": [
    {
     "data": {
      "text/html": [
       "<h1>why do bank balance sheets increase with securitisation</h1>\n",
       "<p>it is a bit like fractional reserving<br />\n",
       "i.e where deposit -&gt; loan -&gt; deposit -&gt; loan<br />\n",
       "multiplies credit via fractional reserving</p>\n",
       "<p>for securitisation the loop is:<br />\n",
       "originate loan -&gt; securitise -&gt; originate loan -&gt; securitise<br />\n",
       "multiplies credit  </p>\n",
       "<p>a final point:<br />\n",
       "if only banks purchased securitiesed assets then bank balance sheets would not have grown in aggregate<br />\n",
       "the key to aggregate growth in bank balance sheets is that securitised assets were offloaded to non-bank institutions  </p>\n",
       "<h1>the maths</h1>\n",
       "<p>$R = \\text{Reserve ratio (fraction of deposits that must be held in reserve)}$<br />\n",
       "$D = \\text{Initial deposit}$<br />\n",
       "$C = \\text{Total credit created}$<br />\n",
       "$C = \\frac{D}{R} - D$<br />\n",
       "$C = D \\left( \\frac{1}{R} - 1 \\right)$  </p>"
      ],
      "text/plain": [
       "<IPython.core.display.HTML object>"
      ]
     },
     "metadata": {},
     "output_type": "display_data"
    }
   ],
   "source": [
    "\n",
    "\n",
    "display(HTML(fnc.f_md_to_html(\"./_md/securitisation_bs_and_the_economy.md\")))"
   ]
  }
 ],
 "metadata": {
  "jupytext": {
   "formats": "ipynb,py:percent"
  },
  "kernelspec": {
   "display_name": "Python 3 (ipykernel)",
   "language": "python",
   "name": "python3"
  },
  "language_info": {
   "codemirror_mode": {
    "name": "ipython",
    "version": 3
   },
   "file_extension": ".py",
   "mimetype": "text/x-python",
   "name": "python",
   "nbconvert_exporter": "python",
   "pygments_lexer": "ipython3",
   "version": "3.12.8"
  }
 },
 "nbformat": 4,
 "nbformat_minor": 5
}
