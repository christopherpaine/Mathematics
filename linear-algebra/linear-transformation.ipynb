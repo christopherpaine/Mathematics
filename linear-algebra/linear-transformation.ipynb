{
 "cells": [
  {
   "cell_type": "code",
   "execution_count": 1,
   "id": "e132b057",
   "metadata": {
    "execution": {
     "iopub.execute_input": "2025-07-30T09:43:53.905492Z",
     "iopub.status.busy": "2025-07-30T09:43:53.905269Z",
     "iopub.status.idle": "2025-07-30T09:43:54.361792Z",
     "shell.execute_reply": "2025-07-30T09:43:54.361454Z"
    }
   },
   "outputs": [
    {
     "data": {
      "text/html": [
       "<h2>Linear Transformations</h2>"
      ],
      "text/plain": [
       "<IPython.core.display.HTML object>"
      ]
     },
     "metadata": {},
     "output_type": "display_data"
    },
    {
     "data": {
      "text/html": [
       "A linear transformation is a function or mapping between two vector spaces that preserves the operations of vector addition and scalar multiplication."
      ],
      "text/plain": [
       "<IPython.core.display.HTML object>"
      ]
     },
     "metadata": {},
     "output_type": "display_data"
    },
    {
     "data": {
      "text/html": [
       "We define \\(T: V \\rightarrow V\\) as a linear transformation that preserves the vector space."
      ],
      "text/plain": [
       "<IPython.core.display.HTML object>"
      ]
     },
     "metadata": {},
     "output_type": "display_data"
    }
   ],
   "source": [
    "# imports\n",
    "from IPython.display import display, Markdown, HTML, SVG\n",
    "import numpy as np\n",
    "import matplotlib.pyplot as plt\n",
    "import pandas as pd\n",
    "from io import StringIO\n",
    "import notation as ntn\n",
    "\n",
    "wrd_linear_transformation_intro = \"<h2>Linear Transformations</h2>\"\n",
    "wrd_T_linear_transformation = \"We define \" + ntn.not_transformation + \" as a linear transformation that preserves the vector space.\"\n",
    "wrd_defn_linear_transformation = \"A linear transformation is a function or mapping between two vector spaces that preserves the operations of vector addition and scalar multiplication.\"\n",
    "\n",
    "\n",
    "\n",
    "\n",
    "\n",
    "display(HTML(wrd_linear_transformation_intro))\n",
    "display(HTML(wrd_defn_linear_transformation))\n",
    "display(HTML(wrd_T_linear_transformation))\n",
    "\n",
    "\n",
    "## %%\n",
    "#A linear transformation is not a vector, but rather a function or mapping       \n",
    "#between two vector spaces that preserves the operations of vector addition and  \n",
    "#scalar multiplication. In mathematical terms, if ( T: V \\rightarrow W ) is a    \n",
    "#linear transformation between vector spaces ( V ) and ( W ), then for any       \n",
    "#vectors ( \\mathbf{u}, \\mathbf{v} \\in V ) and any scalar ( c ), the following    \n",
    "#properties hold:                                                                \n",
    "#\n",
    "# 1 ( T(\\mathbf{u} + \\mathbf{v}) = T(\\mathbf{u}) + T(\\mathbf{v}) )               \n",
    "# 2 ( T(c\\mathbf{u}) = cT(\\mathbf{u}) )                                          \n",
    "#\n",
    "#While linear transformations themselves are not vectors, they can be represented\n",
    "#by matrices when considering finite-dimensional vector spaces.                  "
   ]
  }
 ],
 "metadata": {
  "jupytext": {
   "formats": "ipynb,py:percent,md"
  },
  "kernelspec": {
   "display_name": "Python 3 (ipykernel)",
   "language": "python",
   "name": "python3"
  },
  "language_info": {
   "codemirror_mode": {
    "name": "ipython",
    "version": 3
   },
   "file_extension": ".py",
   "mimetype": "text/x-python",
   "name": "python",
   "nbconvert_exporter": "python",
   "pygments_lexer": "ipython3",
   "version": "3.13.4"
  }
 },
 "nbformat": 4,
 "nbformat_minor": 5
}
