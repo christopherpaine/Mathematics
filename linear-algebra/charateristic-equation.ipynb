{
 "cells": [
  {
   "cell_type": "code",
   "execution_count": 1,
   "id": "951f9eca",
   "metadata": {
    "execution": {
     "iopub.execute_input": "2025-07-30T09:26:33.381975Z",
     "iopub.status.busy": "2025-07-30T09:26:33.381677Z",
     "iopub.status.idle": "2025-07-30T09:26:33.887350Z",
     "shell.execute_reply": "2025-07-30T09:26:33.886789Z"
    }
   },
   "outputs": [],
   "source": [
    "# imports\n",
    "from IPython.display import display, Markdown, HTML, SVG\n",
    "import numpy as np\n",
    "import matplotlib.pyplot as plt\n",
    "import pandas as pd\n",
    "from io import StringIO\n",
    "import notation as ntn\n",
    "\n",
    "\n"
   ]
  },
  {
   "cell_type": "code",
   "execution_count": 2,
   "id": "cf42835f",
   "metadata": {
    "execution": {
     "iopub.execute_input": "2025-07-30T09:26:33.889512Z",
     "iopub.status.busy": "2025-07-30T09:26:33.889061Z",
     "iopub.status.idle": "2025-07-30T09:26:33.892238Z",
     "shell.execute_reply": "2025-07-30T09:26:33.891891Z"
    },
    "lines_to_next_cell": 2
   },
   "outputs": [
    {
     "name": "stderr",
     "output_type": "stream",
     "text": [
      "<>:5: SyntaxWarning: invalid escape sequence '\\l'\n",
      "<>:5: SyntaxWarning: invalid escape sequence '\\l'\n",
      "/tmp/nix-shell-150985-0/ipykernel_373934/1182201366.py:5: SyntaxWarning: invalid escape sequence '\\l'\n",
      "  <p>The characteristic equation is a fundamental concept in linear algebra and      differential equations. It is derived from a square matrix and is used to find  the eigenvalues of that matrix. For a given ( n \\times n ) matrix ( A ), the    characteristic equation is obtained by setting the determinant of ( A - \\lambda I ) to zero, where ( \\lambda ) represents the eigenvalues and ( I ) is the      identity matrix of the same dimension as ( A ). Mathematically, it is expressed as:                                                                             </p>\"\"\"\n"
     ]
    }
   ],
   "source": [
    "wrd_intro_chrct_eqn =\"\"\" <h1>Understanding the Characteristic Equation</h1>\n",
    "\n",
    "\n",
    "\n",
    "<p>The characteristic equation is a fundamental concept in linear algebra and      differential equations. It is derived from a square matrix and is used to find  the eigenvalues of that matrix. For a given ( n \\times n ) matrix ( A ), the    characteristic equation is obtained by setting the determinant of ( A - \\lambda I ) to zero, where ( \\lambda ) represents the eigenvalues and ( I ) is the      identity matrix of the same dimension as ( A ). Mathematically, it is expressed as:                                                                             </p>\"\"\"\n",
    "\n",
    "\n",
    "wrd_sovling_char = \"Solving this equation yields the eigenvalues, which are crucial for understanding the properties of the matrix, such as stability and oscillatory behavior in systems.\" "
   ]
  },
  {
   "cell_type": "code",
   "execution_count": 3,
   "id": "7c6e03fc",
   "metadata": {
    "execution": {
     "iopub.execute_input": "2025-07-30T09:26:33.893875Z",
     "iopub.status.busy": "2025-07-30T09:26:33.893582Z",
     "iopub.status.idle": "2025-07-30T09:26:33.899161Z",
     "shell.execute_reply": "2025-07-30T09:26:33.898831Z"
    },
    "lines_to_next_cell": 2
   },
   "outputs": [
    {
     "data": {
      "text/html": [
       "<a href=\"https://christopherpaine.github.io/Mathematics\">link home</a>"
      ],
      "text/plain": [
       "<IPython.core.display.HTML object>"
      ]
     },
     "metadata": {},
     "output_type": "display_data"
    },
    {
     "data": {
      "text/html": [
       " <h1>Understanding the Characteristic Equation</h1>\n",
       "\n",
       "\n",
       "\n",
       "<p>The characteristic equation is a fundamental concept in linear algebra and      differential equations. It is derived from a square matrix and is used to find  the eigenvalues of that matrix. For a given ( n \times n ) matrix ( A ), the    characteristic equation is obtained by setting the determinant of ( A - \\lambda I ) to zero, where ( \\lambda ) represents the eigenvalues and ( I ) is the      identity matrix of the same dimension as ( A ). Mathematically, it is expressed as:                                                                             </p>\\( \\text{det}(A - \\lambda I) = 0 \\)Solving this equation yields the eigenvalues, which are crucial for understanding the properties of the matrix, such as stability and oscillatory behavior in systems."
      ],
      "text/plain": [
       "<IPython.core.display.HTML object>"
      ]
     },
     "metadata": {},
     "output_type": "display_data"
    }
   ],
   "source": [
    "display(HTML('<a href=\"https://christopherpaine.github.io/Mathematics\">link home</a>'))\n",
    "display(HTML(wrd_intro_chrct_eqn+ntn.not_char_eqn+wrd_sovling_char))\n",
    "\n",
    "\n",
    "\n",
    "\n",
    "\n"
   ]
  }
 ],
 "metadata": {
  "jupytext": {
   "formats": "ipynb,py:percent,md"
  },
  "kernelspec": {
   "display_name": "Python 3 (ipykernel)",
   "language": "python",
   "name": "python3"
  },
  "language_info": {
   "codemirror_mode": {
    "name": "ipython",
    "version": 3
   },
   "file_extension": ".py",
   "mimetype": "text/x-python",
   "name": "python",
   "nbconvert_exporter": "python",
   "pygments_lexer": "ipython3",
   "version": "3.13.4"
  }
 },
 "nbformat": 4,
 "nbformat_minor": 5
}
