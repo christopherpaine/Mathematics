{
 "cells": [
  {
   "cell_type": "code",
   "execution_count": 1,
   "id": "c53bdfeb",
   "metadata": {
    "execution": {
     "iopub.execute_input": "2025-07-31T15:31:18.532315Z",
     "iopub.status.busy": "2025-07-31T15:31:18.531495Z",
     "iopub.status.idle": "2025-07-31T15:31:19.163100Z",
     "shell.execute_reply": "2025-07-31T15:31:19.162287Z"
    }
   },
   "outputs": [],
   "source": [
    "# imports\n",
    "from IPython.display import display, Markdown, HTML, SVG\n",
    "import numpy as np\n",
    "import matplotlib.pyplot as plt\n",
    "import pandas as pd\n",
    "from io import StringIO\n",
    "import notation as ntn\n",
    "import functions as fnc\n",
    "\n"
   ]
  },
  {
   "cell_type": "code",
   "execution_count": 2,
   "id": "49a1fd77",
   "metadata": {
    "execution": {
     "iopub.execute_input": "2025-07-31T15:31:19.165824Z",
     "iopub.status.busy": "2025-07-31T15:31:19.165476Z",
     "iopub.status.idle": "2025-07-31T15:31:19.170154Z",
     "shell.execute_reply": "2025-07-31T15:31:19.169623Z"
    },
    "lines_to_next_cell": 2
   },
   "outputs": [],
   "source": [
    "grm_out_of_sample = \"out of sample yield curves  -  those not used in the analysis to derive yield curves\"\n",
    "grm_centering_scaling = \"centering and scaling\"\n",
    "grm_role_of_transformations = \"role of transformations\"\n",
    "grm_inverse_problem_determining_magnitudes = \" inverse problem of determining pc magnitudes given a yield curve\"\n",
    "grm_modelling_yield_curve_dynamics = \"modelling yield curve dynamics  -  is this the same as modelling yield curve changes given a base curve\"\n",
    "\n",
    "\n",
    "\n",
    "lgc_out_of_sample = [\n",
    "\"out of sample yield curves  -  those not used in the analysis to derive yield curves\",\n",
    "\"his is shown to potentially require many more PCs than we might first think.\",\n",
    "\"perhaps bayesian inference gets around this....\"\n",
    "\n",
    "]\n",
    "\n",
    "lgc_adjacent_points_on_curve_do_not_move_independently = [\n",
    "\"adjacent points on the yield curve do not move independently\",\n",
    "\"why is this-when considering the forward yield curve specifically\"\n",
    "]\n",
    "lgc_central_tendency = [\n",
    "\"since pca derived from covariance matrix we are talking about deviation from the mean\",\n",
    "\"what does the mean represent in this context\",\n",
    "        ]        \n",
    "\n",
    "\n",
    "\n",
    "rht_pc_intuitive = [\n",
    "\"ntuitively, PCs represent ways in which the forward rates making up a yield curve can deviate from their mean levels\"\n",
    "\n",
    "]"
   ]
  },
  {
   "cell_type": "code",
   "execution_count": 3,
   "id": "2d887010",
   "metadata": {
    "execution": {
     "iopub.execute_input": "2025-07-31T15:31:19.172366Z",
     "iopub.status.busy": "2025-07-31T15:31:19.172144Z",
     "iopub.status.idle": "2025-07-31T15:31:19.193955Z",
     "shell.execute_reply": "2025-07-31T15:31:19.193285Z"
    },
    "lines_to_next_cell": 2
   },
   "outputs": [
    {
     "data": {
      "text/html": [
       "<h1>Rough notes on moodys paper</h1>"
      ],
      "text/plain": [
       "<IPython.core.display.HTML object>"
      ]
     },
     "metadata": {},
     "output_type": "display_data"
    },
    {
     "data": {
      "text/html": [
       "<h2>grammar</h2>"
      ],
      "text/plain": [
       "<IPython.core.display.HTML object>"
      ]
     },
     "metadata": {},
     "output_type": "display_data"
    },
    {
     "data": {
      "text/html": [
       "out of sample yield curves  -  those not used in the analysis to derive yield curves"
      ],
      "text/plain": [
       "<IPython.core.display.HTML object>"
      ]
     },
     "metadata": {},
     "output_type": "display_data"
    },
    {
     "data": {
      "text/html": [
       "centering and scaling"
      ],
      "text/plain": [
       "<IPython.core.display.HTML object>"
      ]
     },
     "metadata": {},
     "output_type": "display_data"
    },
    {
     "data": {
      "text/html": [
       "role of transformations"
      ],
      "text/plain": [
       "<IPython.core.display.HTML object>"
      ]
     },
     "metadata": {},
     "output_type": "display_data"
    },
    {
     "data": {
      "text/html": [
       " inverse problem of determining pc magnitudes given a yield curve"
      ],
      "text/plain": [
       "<IPython.core.display.HTML object>"
      ]
     },
     "metadata": {},
     "output_type": "display_data"
    },
    {
     "data": {
      "text/html": [
       "modelling yield curve dynamics  -  is this the same as modelling yield curve changes given a base curve"
      ],
      "text/plain": [
       "<IPython.core.display.HTML object>"
      ]
     },
     "metadata": {},
     "output_type": "display_data"
    },
    {
     "data": {
      "text/html": [
       "<h2>logic</h2>"
      ],
      "text/plain": [
       "<IPython.core.display.HTML object>"
      ]
     },
     "metadata": {},
     "output_type": "display_data"
    },
    {
     "data": {
      "text/html": [
       "<h3>out of sample yield curves  -  those not used in the analysis to derive yield curves</h3>his is shown to potentially require many more PCs than we might first think.<br>perhaps bayesian inference gets around this...."
      ],
      "text/plain": [
       "<IPython.core.display.HTML object>"
      ]
     },
     "metadata": {},
     "output_type": "display_data"
    },
    {
     "data": {
      "text/html": [
       "<h3>adjacent points on the yield curve do not move independently</h3>why is this-when considering the forward yield curve specifically"
      ],
      "text/plain": [
       "<IPython.core.display.HTML object>"
      ]
     },
     "metadata": {},
     "output_type": "display_data"
    },
    {
     "data": {
      "text/html": [
       "<h3>since pca derived from covariance matrix we are talking about deviation from the mean</h3>what does the mean represent in this context"
      ],
      "text/plain": [
       "<IPython.core.display.HTML object>"
      ]
     },
     "metadata": {},
     "output_type": "display_data"
    },
    {
     "data": {
      "text/html": [
       "<h2>rhetoric</h2>"
      ],
      "text/plain": [
       "<IPython.core.display.HTML object>"
      ]
     },
     "metadata": {},
     "output_type": "display_data"
    }
   ],
   "source": [
    "\n",
    "display(HTML(\"<h1>Rough notes on moodys paper</h1>\"))\n",
    "display(HTML(\"<h2>grammar</h2>\"))\n",
    "filtered_list = [s for s in fnc.list_variables(globals()) if s.startswith(\"grm\")]                    \n",
    "for html in filtered_list:                                                         \n",
    "     display(HTML(eval(html)))                                                                \n",
    "display(HTML(\"<h2>logic</h2>\"))\n",
    "logi_list = [s for s in fnc.list_variables(globals()) if s.startswith(\"lgc\")]                    \n",
    "for html in logi_list:                                                         \n",
    "     display(HTML(fnc.combine_strings_with_heading(eval(html),3)))                                                                \n",
    "display(HTML(\"<h2>rhetoric</h2>\"))\n",
    "\n",
    "\n",
    "\n",
    "\n",
    "\n",
    "\n",
    "\n",
    "\n",
    "\n"
   ]
  }
 ],
 "metadata": {
  "jupytext": {
   "formats": "ipynb,py:percent,md"
  },
  "kernelspec": {
   "display_name": "Python 3 (ipykernel)",
   "language": "python",
   "name": "python3"
  },
  "language_info": {
   "codemirror_mode": {
    "name": "ipython",
    "version": 3
   },
   "file_extension": ".py",
   "mimetype": "text/x-python",
   "name": "python",
   "nbconvert_exporter": "python",
   "pygments_lexer": "ipython3",
   "version": "3.12.8"
  }
 },
 "nbformat": 4,
 "nbformat_minor": 5
}
