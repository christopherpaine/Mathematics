{
 "cells": [
  {
   "cell_type": "code",
   "execution_count": 1,
   "id": "c53bdfeb",
   "metadata": {
    "execution": {
     "iopub.execute_input": "2025-07-31T19:00:50.829461Z",
     "iopub.status.busy": "2025-07-31T19:00:50.829066Z",
     "iopub.status.idle": "2025-07-31T19:00:51.575211Z",
     "shell.execute_reply": "2025-07-31T19:00:51.574391Z"
    }
   },
   "outputs": [],
   "source": [
    "# imports\n",
    "from IPython.display import display, Markdown, HTML, SVG\n",
    "import numpy as np\n",
    "import matplotlib.pyplot as plt\n",
    "import pandas as pd\n",
    "from io import StringIO\n",
    "import notation as ntn\n",
    "import functions as fnc\n",
    "\n",
    "\n",
    "def f_display_html_with_heading(prefix, heading_level):\n",
    "    lst = [s for s in fnc.list_variables(globals()) if s.startswith(prefix)]\n",
    "    for html in lst:\n",
    "        display(HTML(fnc.combine_strings_with_heading(eval(html), heading_level)))"
   ]
  },
  {
   "cell_type": "code",
   "execution_count": 2,
   "id": "49a1fd77",
   "metadata": {
    "execution": {
     "iopub.execute_input": "2025-07-31T19:00:51.578089Z",
     "iopub.status.busy": "2025-07-31T19:00:51.577729Z",
     "iopub.status.idle": "2025-07-31T19:00:51.582452Z",
     "shell.execute_reply": "2025-07-31T19:00:51.581729Z"
    },
    "lines_to_next_cell": 2
   },
   "outputs": [],
   "source": [
    "# GRAMMAR STATEMENTS \n",
    "grm_centering_scaling = \"centering and scaling\"\n",
    "grm_role_of_transformations = \"role of transformations\"\n",
    "grm_inverse_problem_determining_magnitudes = \" inverse problem of determining pc magnitudes given a yield curve\"\n",
    "grm_modelling_yield_curve_dynamics = \"modelling yield curve dynamics  -  is this the same as modelling yield curve changes given a base curve\"\n",
    "popnsmpl_out_of_sample = \"out of sample yield curves  -  those not used in the analysis to derive yield curves\"\n",
    "popnsmpl_population = \"population is the total population from which the sample set is obtained. For the examples in this paper this could also be called the universe of possible yield curves\"\n",
    "popnsmpl_sample_set = \"data set on which the PCA is performed. For the examples presented in this paper this is just a set of absolute yield curves in terms of forward rates\""
   ]
  },
  {
   "cell_type": "code",
   "execution_count": 3,
   "id": "0140c065",
   "metadata": {
    "execution": {
     "iopub.execute_input": "2025-07-31T19:00:51.584849Z",
     "iopub.status.busy": "2025-07-31T19:00:51.584567Z",
     "iopub.status.idle": "2025-07-31T19:00:51.588897Z",
     "shell.execute_reply": "2025-07-31T19:00:51.588192Z"
    }
   },
   "outputs": [],
   "source": [
    "# LOGIC LISTS\n",
    "lgc_out_of_sample = [\n",
    "\"out of sample yield curves  -  those not used in the analysis to derive yield curves\",\n",
    "\"his is shown to potentially require many more PCs than we might first think.\",\n",
    "\"perhaps bayesian inference gets around this....\"\n",
    "\n",
    "]\n",
    "\n",
    "lgc_adjacent_points_on_curve_do_not_move_independently = [\n",
    "\"adjacent points on the yield curve do not move independently\",\n",
    "\"why is this-when considering the forward yield curve specifically\"\n",
    "]\n",
    "lgc_central_tendency = [\n",
    "\"since pca derived from covariance matrix we are talking about deviation from the mean\",\n",
    "\"what does the mean represent in this context\",\n",
    "        ]        \n",
    "\n",
    "lgc_population_and_sample = [\n",
    "\"more is made of difference between population and sample than i would\",\n",
    "\"i would go for largest available dataset that is relevant and to me that is the population\",\n",
    "\"the paper seems to see validity in not using whole population to calibrate\"\n",
    "]\n",
    "\n",
    "\n",
    "\n"
   ]
  },
  {
   "cell_type": "code",
   "execution_count": 4,
   "id": "2d887010",
   "metadata": {
    "execution": {
     "iopub.execute_input": "2025-07-31T19:00:51.591253Z",
     "iopub.status.busy": "2025-07-31T19:00:51.590892Z",
     "iopub.status.idle": "2025-07-31T19:00:51.594296Z",
     "shell.execute_reply": "2025-07-31T19:00:51.593666Z"
    }
   },
   "outputs": [],
   "source": [
    "# RHETORICAL STATEMENTS \n",
    "rht_pc_intuitive = \"intuitively, PCs represent ways in which the forward rates making up a yield curve can deviate from their mean levels\"\n",
    "rht_reproduce_if_keep_all_pcs =  \"A model including all of the PCs turns can perfectly reproduce all of the yield curves on which the PCA analysis was performed.\""
   ]
  },
  {
   "cell_type": "code",
   "execution_count": 5,
   "id": "bb90e1b9",
   "metadata": {
    "execution": {
     "iopub.execute_input": "2025-07-31T19:00:51.596707Z",
     "iopub.status.busy": "2025-07-31T19:00:51.596354Z",
     "iopub.status.idle": "2025-07-31T19:00:51.600264Z",
     "shell.execute_reply": "2025-07-31T19:00:51.599634Z"
    }
   },
   "outputs": [],
   "source": [
    "# CRITICISMS\n",
    "\n",
    "crt_99_pct = [\n",
    "\"it might be appropriate to use two PCs in a reduced model as these should cover around 99% of the yield curve variability\",\n",
    "\"this 99% seems arbitrary since my first run gave high 80% using a 50year dataset\",\n",
    "\"perhaps a shorter dataset is this reliable\",\n",
    "\n",
    "]\n",
    "\n",
    "crt_simulating_curve_not_changes = [\n",
    "\"it looks like they are simulating the whole curve rather than modelling changes from one period to the next\",\n",
    "\"as evidence by statement 'The solid black line is the mean yield curve at the 𝑡 = 1 projection horizon.'\"\n",
    "\"the chart with solid black line and the dotted black as movement suggests they are treating mean curve as the current yield curve which cannot see has pratical usage\",\n",
    "]\n",
    "\n",
    "\n",
    "\n",
    "\n",
    "\n",
    "\n",
    "\n",
    "\n"
   ]
  },
  {
   "cell_type": "code",
   "execution_count": 6,
   "id": "5b225eaa",
   "metadata": {
    "execution": {
     "iopub.execute_input": "2025-07-31T19:00:51.602672Z",
     "iopub.status.busy": "2025-07-31T19:00:51.602449Z",
     "iopub.status.idle": "2025-07-31T19:00:51.875544Z",
     "shell.execute_reply": "2025-07-31T19:00:51.874792Z"
    },
    "lines_to_next_cell": 0
   },
   "outputs": [
    {
     "data": {
      "text/html": [
       "<h1>Rough notes on moodys paper</h1>"
      ],
      "text/plain": [
       "<IPython.core.display.HTML object>"
      ]
     },
     "metadata": {},
     "output_type": "display_data"
    },
    {
     "data": {
      "text/html": [
       "<h2>grammar</h2>"
      ],
      "text/plain": [
       "<IPython.core.display.HTML object>"
      ]
     },
     "metadata": {},
     "output_type": "display_data"
    },
    {
     "data": {
      "text/html": [
       "centering and scaling"
      ],
      "text/plain": [
       "<IPython.core.display.HTML object>"
      ]
     },
     "metadata": {},
     "output_type": "display_data"
    },
    {
     "data": {
      "text/html": [
       "role of transformations"
      ],
      "text/plain": [
       "<IPython.core.display.HTML object>"
      ]
     },
     "metadata": {},
     "output_type": "display_data"
    },
    {
     "data": {
      "text/html": [
       " inverse problem of determining pc magnitudes given a yield curve"
      ],
      "text/plain": [
       "<IPython.core.display.HTML object>"
      ]
     },
     "metadata": {},
     "output_type": "display_data"
    },
    {
     "data": {
      "text/html": [
       "modelling yield curve dynamics  -  is this the same as modelling yield curve changes given a base curve"
      ],
      "text/plain": [
       "<IPython.core.display.HTML object>"
      ]
     },
     "metadata": {},
     "output_type": "display_data"
    },
    {
     "data": {
      "text/html": [
       "<h3>populations and samples</h3>"
      ],
      "text/plain": [
       "<IPython.core.display.HTML object>"
      ]
     },
     "metadata": {},
     "output_type": "display_data"
    },
    {
     "data": {
      "text/html": [
       "<h2>logic</h2>"
      ],
      "text/plain": [
       "<IPython.core.display.HTML object>"
      ]
     },
     "metadata": {},
     "output_type": "display_data"
    },
    {
     "data": {
      "text/html": [
       "<h3>out of sample yield curves  -  those not used in the analysis to derive yield curves</h3>his is shown to potentially require many more PCs than we might first think.<br>perhaps bayesian inference gets around this...."
      ],
      "text/plain": [
       "<IPython.core.display.HTML object>"
      ]
     },
     "metadata": {},
     "output_type": "display_data"
    },
    {
     "data": {
      "text/html": [
       "<h3>adjacent points on the yield curve do not move independently</h3>why is this-when considering the forward yield curve specifically"
      ],
      "text/plain": [
       "<IPython.core.display.HTML object>"
      ]
     },
     "metadata": {},
     "output_type": "display_data"
    },
    {
     "data": {
      "text/html": [
       "<h3>since pca derived from covariance matrix we are talking about deviation from the mean</h3>what does the mean represent in this context"
      ],
      "text/plain": [
       "<IPython.core.display.HTML object>"
      ]
     },
     "metadata": {},
     "output_type": "display_data"
    },
    {
     "data": {
      "text/html": [
       "<h3>more is made of difference between population and sample than i would</h3>i would go for largest available dataset that is relevant and to me that is the population<br>the paper seems to see validity in not using whole population to calibrate"
      ],
      "text/plain": [
       "<IPython.core.display.HTML object>"
      ]
     },
     "metadata": {},
     "output_type": "display_data"
    },
    {
     "data": {
      "text/html": [
       "<h2>rhetoric</h2>"
      ],
      "text/plain": [
       "<IPython.core.display.HTML object>"
      ]
     },
     "metadata": {},
     "output_type": "display_data"
    },
    {
     "ename": "TypeError",
     "evalue": "'str' object does not support item assignment",
     "output_type": "error",
     "traceback": [
      "\u001b[0;31m---------------------------------------------------------------------------\u001b[0m",
      "\u001b[0;31mTypeError\u001b[0m                                 Traceback (most recent call last)",
      "Cell \u001b[0;32mIn[6], line 13\u001b[0m\n\u001b[1;32m     11\u001b[0m f_display_html_with_heading(\u001b[38;5;124m\"\u001b[39m\u001b[38;5;124mlgc\u001b[39m\u001b[38;5;124m\"\u001b[39m,\u001b[38;5;241m3\u001b[39m)\n\u001b[1;32m     12\u001b[0m display(HTML(\u001b[38;5;124m\"\u001b[39m\u001b[38;5;124m<h2>rhetoric</h2>\u001b[39m\u001b[38;5;124m\"\u001b[39m))\n\u001b[0;32m---> 13\u001b[0m \u001b[43mf_display_html_with_heading\u001b[49m\u001b[43m(\u001b[49m\u001b[38;5;124;43m\"\u001b[39;49m\u001b[38;5;124;43mrht\u001b[39;49m\u001b[38;5;124;43m\"\u001b[39;49m\u001b[43m,\u001b[49m\u001b[38;5;241;43m3\u001b[39;49m\u001b[43m)\u001b[49m\n\u001b[1;32m     14\u001b[0m display(HTML(\u001b[38;5;124m\"\u001b[39m\u001b[38;5;124m<h2>criticisms</h2>\u001b[39m\u001b[38;5;124m\"\u001b[39m))\n\u001b[1;32m     15\u001b[0m f_display_html_with_heading(\u001b[38;5;124m\"\u001b[39m\u001b[38;5;124mcrt\u001b[39m\u001b[38;5;124m\"\u001b[39m,\u001b[38;5;241m3\u001b[39m)\n",
      "Cell \u001b[0;32mIn[1], line 14\u001b[0m, in \u001b[0;36mf_display_html_with_heading\u001b[0;34m(prefix, heading_level)\u001b[0m\n\u001b[1;32m     12\u001b[0m lst \u001b[38;5;241m=\u001b[39m [s \u001b[38;5;28;01mfor\u001b[39;00m s \u001b[38;5;129;01min\u001b[39;00m fnc\u001b[38;5;241m.\u001b[39mlist_variables(\u001b[38;5;28mglobals\u001b[39m()) \u001b[38;5;28;01mif\u001b[39;00m s\u001b[38;5;241m.\u001b[39mstartswith(prefix)]\n\u001b[1;32m     13\u001b[0m \u001b[38;5;28;01mfor\u001b[39;00m html \u001b[38;5;129;01min\u001b[39;00m lst:\n\u001b[0;32m---> 14\u001b[0m     display(HTML(\u001b[43mfnc\u001b[49m\u001b[38;5;241;43m.\u001b[39;49m\u001b[43mcombine_strings_with_heading\u001b[49m\u001b[43m(\u001b[49m\u001b[38;5;28;43meval\u001b[39;49m\u001b[43m(\u001b[49m\u001b[43mhtml\u001b[49m\u001b[43m)\u001b[49m\u001b[43m,\u001b[49m\u001b[43m \u001b[49m\u001b[43mheading_level\u001b[49m\u001b[43m)\u001b[49m))\n",
      "File \u001b[0;32m~/Mathematics/functions.py:124\u001b[0m, in \u001b[0;36mcombine_strings_with_heading\u001b[0;34m(string_list, header_level)\u001b[0m\n\u001b[1;32m    122\u001b[0m     header_level \u001b[38;5;241m=\u001b[39m \u001b[38;5;241m2\u001b[39m\n\u001b[1;32m    123\u001b[0m header_tag \u001b[38;5;241m=\u001b[39m \u001b[38;5;124mf\u001b[39m\u001b[38;5;124m\"\u001b[39m\u001b[38;5;124mh\u001b[39m\u001b[38;5;132;01m{\u001b[39;00mheader_level\u001b[38;5;132;01m}\u001b[39;00m\u001b[38;5;124m\"\u001b[39m\n\u001b[0;32m--> 124\u001b[0m \u001b[43mstring_list\u001b[49m\u001b[43m[\u001b[49m\u001b[38;5;241;43m0\u001b[39;49m\u001b[43m]\u001b[49m \u001b[38;5;241m=\u001b[39m \u001b[38;5;124mf\u001b[39m\u001b[38;5;124m\"\u001b[39m\u001b[38;5;124m<\u001b[39m\u001b[38;5;132;01m{\u001b[39;00mheader_tag\u001b[38;5;132;01m}\u001b[39;00m\u001b[38;5;124m>\u001b[39m\u001b[38;5;132;01m{\u001b[39;00mstring_list[\u001b[38;5;241m0\u001b[39m]\u001b[38;5;132;01m}\u001b[39;00m\u001b[38;5;124m</\u001b[39m\u001b[38;5;132;01m{\u001b[39;00mheader_tag\u001b[38;5;132;01m}\u001b[39;00m\u001b[38;5;124m>\u001b[39m\u001b[38;5;124m\"\u001b[39m\n\u001b[1;32m    125\u001b[0m \u001b[38;5;28;01mreturn\u001b[39;00m string_list[\u001b[38;5;241m0\u001b[39m] \u001b[38;5;241m+\u001b[39m string_list[\u001b[38;5;241m1\u001b[39m]\u001b[38;5;241m+\u001b[39m\u001b[38;5;124m'\u001b[39m\u001b[38;5;124m'\u001b[39m\u001b[38;5;241m.\u001b[39mjoin(\u001b[38;5;124mf\u001b[39m\u001b[38;5;124m'\u001b[39m\u001b[38;5;124m<br>\u001b[39m\u001b[38;5;132;01m{\u001b[39;00ms\u001b[38;5;132;01m}\u001b[39;00m\u001b[38;5;124m'\u001b[39m \u001b[38;5;28;01mfor\u001b[39;00m s \u001b[38;5;129;01min\u001b[39;00m string_list[\u001b[38;5;241m2\u001b[39m:])\n",
      "\u001b[0;31mTypeError\u001b[0m: 'str' object does not support item assignment"
     ]
    }
   ],
   "source": [
    "\n",
    "display(HTML(\"<h1>Rough notes on moodys paper</h1>\"))\n",
    "display(HTML(\"<h2>grammar</h2>\"))\n",
    "filtered_list = [s for s in fnc.list_variables(globals()) if s.startswith(\"grm\")]                    \n",
    "for html in filtered_list:                                                         \n",
    "     display(HTML(eval(html)))                                                                \n",
    "display(HTML(\"<h3>populations and samples</h3>\"))\n",
    "\n",
    "\n",
    "\n",
    "display(HTML(\"<h2>logic</h2>\"))\n",
    "f_display_html_with_heading(\"lgc\",3)\n",
    "display(HTML(\"<h2>rhetoric</h2>\"))\n",
    "f_display_html_with_heading(\"rht\",3)\n",
    "display(HTML(\"<h2>criticisms</h2>\"))\n",
    "f_display_html_with_heading(\"crt\",3)\n",
    "\n",
    "\n",
    "\n",
    "\n",
    "\n",
    "\n",
    "\n"
   ]
  },
  {
   "cell_type": "markdown",
   "id": "a5e37ec6",
   "metadata": {},
   "source": []
  }
 ],
 "metadata": {
  "jupytext": {
   "formats": "ipynb,py:percent,md"
  },
  "kernelspec": {
   "display_name": "Python 3 (ipykernel)",
   "language": "python",
   "name": "python3"
  },
  "language_info": {
   "codemirror_mode": {
    "name": "ipython",
    "version": 3
   },
   "file_extension": ".py",
   "mimetype": "text/x-python",
   "name": "python",
   "nbconvert_exporter": "python",
   "pygments_lexer": "ipython3",
   "version": "3.12.8"
  }
 },
 "nbformat": 4,
 "nbformat_minor": 5
}
