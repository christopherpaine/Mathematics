{
 "cells": [
  {
   "cell_type": "code",
   "execution_count": 1,
   "id": "c53bdfeb",
   "metadata": {
    "execution": {
     "iopub.execute_input": "2025-07-30T15:19:21.979381Z",
     "iopub.status.busy": "2025-07-30T15:19:21.979185Z",
     "iopub.status.idle": "2025-07-30T15:19:22.618420Z",
     "shell.execute_reply": "2025-07-30T15:19:22.617451Z"
    }
   },
   "outputs": [],
   "source": [
    "# imports\n",
    "from IPython.display import display, Markdown, HTML, SVG\n",
    "import numpy as np\n",
    "import matplotlib.pyplot as plt\n",
    "import pandas as pd\n",
    "from io import StringIO\n",
    "import notation as ntn\n",
    "\n",
    "\n"
   ]
  },
  {
   "cell_type": "code",
   "execution_count": 2,
   "id": "49a1fd77",
   "metadata": {
    "execution": {
     "iopub.execute_input": "2025-07-30T15:19:22.620911Z",
     "iopub.status.busy": "2025-07-30T15:19:22.620367Z",
     "iopub.status.idle": "2025-07-30T15:19:22.623599Z",
     "shell.execute_reply": "2025-07-30T15:19:22.623115Z"
    },
    "lines_to_next_cell": 2
   },
   "outputs": [],
   "source": [
    "grm_out_of_sample = \"out of sample yield curves  -  those not used in the analysis to derive yield curves\"\n",
    "grm_centering_scaling = \"centering and scaling\"\n",
    "grm_role_of_transformations = \"role of transformations\"\n",
    "grm_inverse_problem_determining_magnitudes = \" inverse problem of determining pc magnitudes given a yield curve\"\n",
    "\n",
    "\n",
    "\n",
    "\n",
    "lgc_out_of_sample = [\n",
    "\"out of sample yield curves  -  those not used in the analysis to derive yield curves\",\n",
    "\"his is shown to potentially require many more PCs than we might first think.\",\n",
    "\"perhaps bayesian inference gets around this....\"\n",
    "\n",
    "]"
   ]
  },
  {
   "cell_type": "code",
   "execution_count": null,
   "id": "2d887010",
   "metadata": {
    "lines_to_next_cell": 3
   },
   "outputs": [],
   "source": []
  }
 ],
 "metadata": {
  "jupytext": {
   "formats": "ipynb,py:percent,md"
  },
  "kernelspec": {
   "display_name": "Python 3 (ipykernel)",
   "language": "python",
   "name": "python3"
  },
  "language_info": {
   "codemirror_mode": {
    "name": "ipython",
    "version": 3
   },
   "file_extension": ".py",
   "mimetype": "text/x-python",
   "name": "python",
   "nbconvert_exporter": "python",
   "pygments_lexer": "ipython3",
   "version": "3.12.8"
  }
 },
 "nbformat": 4,
 "nbformat_minor": 5
}
