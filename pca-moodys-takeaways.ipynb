{
 "cells": [
  {
   "cell_type": "code",
   "execution_count": 1,
   "id": "0eab0909",
   "metadata": {
    "execution": {
     "iopub.execute_input": "2025-08-01T10:11:50.651629Z",
     "iopub.status.busy": "2025-08-01T10:11:50.651268Z",
     "iopub.status.idle": "2025-08-01T10:11:51.192122Z",
     "shell.execute_reply": "2025-08-01T10:11:51.191638Z"
    },
    "lines_to_next_cell": 2
   },
   "outputs": [],
   "source": [
    "# imports\n",
    "from IPython.display import display, Markdown, HTML, SVG\n",
    "import numpy as np\n",
    "import matplotlib.pyplot as plt\n",
    "import pandas as pd\n",
    "from io import StringIO\n",
    "import notation as ntn\n",
    "import functions as fnc\n",
    "import takeaways as tka"
   ]
  },
  {
   "cell_type": "code",
   "execution_count": 2,
   "id": "b9da40b3",
   "metadata": {
    "execution": {
     "iopub.execute_input": "2025-08-01T10:11:51.194076Z",
     "iopub.status.busy": "2025-08-01T10:11:51.193834Z",
     "iopub.status.idle": "2025-08-01T10:11:51.196246Z",
     "shell.execute_reply": "2025-08-01T10:11:51.195901Z"
    }
   },
   "outputs": [],
   "source": [
    "tka.f_css()\n",
    "\n",
    "\n",
    "\n",
    "\n",
    "\n",
    "\n"
   ]
  },
  {
   "cell_type": "code",
   "execution_count": 3,
   "id": "a7f640aa",
   "metadata": {
    "execution": {
     "iopub.execute_input": "2025-08-01T10:11:51.197814Z",
     "iopub.status.busy": "2025-08-01T10:11:51.197577Z",
     "iopub.status.idle": "2025-08-01T10:11:51.200370Z",
     "shell.execute_reply": "2025-08-01T10:11:51.200029Z"
    },
    "lines_to_next_cell": 2
   },
   "outputs": [],
   "source": [
    "# GRAMMAR STATEMENTS \n",
    "grm_centering_scaling = \"centering and scaling\"\n",
    "grm_role_of_transformations = \"role of transformations\"\n",
    "invprob_inverse_problem_determining_magnitudes = \" inverse problem of determining pc magnitudes given a yield curve\"\n",
    "grm_modelling_yield_curve_dynamics = \"modelling yield curve dynamics  -  is this the same as modelling yield curve changes given a base curve\"\n",
    "popnsmpl_out_of_sample = \"out of sample yield curves  -  those not used in the analysis to derive yield curves\"\n",
    "popnsmpl_population = \"population is the total population from which the sample set is obtained. For the examples in this paper this could also be called the universe of possible yield curves\"\n",
    "popnsmpl_sample_set = \"data set on which the PCA is performed. For the examples presented in this paper this is just a set of absolute yield curves in terms of forward rates\"\n",
    "popnsmpl_synthetic = fnc.f_wrap_in_span(\"i don't see purpose of synthetic population generation\",\"darkred\")\n",
    "datatrans_svt = \"mean centering essential when singular value decomposition used\" "
   ]
  },
  {
   "cell_type": "code",
   "execution_count": 4,
   "id": "7dbd090d",
   "metadata": {
    "execution": {
     "iopub.execute_input": "2025-08-01T10:11:51.201926Z",
     "iopub.status.busy": "2025-08-01T10:11:51.201663Z",
     "iopub.status.idle": "2025-08-01T10:11:51.205409Z",
     "shell.execute_reply": "2025-08-01T10:11:51.204868Z"
    }
   },
   "outputs": [],
   "source": [
    "# LOGIC LISTS\n",
    "lgc_out_of_sample = [\n",
    "\"out of sample yield curves \", \n",
    "\"those not used in the analysis to derive yield curves\",\n",
    "\"this is shown to potentially require many more PCs than we might first think.\",\n",
    "\"perhaps bayesian inference gets around this....\"\n",
    "\n",
    "]\n",
    "\n",
    "lgc_adjacent_points_on_curve_do_not_move_independently = [\n",
    "\"adjacent points on the yield curve\",  \n",
    "\"do not move independently\",\n",
    "\"why is this-when considering the forward yield curve specifically\"\n",
    "]\n",
    "lgc_central_tendency = [\n",
    "\"since pca derived from covariance matrix we are talking about deviation from the mean\",\n",
    "\"what does the mean represent in this context\",\n",
    "        ]        \n",
    "\n",
    "lgc_population_and_sample = [\n",
    "\"more is made of difference between population and sample than i would\",\n",
    "\"i would go for largest available dataset that is relevant and to me that is the population\",\n",
    "\"the paper seems to see validity in not using whole population to calibrate\"\n",
    "]\n",
    "\n",
    "data_translgc = [\n",
    "\"data transformations\",\n",
    "\"not necessary to centre data when eigenvalue decomposition is used\",\n",
    "\"scaling involves dividing by standard deviation\"\n",
    "\"scaling is particularly useful if the variables have quite different orders of magnitude, although this is not likely to be the case for yield curves. \",\n",
    "fnc.f_wrap_in_span(\"how to plot different orders of magnitude at various stages of own analysis and see effect of logarithmic transformation\",\"darkred\"),\n",
    "\" if both centring and scaling are performed then the covariance matrix is the same as the correlation matrix. \"\n",
    "]\n",
    "\n"
   ]
  },
  {
   "cell_type": "code",
   "execution_count": 5,
   "id": "139e5420",
   "metadata": {
    "execution": {
     "iopub.execute_input": "2025-08-01T10:11:51.207243Z",
     "iopub.status.busy": "2025-08-01T10:11:51.206971Z",
     "iopub.status.idle": "2025-08-01T10:11:51.209423Z",
     "shell.execute_reply": "2025-08-01T10:11:51.209058Z"
    }
   },
   "outputs": [],
   "source": [
    "# RHETORICAL STATEMENTS \n",
    "rht_pc_intuitive = \"intuitively, PCs represent ways in which the forward rates making up a yield curve can deviate from their mean levels\"\n",
    "rht_reproduce_if_keep_all_pcs =  \"A model including all of the PCs turns can perfectly reproduce all of the yield curves on which the PCA analysis was performed.\""
   ]
  },
  {
   "cell_type": "code",
   "execution_count": 6,
   "id": "74dc0e60",
   "metadata": {
    "execution": {
     "iopub.execute_input": "2025-08-01T10:11:51.211397Z",
     "iopub.status.busy": "2025-08-01T10:11:51.211041Z",
     "iopub.status.idle": "2025-08-01T10:11:51.213999Z",
     "shell.execute_reply": "2025-08-01T10:11:51.213633Z"
    }
   },
   "outputs": [],
   "source": [
    "# CRITICISMS\n",
    "\n",
    "crt_99_pct = [\n",
    "\"it might be appropriate to use two PCs in a reduced model as these should cover around 99% of the yield curve variability\",\n",
    "\"this 99% seems arbitrary since my first run gave high 80% using a 50year dataset\",\n",
    "\"perhaps a shorter dataset is this reliable\",\n",
    "\n",
    "]\n",
    "\n",
    "crt_simulating_curve_not_changes = [\n",
    "\"it looks like they are simulating the whole curve rather than modelling changes from one period to the next\",\n",
    "\"as evidence by statement 'The solid black line is the mean yield curve at the 𝑡 = 1 projection horizon.'\"\n",
    "\"the chart with solid black line and the dotted black as movement suggests they are treating mean curve as the current yield curve which cannot see has pratical usage\",\n",
    "]\n",
    "\n",
    "\n",
    "\n",
    "\n",
    "\n",
    "\n",
    "\n",
    "\n"
   ]
  },
  {
   "cell_type": "code",
   "execution_count": 7,
   "id": "5539cdb3",
   "metadata": {
    "execution": {
     "iopub.execute_input": "2025-08-01T10:11:51.215616Z",
     "iopub.status.busy": "2025-08-01T10:11:51.215348Z",
     "iopub.status.idle": "2025-08-01T10:11:51.501933Z",
     "shell.execute_reply": "2025-08-01T10:11:51.501455Z"
    }
   },
   "outputs": [
    {
     "data": {
      "text/html": [
       "<h1>Rough notes on moodys paper</h1>"
      ],
      "text/plain": [
       "<IPython.core.display.HTML object>"
      ]
     },
     "metadata": {},
     "output_type": "display_data"
    },
    {
     "data": {
      "text/html": [
       "<h2>grammar</h2>"
      ],
      "text/plain": [
       "<IPython.core.display.HTML object>"
      ]
     },
     "metadata": {},
     "output_type": "display_data"
    },
    {
     "ename": "NameError",
     "evalue": "name 'grm_centering_scaling' is not defined",
     "output_type": "error",
     "traceback": [
      "\u001b[31m---------------------------------------------------------------------------\u001b[39m",
      "\u001b[31mNameError\u001b[39m                                 Traceback (most recent call last)",
      "\u001b[36mCell\u001b[39m\u001b[36m \u001b[39m\u001b[32mIn[7]\u001b[39m\u001b[32m, line 2\u001b[39m\n\u001b[32m      1\u001b[39m display(HTML(\u001b[33m\"\u001b[39m\u001b[33m<h1>Rough notes on moodys paper</h1>\u001b[39m\u001b[33m\"\u001b[39m))\n\u001b[32m----> \u001b[39m\u001b[32m2\u001b[39m \u001b[43mtka\u001b[49m\u001b[43m.\u001b[49m\u001b[43mf_convert_string_vars_to_htmls\u001b[49m\u001b[43m(\u001b[49m\u001b[38;5;28;43mglobals\u001b[39;49m\u001b[43m(\u001b[49m\u001b[43m)\u001b[49m\u001b[43m,\u001b[49m\u001b[33;43m\"\u001b[39;49m\u001b[33;43mgrm\u001b[39;49m\u001b[33;43m\"\u001b[39;49m\u001b[43m,\u001b[49m\u001b[32;43m2\u001b[39;49m\u001b[43m,\u001b[49m\u001b[33;43m\"\u001b[39;49m\u001b[33;43mgrammar\u001b[39;49m\u001b[33;43m\"\u001b[39;49m\u001b[43m)\u001b[49m\n\u001b[32m      3\u001b[39m tka.f_convert_string_vars_to_htmls(\u001b[38;5;28mglobals\u001b[39m(),\u001b[33m\"\u001b[39m\u001b[33mpopnsmpl\u001b[39m\u001b[33m\"\u001b[39m,\u001b[32m3\u001b[39m,\u001b[33m\"\u001b[39m\u001b[33mpopulations and samples\u001b[39m\u001b[33m\"\u001b[39m)\n\u001b[32m      4\u001b[39m tka.f_convert_string_vars_to_htmls(\u001b[38;5;28mglobals\u001b[39m(),\u001b[33m\"\u001b[39m\u001b[33minvprob\u001b[39m\u001b[33m\"\u001b[39m,\u001b[32m3\u001b[39m,\u001b[33m\"\u001b[39m\u001b[33minverse problem\u001b[39m\u001b[33m\"\u001b[39m)\n",
      "\u001b[36mFile \u001b[39m\u001b[32m~/Mathematics/takeaways.py:32\u001b[39m, in \u001b[36mf_convert_string_vars_to_htmls\u001b[39m\u001b[34m(glob, prefix, heading_level, content)\u001b[39m\n\u001b[32m     30\u001b[39m filtered_list = [s \u001b[38;5;28;01mfor\u001b[39;00m s \u001b[38;5;129;01min\u001b[39;00m fnc.list_variables(glob) \u001b[38;5;28;01mif\u001b[39;00m s.startswith(prefix)]\n\u001b[32m     31\u001b[39m \u001b[38;5;28;01mfor\u001b[39;00m html \u001b[38;5;129;01min\u001b[39;00m filtered_list:\n\u001b[32m---> \u001b[39m\u001b[32m32\u001b[39m     display(HTML(\u001b[38;5;28;43meval\u001b[39;49m\u001b[43m(\u001b[49m\u001b[43mhtml\u001b[49m\u001b[43m)\u001b[49m))\n",
      "\u001b[36mFile \u001b[39m\u001b[32m<string>:1\u001b[39m\n",
      "\u001b[31mNameError\u001b[39m: name 'grm_centering_scaling' is not defined"
     ]
    }
   ],
   "source": [
    "\n",
    "display(HTML(\"<h1>Rough notes on moodys paper</h1>\"))\n",
    "tka.f_convert_string_vars_to_htmls(globals(),\"grm\",2,\"grammar\")\n",
    "tka.f_convert_string_vars_to_htmls(globals(),\"popnsmpl\",3,\"populations and samples\")\n",
    "tka.f_convert_string_vars_to_htmls(globals(),\"invprob\",3,\"inverse problem\")\n",
    "tka.f_convert_string_vars_to_htmls(globals(),\"datatrans\",3,\"data transformations\")\n",
    "display(HTML(\"<h2>logic</h2>\"))\n",
    "tka.f_display_html_with_heading(globals(),\"lgc\",3)\n",
    "tka.f_display_html_with_heading(globals(),\"data_translgc\",3)\n",
    "\n",
    "tka.f_convert_string_vars_to_htmls(globals(),\"rht\",2,\"rhetoric\")\n",
    "display(HTML(\"<h2>criticisms</h2>\"))\n",
    "tka.f_display_html_with_heading(globals(),\"crt\",3)\n",
    "\n",
    "display(HTML(\"hi\"))\n",
    "\n",
    "\n"
   ]
  },
  {
   "cell_type": "markdown",
   "id": "4331f143",
   "metadata": {},
   "source": [
    "\n"
   ]
  }
 ],
 "metadata": {
  "jupytext": {
   "formats": "ipynb,py:percent,md"
  },
  "kernelspec": {
   "display_name": "Python 3 (ipykernel)",
   "language": "python",
   "name": "python3"
  },
  "language_info": {
   "codemirror_mode": {
    "name": "ipython",
    "version": 3
   },
   "file_extension": ".py",
   "mimetype": "text/x-python",
   "name": "python",
   "nbconvert_exporter": "python",
   "pygments_lexer": "ipython3",
   "version": "3.13.4"
  }
 },
 "nbformat": 4,
 "nbformat_minor": 5
}
