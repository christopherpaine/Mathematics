{
 "cells": [
  {
   "cell_type": "code",
   "execution_count": 1,
   "id": "c53bdfeb",
   "metadata": {
    "execution": {
     "iopub.execute_input": "2025-07-31T17:58:52.967970Z",
     "iopub.status.busy": "2025-07-31T17:58:52.967403Z",
     "iopub.status.idle": "2025-07-31T17:58:53.641934Z",
     "shell.execute_reply": "2025-07-31T17:58:53.640873Z"
    }
   },
   "outputs": [],
   "source": [
    "# imports\n",
    "from IPython.display import display, Markdown, HTML, SVG\n",
    "import numpy as np\n",
    "import matplotlib.pyplot as plt\n",
    "import pandas as pd\n",
    "from io import StringIO\n",
    "import notation as ntn\n",
    "import functions as fnc\n",
    "\n"
   ]
  },
  {
   "cell_type": "code",
   "execution_count": 2,
   "id": "49a1fd77",
   "metadata": {
    "execution": {
     "iopub.execute_input": "2025-07-31T17:58:53.645468Z",
     "iopub.status.busy": "2025-07-31T17:58:53.644495Z",
     "iopub.status.idle": "2025-07-31T17:58:53.649005Z",
     "shell.execute_reply": "2025-07-31T17:58:53.648451Z"
    },
    "lines_to_next_cell": 2
   },
   "outputs": [],
   "source": [
    "# GRAMMAR STATEMENTS \n",
    "grm_out_of_sample = \"out of sample yield curves  -  those not used in the analysis to derive yield curves\"\n",
    "grm_centering_scaling = \"centering and scaling\"\n",
    "grm_role_of_transformations = \"role of transformations\"\n",
    "grm_inverse_problem_determining_magnitudes = \" inverse problem of determining pc magnitudes given a yield curve\"\n",
    "grm_modelling_yield_curve_dynamics = \"modelling yield curve dynamics  -  is this the same as modelling yield curve changes given a base curve\"\n",
    "grm_population = \"population is the total population from which the sample set is obtained. For the examples in this paper this could also be called the universe of possible yield curves\"\n",
    "grm_sample_set = \"data set on which the PCA is performed. For the examples presented in this paper this is just a set of absolute yield curves in terms of forward rates\""
   ]
  },
  {
   "cell_type": "code",
   "execution_count": 3,
   "id": "0140c065",
   "metadata": {
    "execution": {
     "iopub.execute_input": "2025-07-31T17:58:53.651194Z",
     "iopub.status.busy": "2025-07-31T17:58:53.650976Z",
     "iopub.status.idle": "2025-07-31T17:58:53.654808Z",
     "shell.execute_reply": "2025-07-31T17:58:53.654295Z"
    }
   },
   "outputs": [],
   "source": [
    "# LOGIC LISTS\n",
    "lgc_out_of_sample = [\n",
    "\"out of sample yield curves  -  those not used in the analysis to derive yield curves\",\n",
    "\"his is shown to potentially require many more PCs than we might first think.\",\n",
    "\"perhaps bayesian inference gets around this....\"\n",
    "\n",
    "]\n",
    "\n",
    "lgc_adjacent_points_on_curve_do_not_move_independently = [\n",
    "\"adjacent points on the yield curve do not move independently\",\n",
    "\"why is this-when considering the forward yield curve specifically\"\n",
    "]\n",
    "lgc_central_tendency = [\n",
    "\"since pca derived from covariance matrix we are talking about deviation from the mean\",\n",
    "\"what does the mean represent in this context\",\n",
    "        ]        \n",
    "\n",
    "lgc_population_and_sample = [\n",
    "\"more is made of difference between population and sample than i would\",\n",
    "\"i would go for largest available dataset that is relevant and to me that is the population\",\n",
    "\"the paper seems to see validity in not using whole population to calibrate\"\n",
    "]\n",
    "\n",
    "\n",
    "\n"
   ]
  },
  {
   "cell_type": "code",
   "execution_count": 4,
   "id": "2d887010",
   "metadata": {
    "execution": {
     "iopub.execute_input": "2025-07-31T17:58:53.657268Z",
     "iopub.status.busy": "2025-07-31T17:58:53.656904Z",
     "iopub.status.idle": "2025-07-31T17:58:53.660057Z",
     "shell.execute_reply": "2025-07-31T17:58:53.659485Z"
    }
   },
   "outputs": [],
   "source": [
    "# RHETORICAL STATEMENTS \n",
    "rht_pc_intuitive = \"intuitively, PCs represent ways in which the forward rates making up a yield curve can deviate from their mean levels\"\n",
    "rht_reproduce_if_keep_all_pcs =  \"A model including all of the PCs turns can perfectly reproduce all of the yield curves on which the PCA analysis was performed.\""
   ]
  },
  {
   "cell_type": "code",
   "execution_count": 5,
   "id": "bb90e1b9",
   "metadata": {
    "execution": {
     "iopub.execute_input": "2025-07-31T17:58:53.662457Z",
     "iopub.status.busy": "2025-07-31T17:58:53.662015Z",
     "iopub.status.idle": "2025-07-31T17:58:53.665670Z",
     "shell.execute_reply": "2025-07-31T17:58:53.664952Z"
    }
   },
   "outputs": [],
   "source": [
    "# CRITICISMS\n",
    "\n",
    "crt_99_pct = [\n",
    "\"it might be appropriate to use two PCs in a reduced model as these should cover around 99% of the yield curve variability\",\n",
    "\"this 99% seems arbitrary since my first run gave high 80% using a 50year dataset\",\n",
    "\"perhaps a shorter dataset is this reliable\",\n",
    "\n",
    "]\n",
    "\n",
    "crt_simulating_curve_not_changes = [\n",
    "\"it looks like they are simulating the whole curve rather than modelling changes from one period to the next\",\n",
    "\"as evidence by statement 'The solid black line is the mean yield curve at the 𝑡 = 1 projection horizon.'\"\n",
    "\"the chart with solid black line and the dotted black as movement suggests they are treating mean curve as the current yield curve which cannot see has pratical usage\",\n",
    "]\n",
    "\n",
    "\n",
    "\n",
    "\n",
    "\n",
    "\n",
    "\n",
    "\n"
   ]
  },
  {
   "cell_type": "code",
   "execution_count": 6,
   "id": "5b225eaa",
   "metadata": {
    "execution": {
     "iopub.execute_input": "2025-07-31T17:58:53.668193Z",
     "iopub.status.busy": "2025-07-31T17:58:53.667708Z",
     "iopub.status.idle": "2025-07-31T17:58:53.701794Z",
     "shell.execute_reply": "2025-07-31T17:58:53.701118Z"
    },
    "lines_to_next_cell": 2
   },
   "outputs": [
    {
     "data": {
      "text/html": [
       "<h1>Rough notes on moodys paper</h1>"
      ],
      "text/plain": [
       "<IPython.core.display.HTML object>"
      ]
     },
     "metadata": {},
     "output_type": "display_data"
    },
    {
     "data": {
      "text/html": [
       "<h2>grammar</h2>"
      ],
      "text/plain": [
       "<IPython.core.display.HTML object>"
      ]
     },
     "metadata": {},
     "output_type": "display_data"
    },
    {
     "data": {
      "text/html": [
       "out of sample yield curves  -  those not used in the analysis to derive yield curves"
      ],
      "text/plain": [
       "<IPython.core.display.HTML object>"
      ]
     },
     "metadata": {},
     "output_type": "display_data"
    },
    {
     "data": {
      "text/html": [
       "centering and scaling"
      ],
      "text/plain": [
       "<IPython.core.display.HTML object>"
      ]
     },
     "metadata": {},
     "output_type": "display_data"
    },
    {
     "data": {
      "text/html": [
       "role of transformations"
      ],
      "text/plain": [
       "<IPython.core.display.HTML object>"
      ]
     },
     "metadata": {},
     "output_type": "display_data"
    },
    {
     "data": {
      "text/html": [
       " inverse problem of determining pc magnitudes given a yield curve"
      ],
      "text/plain": [
       "<IPython.core.display.HTML object>"
      ]
     },
     "metadata": {},
     "output_type": "display_data"
    },
    {
     "data": {
      "text/html": [
       "modelling yield curve dynamics  -  is this the same as modelling yield curve changes given a base curve"
      ],
      "text/plain": [
       "<IPython.core.display.HTML object>"
      ]
     },
     "metadata": {},
     "output_type": "display_data"
    },
    {
     "data": {
      "text/html": [
       "population is the total population from which the sample set is obtained. For the examples in this paper this could also be called the universe of possible yield curves"
      ],
      "text/plain": [
       "<IPython.core.display.HTML object>"
      ]
     },
     "metadata": {},
     "output_type": "display_data"
    },
    {
     "data": {
      "text/html": [
       "data set on which the PCA is performed. For the examples presented in this paper this is just a set of absolute yield curves in terms of forward rates"
      ],
      "text/plain": [
       "<IPython.core.display.HTML object>"
      ]
     },
     "metadata": {},
     "output_type": "display_data"
    },
    {
     "data": {
      "text/html": [
       "<h2>logic</h2>"
      ],
      "text/plain": [
       "<IPython.core.display.HTML object>"
      ]
     },
     "metadata": {},
     "output_type": "display_data"
    },
    {
     "data": {
      "text/html": [
       "<h3>out of sample yield curves  -  those not used in the analysis to derive yield curves</h3>his is shown to potentially require many more PCs than we might first think.<br>perhaps bayesian inference gets around this...."
      ],
      "text/plain": [
       "<IPython.core.display.HTML object>"
      ]
     },
     "metadata": {},
     "output_type": "display_data"
    },
    {
     "data": {
      "text/html": [
       "<h3>adjacent points on the yield curve do not move independently</h3>why is this-when considering the forward yield curve specifically"
      ],
      "text/plain": [
       "<IPython.core.display.HTML object>"
      ]
     },
     "metadata": {},
     "output_type": "display_data"
    },
    {
     "data": {
      "text/html": [
       "<h3>since pca derived from covariance matrix we are talking about deviation from the mean</h3>what does the mean represent in this context"
      ],
      "text/plain": [
       "<IPython.core.display.HTML object>"
      ]
     },
     "metadata": {},
     "output_type": "display_data"
    },
    {
     "data": {
      "text/html": [
       "<h3>more is made of difference between population and sample than i would</h3>i would go for largest available dataset that is relevant and to me that is the population<br>the paper seems to see validity in not using whole population to calibrate"
      ],
      "text/plain": [
       "<IPython.core.display.HTML object>"
      ]
     },
     "metadata": {},
     "output_type": "display_data"
    },
    {
     "data": {
      "text/html": [
       "<h2>rhetoric</h2>"
      ],
      "text/plain": [
       "<IPython.core.display.HTML object>"
      ]
     },
     "metadata": {},
     "output_type": "display_data"
    },
    {
     "data": {
      "text/html": [
       "intuitively, PCs represent ways in which the forward rates making up a yield curve can deviate from their mean levels"
      ],
      "text/plain": [
       "<IPython.core.display.HTML object>"
      ]
     },
     "metadata": {},
     "output_type": "display_data"
    },
    {
     "data": {
      "text/html": [
       "A model including all of the PCs turns can perfectly reproduce all of the yield curves on which the PCA analysis was performed."
      ],
      "text/plain": [
       "<IPython.core.display.HTML object>"
      ]
     },
     "metadata": {},
     "output_type": "display_data"
    },
    {
     "data": {
      "text/html": [
       "<h2>criticisms</h2>"
      ],
      "text/plain": [
       "<IPython.core.display.HTML object>"
      ]
     },
     "metadata": {},
     "output_type": "display_data"
    },
    {
     "data": {
      "text/html": [
       "<h3>it might be appropriate to use two PCs in a reduced model as these should cover around 99% of the yield curve variability</h3>this 99% seems arbitrary since my first run gave high 80% using a 50year dataset<br>perhaps a shorter dataset is this reliable"
      ],
      "text/plain": [
       "<IPython.core.display.HTML object>"
      ]
     },
     "metadata": {},
     "output_type": "display_data"
    },
    {
     "data": {
      "text/html": [
       "<h3>it looks like they are simulating the whole curve rather than modelling changes from one period to the next</h3>as evidence by statement 'The solid black line is the mean yield curve at the 𝑡 = 1 projection horizon.'the chart with solid black line and the dotted black as movement suggests they are treating mean curve as the current yield curve which cannot see has pratical usage"
      ],
      "text/plain": [
       "<IPython.core.display.HTML object>"
      ]
     },
     "metadata": {},
     "output_type": "display_data"
    }
   ],
   "source": [
    "\n",
    "display(HTML(\"<h1>Rough notes on moodys paper</h1>\"))\n",
    "display(HTML(\"<h2>grammar</h2>\"))\n",
    "filtered_list = [s for s in fnc.list_variables(globals()) if s.startswith(\"grm\")]                    \n",
    "for html in filtered_list:                                                         \n",
    "     display(HTML(eval(html)))                                                                \n",
    "display(HTML(\"<h2>logic</h2>\"))\n",
    "logi_list = [s for s in fnc.list_variables(globals()) if s.startswith(\"lgc\")]                    \n",
    "for html in logi_list:                                                         \n",
    "     display(HTML(fnc.combine_strings_with_heading(eval(html),3)))                                                                \n",
    "display(HTML(\"<h2>rhetoric</h2>\"))\n",
    "rhet_list = [s for s in fnc.list_variables(globals()) if s.startswith(\"rht\")]                    \n",
    "for html in rhet_list:                                                         \n",
    "     display(HTML(eval(html)))                                                                \n",
    "display(HTML(\"<h2>criticisms</h2>\"))\n",
    "crt_list = [s for s in fnc.list_variables(globals()) if s.startswith(\"crt\")]                    \n",
    "for html in crt_list:                                                         \n",
    "     display(HTML(fnc.combine_strings_with_heading(eval(html),3)))                                                                \n",
    "\n",
    "\n",
    "\n",
    "\n",
    "\n",
    "\n",
    "\n",
    "\n"
   ]
  }
 ],
 "metadata": {
  "jupytext": {
   "formats": "ipynb,py:percent,md"
  },
  "kernelspec": {
   "display_name": "Python 3 (ipykernel)",
   "language": "python",
   "name": "python3"
  },
  "language_info": {
   "codemirror_mode": {
    "name": "ipython",
    "version": 3
   },
   "file_extension": ".py",
   "mimetype": "text/x-python",
   "name": "python",
   "nbconvert_exporter": "python",
   "pygments_lexer": "ipython3",
   "version": "3.12.8"
  }
 },
 "nbformat": 4,
 "nbformat_minor": 5
}
