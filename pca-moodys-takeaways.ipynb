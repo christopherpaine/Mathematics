{
 "cells": [
  {
   "cell_type": "code",
   "execution_count": 1,
   "id": "0eab0909",
   "metadata": {
    "execution": {
     "iopub.execute_input": "2025-07-31T22:30:47.071151Z",
     "iopub.status.busy": "2025-07-31T22:30:47.070844Z",
     "iopub.status.idle": "2025-07-31T22:30:47.547727Z",
     "shell.execute_reply": "2025-07-31T22:30:47.547184Z"
    }
   },
   "outputs": [],
   "source": [
    "# imports\n",
    "from IPython.display import display, Markdown, HTML, SVG\n",
    "import numpy as np\n",
    "import matplotlib.pyplot as plt\n",
    "import pandas as pd\n",
    "from io import StringIO\n",
    "import notation as ntn\n",
    "import functions as fnc\n",
    "\n",
    "\n"
   ]
  },
  {
   "cell_type": "code",
   "execution_count": 2,
   "id": "b9da40b3",
   "metadata": {
    "execution": {
     "iopub.execute_input": "2025-07-31T22:30:47.549633Z",
     "iopub.status.busy": "2025-07-31T22:30:47.549404Z",
     "iopub.status.idle": "2025-07-31T22:30:47.554551Z",
     "shell.execute_reply": "2025-07-31T22:30:47.554205Z"
    }
   },
   "outputs": [
    {
     "data": {
      "text/html": [
       "<style>\n",
       "     h1, h2 {\n",
       "         font-weight: 1000 !important;\n",
       "         color: black;\n",
       "         }\n",
       "\n",
       "     h1 {\n",
       "         text-decoration: underline;\n",
       "         }\n",
       "     </style>\n"
      ],
      "text/plain": [
       "<IPython.core.display.HTML object>"
      ]
     },
     "execution_count": 2,
     "metadata": {},
     "output_type": "execute_result"
    }
   ],
   "source": [
    "HTML(\"\"\"<style>\n",
    "     h1, h2 {\n",
    "         font-weight: 1000 !important;\n",
    "         color: black;\n",
    "         }\n",
    "\n",
    "     h1 {\n",
    "         text-decoration: underline;\n",
    "         }\n",
    "     </style>\n",
    "\"\"\")\n",
    "\n"
   ]
  },
  {
   "cell_type": "code",
   "execution_count": 3,
   "id": "c0217ed2",
   "metadata": {
    "execution": {
     "iopub.execute_input": "2025-07-31T22:30:47.556142Z",
     "iopub.status.busy": "2025-07-31T22:30:47.555984Z",
     "iopub.status.idle": "2025-07-31T22:30:47.559999Z",
     "shell.execute_reply": "2025-07-31T22:30:47.559524Z"
    }
   },
   "outputs": [],
   "source": [
    "def f_display_html_with_heading(prefix, heading_level):\n",
    "    lst = [s for s in fnc.list_variables(globals()) if s.startswith(prefix)]\n",
    "    for html in lst:\n",
    "        display(HTML(fnc.combine_strings_with_heading(eval(html), heading_level)))\n",
    "\n",
    "def f_convert_string_vars_to_htmls(prefix, heading_level, content):\n",
    "    display(HTML(f\"<h{heading_level}>{content}</h{heading_level}>\"))\n",
    "    filtered_list = [s for s in fnc.list_variables(globals()) if s.startswith(prefix)]\n",
    "    for html in filtered_list:\n",
    "        display(HTML(eval(html)))\n",
    "\n"
   ]
  },
  {
   "cell_type": "code",
   "execution_count": 4,
   "id": "a7f640aa",
   "metadata": {
    "execution": {
     "iopub.execute_input": "2025-07-31T22:30:47.561509Z",
     "iopub.status.busy": "2025-07-31T22:30:47.561335Z",
     "iopub.status.idle": "2025-07-31T22:30:47.564243Z",
     "shell.execute_reply": "2025-07-31T22:30:47.563922Z"
    },
    "lines_to_next_cell": 2
   },
   "outputs": [],
   "source": [
    "# GRAMMAR STATEMENTS \n",
    "grm_centering_scaling = \"centering and scaling\"\n",
    "grm_role_of_transformations = \"role of transformations\"\n",
    "invprob_inverse_problem_determining_magnitudes = \" inverse problem of determining pc magnitudes given a yield curve\"\n",
    "grm_modelling_yield_curve_dynamics = \"modelling yield curve dynamics  -  is this the same as modelling yield curve changes given a base curve\"\n",
    "popnsmpl_out_of_sample = \"out of sample yield curves  -  those not used in the analysis to derive yield curves\"\n",
    "popnsmpl_population = \"population is the total population from which the sample set is obtained. For the examples in this paper this could also be called the universe of possible yield curves\"\n",
    "popnsmpl_sample_set = \"data set on which the PCA is performed. For the examples presented in this paper this is just a set of absolute yield curves in terms of forward rates\"\n",
    "popnsmpl_synthetic = fnc.f_wrap_in_span(\"i don't see purpose of synthetic population generation\",\"darkred\")\n",
    "datatrans_svt = \"mean centering essential when singular value decomposition used\" "
   ]
  },
  {
   "cell_type": "code",
   "execution_count": 5,
   "id": "7dbd090d",
   "metadata": {
    "execution": {
     "iopub.execute_input": "2025-07-31T22:30:47.565762Z",
     "iopub.status.busy": "2025-07-31T22:30:47.565497Z",
     "iopub.status.idle": "2025-07-31T22:30:47.568368Z",
     "shell.execute_reply": "2025-07-31T22:30:47.568026Z"
    }
   },
   "outputs": [],
   "source": [
    "# LOGIC LISTS\n",
    "lgc_out_of_sample = [\n",
    "\"out of sample yield curves  -  those not used in the analysis to derive yield curves\",\n",
    "\"his is shown to potentially require many more PCs than we might first think.\",\n",
    "\"perhaps bayesian inference gets around this....\"\n",
    "\n",
    "]\n",
    "\n",
    "lgc_adjacent_points_on_curve_do_not_move_independently = [\n",
    "\"adjacent points on the yield curve do not move independently\",\n",
    "\"why is this-when considering the forward yield curve specifically\"\n",
    "]\n",
    "lgc_central_tendency = [\n",
    "\"since pca derived from covariance matrix we are talking about deviation from the mean\",\n",
    "\"what does the mean represent in this context\",\n",
    "        ]        \n",
    "\n",
    "lgc_population_and_sample = [\n",
    "\"more is made of difference between population and sample than i would\",\n",
    "\"i would go for largest available dataset that is relevant and to me that is the population\",\n",
    "\"the paper seems to see validity in not using whole population to calibrate\"\n",
    "]\n",
    "\n",
    "data_translgc = [\n",
    "\"data transformations\",\n",
    "\"not necessary to centre data when eigenvalue decomposition is used\",\n",
    "\"scaling involves dividing by standard deviation\"\n",
    "\" caling is particularly useful if the variables have quite different orders of magnitude, although this is not likely to be the case for yield curves. \"\n",
    "]\n",
    "\n"
   ]
  },
  {
   "cell_type": "code",
   "execution_count": 6,
   "id": "139e5420",
   "metadata": {
    "execution": {
     "iopub.execute_input": "2025-07-31T22:30:47.569687Z",
     "iopub.status.busy": "2025-07-31T22:30:47.569456Z",
     "iopub.status.idle": "2025-07-31T22:30:47.571633Z",
     "shell.execute_reply": "2025-07-31T22:30:47.571291Z"
    }
   },
   "outputs": [],
   "source": [
    "# RHETORICAL STATEMENTS \n",
    "rht_pc_intuitive = \"intuitively, PCs represent ways in which the forward rates making up a yield curve can deviate from their mean levels\"\n",
    "rht_reproduce_if_keep_all_pcs =  \"A model including all of the PCs turns can perfectly reproduce all of the yield curves on which the PCA analysis was performed.\""
   ]
  },
  {
   "cell_type": "code",
   "execution_count": 7,
   "id": "74dc0e60",
   "metadata": {
    "execution": {
     "iopub.execute_input": "2025-07-31T22:30:47.573038Z",
     "iopub.status.busy": "2025-07-31T22:30:47.572832Z",
     "iopub.status.idle": "2025-07-31T22:30:47.575267Z",
     "shell.execute_reply": "2025-07-31T22:30:47.574931Z"
    }
   },
   "outputs": [],
   "source": [
    "# CRITICISMS\n",
    "\n",
    "crt_99_pct = [\n",
    "\"it might be appropriate to use two PCs in a reduced model as these should cover around 99% of the yield curve variability\",\n",
    "\"this 99% seems arbitrary since my first run gave high 80% using a 50year dataset\",\n",
    "\"perhaps a shorter dataset is this reliable\",\n",
    "\n",
    "]\n",
    "\n",
    "crt_simulating_curve_not_changes = [\n",
    "\"it looks like they are simulating the whole curve rather than modelling changes from one period to the next\",\n",
    "\"as evidence by statement 'The solid black line is the mean yield curve at the 𝑡 = 1 projection horizon.'\"\n",
    "\"the chart with solid black line and the dotted black as movement suggests they are treating mean curve as the current yield curve which cannot see has pratical usage\",\n",
    "]\n",
    "\n",
    "\n",
    "\n",
    "\n",
    "\n",
    "\n",
    "\n",
    "\n"
   ]
  },
  {
   "cell_type": "code",
   "execution_count": 8,
   "id": "5539cdb3",
   "metadata": {
    "execution": {
     "iopub.execute_input": "2025-07-31T22:30:47.576748Z",
     "iopub.status.busy": "2025-07-31T22:30:47.576432Z",
     "iopub.status.idle": "2025-07-31T22:30:47.598229Z",
     "shell.execute_reply": "2025-07-31T22:30:47.597889Z"
    }
   },
   "outputs": [
    {
     "data": {
      "text/html": [
       "<h1>Rough notes on moodys paper</h1>"
      ],
      "text/plain": [
       "<IPython.core.display.HTML object>"
      ]
     },
     "metadata": {},
     "output_type": "display_data"
    },
    {
     "data": {
      "text/html": [
       "<h2>grammar</h2>"
      ],
      "text/plain": [
       "<IPython.core.display.HTML object>"
      ]
     },
     "metadata": {},
     "output_type": "display_data"
    },
    {
     "data": {
      "text/html": [
       "centering and scaling"
      ],
      "text/plain": [
       "<IPython.core.display.HTML object>"
      ]
     },
     "metadata": {},
     "output_type": "display_data"
    },
    {
     "data": {
      "text/html": [
       "role of transformations"
      ],
      "text/plain": [
       "<IPython.core.display.HTML object>"
      ]
     },
     "metadata": {},
     "output_type": "display_data"
    },
    {
     "data": {
      "text/html": [
       "modelling yield curve dynamics  -  is this the same as modelling yield curve changes given a base curve"
      ],
      "text/plain": [
       "<IPython.core.display.HTML object>"
      ]
     },
     "metadata": {},
     "output_type": "display_data"
    },
    {
     "data": {
      "text/html": [
       "<h3>populations and samples</h3>"
      ],
      "text/plain": [
       "<IPython.core.display.HTML object>"
      ]
     },
     "metadata": {},
     "output_type": "display_data"
    },
    {
     "data": {
      "text/html": [
       "out of sample yield curves  -  those not used in the analysis to derive yield curves"
      ],
      "text/plain": [
       "<IPython.core.display.HTML object>"
      ]
     },
     "metadata": {},
     "output_type": "display_data"
    },
    {
     "data": {
      "text/html": [
       "population is the total population from which the sample set is obtained. For the examples in this paper this could also be called the universe of possible yield curves"
      ],
      "text/plain": [
       "<IPython.core.display.HTML object>"
      ]
     },
     "metadata": {},
     "output_type": "display_data"
    },
    {
     "data": {
      "text/html": [
       "data set on which the PCA is performed. For the examples presented in this paper this is just a set of absolute yield curves in terms of forward rates"
      ],
      "text/plain": [
       "<IPython.core.display.HTML object>"
      ]
     },
     "metadata": {},
     "output_type": "display_data"
    },
    {
     "data": {
      "text/html": [
       "<span style=\"color: darkred;\">i don't see purpose of synthetic population generation</span>"
      ],
      "text/plain": [
       "<IPython.core.display.HTML object>"
      ]
     },
     "metadata": {},
     "output_type": "display_data"
    },
    {
     "data": {
      "text/html": [
       "<h3>inverse problem</h3>"
      ],
      "text/plain": [
       "<IPython.core.display.HTML object>"
      ]
     },
     "metadata": {},
     "output_type": "display_data"
    },
    {
     "data": {
      "text/html": [
       " inverse problem of determining pc magnitudes given a yield curve"
      ],
      "text/plain": [
       "<IPython.core.display.HTML object>"
      ]
     },
     "metadata": {},
     "output_type": "display_data"
    },
    {
     "data": {
      "text/html": [
       "<h3>data transformations</h3>"
      ],
      "text/plain": [
       "<IPython.core.display.HTML object>"
      ]
     },
     "metadata": {},
     "output_type": "display_data"
    },
    {
     "data": {
      "text/html": [
       "mean centering essential when singular value decomposition used"
      ],
      "text/plain": [
       "<IPython.core.display.HTML object>"
      ]
     },
     "metadata": {},
     "output_type": "display_data"
    },
    {
     "data": {
      "text/html": [
       "<h2>logic</h2>"
      ],
      "text/plain": [
       "<IPython.core.display.HTML object>"
      ]
     },
     "metadata": {},
     "output_type": "display_data"
    },
    {
     "data": {
      "text/html": [
       "<h3>out of sample yield curves  -  those not used in the analysis to derive yield curves</h3>his is shown to potentially require many more PCs than we might first think.<br>perhaps bayesian inference gets around this...."
      ],
      "text/plain": [
       "<IPython.core.display.HTML object>"
      ]
     },
     "metadata": {},
     "output_type": "display_data"
    },
    {
     "data": {
      "text/html": [
       "<h3>adjacent points on the yield curve do not move independently</h3>why is this-when considering the forward yield curve specifically"
      ],
      "text/plain": [
       "<IPython.core.display.HTML object>"
      ]
     },
     "metadata": {},
     "output_type": "display_data"
    },
    {
     "data": {
      "text/html": [
       "<h3>since pca derived from covariance matrix we are talking about deviation from the mean</h3>what does the mean represent in this context"
      ],
      "text/plain": [
       "<IPython.core.display.HTML object>"
      ]
     },
     "metadata": {},
     "output_type": "display_data"
    },
    {
     "data": {
      "text/html": [
       "<h3>more is made of difference between population and sample than i would</h3>i would go for largest available dataset that is relevant and to me that is the population<br>the paper seems to see validity in not using whole population to calibrate"
      ],
      "text/plain": [
       "<IPython.core.display.HTML object>"
      ]
     },
     "metadata": {},
     "output_type": "display_data"
    },
    {
     "data": {
      "text/html": [
       "<h3>data transformations</h3>not necessary to centre data when eigenvalue decomposition is used<br>scaling involves dividing by standard deviation caling is particularly useful if the variables have quite different orders of magnitude, although this is not likely to be the case for yield curves. "
      ],
      "text/plain": [
       "<IPython.core.display.HTML object>"
      ]
     },
     "metadata": {},
     "output_type": "display_data"
    },
    {
     "data": {
      "text/html": [
       "<h2>rhetoric</h2>"
      ],
      "text/plain": [
       "<IPython.core.display.HTML object>"
      ]
     },
     "metadata": {},
     "output_type": "display_data"
    },
    {
     "data": {
      "text/html": [
       "intuitively, PCs represent ways in which the forward rates making up a yield curve can deviate from their mean levels"
      ],
      "text/plain": [
       "<IPython.core.display.HTML object>"
      ]
     },
     "metadata": {},
     "output_type": "display_data"
    },
    {
     "data": {
      "text/html": [
       "A model including all of the PCs turns can perfectly reproduce all of the yield curves on which the PCA analysis was performed."
      ],
      "text/plain": [
       "<IPython.core.display.HTML object>"
      ]
     },
     "metadata": {},
     "output_type": "display_data"
    },
    {
     "data": {
      "text/html": [
       "<h2>criticisms</h2>"
      ],
      "text/plain": [
       "<IPython.core.display.HTML object>"
      ]
     },
     "metadata": {},
     "output_type": "display_data"
    },
    {
     "data": {
      "text/html": [
       "<h3>it might be appropriate to use two PCs in a reduced model as these should cover around 99% of the yield curve variability</h3>this 99% seems arbitrary since my first run gave high 80% using a 50year dataset<br>perhaps a shorter dataset is this reliable"
      ],
      "text/plain": [
       "<IPython.core.display.HTML object>"
      ]
     },
     "metadata": {},
     "output_type": "display_data"
    },
    {
     "data": {
      "text/html": [
       "<h3>it looks like they are simulating the whole curve rather than modelling changes from one period to the next</h3>as evidence by statement 'The solid black line is the mean yield curve at the 𝑡 = 1 projection horizon.'the chart with solid black line and the dotted black as movement suggests they are treating mean curve as the current yield curve which cannot see has pratical usage"
      ],
      "text/plain": [
       "<IPython.core.display.HTML object>"
      ]
     },
     "metadata": {},
     "output_type": "display_data"
    },
    {
     "data": {
      "text/html": [
       "hi"
      ],
      "text/plain": [
       "<IPython.core.display.HTML object>"
      ]
     },
     "metadata": {},
     "output_type": "display_data"
    }
   ],
   "source": [
    "\n",
    "display(HTML(\"<h1>Rough notes on moodys paper</h1>\"))\n",
    "f_convert_string_vars_to_htmls(\"grm\",2,\"grammar\")\n",
    "f_convert_string_vars_to_htmls(\"popnsmpl\",3,\"populations and samples\")\n",
    "f_convert_string_vars_to_htmls(\"invprob\",3,\"inverse problem\")\n",
    "f_convert_string_vars_to_htmls(\"datatrans\",3,\"data transformations\")\n",
    "display(HTML(\"<h2>logic</h2>\"))\n",
    "f_display_html_with_heading(\"lgc\",3)\n",
    "f_display_html_with_heading(\"data_translgc\",3)\n",
    "\n",
    "f_convert_string_vars_to_htmls(\"rht\",2,\"rhetoric\")\n",
    "display(HTML(\"<h2>criticisms</h2>\"))\n",
    "f_display_html_with_heading(\"crt\",3)\n",
    "\n",
    "display(HTML(\"hi\"))\n",
    "\n",
    "\n"
   ]
  },
  {
   "cell_type": "markdown",
   "id": "4331f143",
   "metadata": {},
   "source": [
    "\n"
   ]
  }
 ],
 "metadata": {
  "jupytext": {
   "formats": "ipynb,py:percent,md"
  },
  "kernelspec": {
   "display_name": "Python 3 (ipykernel)",
   "language": "python",
   "name": "python3"
  },
  "language_info": {
   "codemirror_mode": {
    "name": "ipython",
    "version": 3
   },
   "file_extension": ".py",
   "mimetype": "text/x-python",
   "name": "python",
   "nbconvert_exporter": "python",
   "pygments_lexer": "ipython3",
   "version": "3.13.4"
  }
 },
 "nbformat": 4,
 "nbformat_minor": 5
}
