{
 "cells": [
  {
   "cell_type": "code",
   "execution_count": 1,
   "id": "c53bdfeb",
   "metadata": {
    "execution": {
     "iopub.execute_input": "2025-07-31T12:50:58.655547Z",
     "iopub.status.busy": "2025-07-31T12:50:58.654712Z",
     "iopub.status.idle": "2025-07-31T12:50:59.254687Z",
     "shell.execute_reply": "2025-07-31T12:50:59.253948Z"
    }
   },
   "outputs": [],
   "source": [
    "# imports\n",
    "from IPython.display import display, Markdown, HTML, SVG\n",
    "import numpy as np\n",
    "import matplotlib.pyplot as plt\n",
    "import pandas as pd\n",
    "from io import StringIO\n",
    "import notation as ntn\n",
    "\n",
    "\n"
   ]
  },
  {
   "cell_type": "code",
   "execution_count": 2,
   "id": "49a1fd77",
   "metadata": {
    "execution": {
     "iopub.execute_input": "2025-07-31T12:50:59.257510Z",
     "iopub.status.busy": "2025-07-31T12:50:59.257235Z",
     "iopub.status.idle": "2025-07-31T12:50:59.261457Z",
     "shell.execute_reply": "2025-07-31T12:50:59.260839Z"
    }
   },
   "outputs": [],
   "source": [
    "grm_out_of_sample = \"out of sample yield curves  -  those not used in the analysis to derive yield curves\"\n",
    "grm_centering_scaling = \"centering and scaling\"\n",
    "grm_role_of_transformations = \"role of transformations\"\n",
    "grm_inverse_problem_determining_magnitudes = \" inverse problem of determining pc magnitudes given a yield curve\"\n",
    "grm_modelling_yield_curve_dynamics = \"modelling yield curve dynamics  -  is this the same as modelling yield curve changes given a base curve\"\n",
    "\n",
    "\n",
    "\n",
    "lgc_out_of_sample = [\n",
    "\"out of sample yield curves  -  those not used in the analysis to derive yield curves\",\n",
    "\"his is shown to potentially require many more PCs than we might first think.\",\n",
    "\"perhaps bayesian inference gets around this....\"\n",
    "\n",
    "]\n",
    "\n",
    "lgc_adjacent_points_on_curve_do_not_move_independently = [\n",
    "\"adjacent points on the yield curve do not move independently\",\n",
    "\"why is this-when considering the forward yield curve specifically\"\n",
    "\n",
    "        ]        "
   ]
  },
  {
   "cell_type": "code",
   "execution_count": 3,
   "id": "2d887010",
   "metadata": {
    "execution": {
     "iopub.execute_input": "2025-07-31T12:50:59.263612Z",
     "iopub.status.busy": "2025-07-31T12:50:59.263434Z",
     "iopub.status.idle": "2025-07-31T12:50:59.271287Z",
     "shell.execute_reply": "2025-07-31T12:50:59.270799Z"
    },
    "lines_to_next_cell": 2
   },
   "outputs": [
    {
     "data": {
      "text/html": [
       "<h2>grammar</h2>"
      ],
      "text/plain": [
       "<IPython.core.display.HTML object>"
      ]
     },
     "metadata": {},
     "output_type": "display_data"
    },
    {
     "data": {
      "text/html": [
       "<h2>logic</h2>"
      ],
      "text/plain": [
       "<IPython.core.display.HTML object>"
      ]
     },
     "metadata": {},
     "output_type": "display_data"
    }
   ],
   "source": [
    "\n",
    "display(HTML(\"<h2>grammar</h2>\"))\n",
    "display(HTML(\"<h2>logic</h2>\"))\n",
    "\n",
    "\n",
    "\n",
    "\n"
   ]
  }
 ],
 "metadata": {
  "jupytext": {
   "formats": "ipynb,py:percent,md"
  },
  "kernelspec": {
   "display_name": "Python 3 (ipykernel)",
   "language": "python",
   "name": "python3"
  },
  "language_info": {
   "codemirror_mode": {
    "name": "ipython",
    "version": 3
   },
   "file_extension": ".py",
   "mimetype": "text/x-python",
   "name": "python",
   "nbconvert_exporter": "python",
   "pygments_lexer": "ipython3",
   "version": "3.12.8"
  }
 },
 "nbformat": 4,
 "nbformat_minor": 5
}
