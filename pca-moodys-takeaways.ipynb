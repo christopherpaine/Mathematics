{
 "cells": [
  {
   "cell_type": "code",
   "execution_count": 1,
   "id": "0eab0909",
   "metadata": {
    "execution": {
     "iopub.execute_input": "2025-07-31T22:25:50.320550Z",
     "iopub.status.busy": "2025-07-31T22:25:50.320386Z",
     "iopub.status.idle": "2025-07-31T22:25:50.817567Z",
     "shell.execute_reply": "2025-07-31T22:25:50.817047Z"
    }
   },
   "outputs": [],
   "source": [
    "# imports\n",
    "from IPython.display import display, Markdown, HTML, SVG\n",
    "import numpy as np\n",
    "import matplotlib.pyplot as plt\n",
    "import pandas as pd\n",
    "from io import StringIO\n",
    "import notation as ntn\n",
    "import functions as fnc\n",
    "\n",
    "\n"
   ]
  },
  {
   "cell_type": "code",
   "execution_count": 2,
   "id": "b9da40b3",
   "metadata": {
    "execution": {
     "iopub.execute_input": "2025-07-31T22:25:50.819728Z",
     "iopub.status.busy": "2025-07-31T22:25:50.819223Z",
     "iopub.status.idle": "2025-07-31T22:25:50.824399Z",
     "shell.execute_reply": "2025-07-31T22:25:50.824052Z"
    }
   },
   "outputs": [
    {
     "data": {
      "text/html": [
       "<style>\n",
       "     h1, h2 {\n",
       "         font-weight: 1000 !important;\n",
       "         color: black;\n",
       "         }\n",
       "\n",
       "     h1 {\n",
       "         text-decoration: underline;\n",
       "         }\n",
       "     </style>\n"
      ],
      "text/plain": [
       "<IPython.core.display.HTML object>"
      ]
     },
     "execution_count": 2,
     "metadata": {},
     "output_type": "execute_result"
    }
   ],
   "source": [
    "HTML(\"\"\"<style>\n",
    "     h1, h2 {\n",
    "         font-weight: 1000 !important;\n",
    "         color: black;\n",
    "         }\n",
    "\n",
    "     h1 {\n",
    "         text-decoration: underline;\n",
    "         }\n",
    "     </style>\n",
    "\"\"\")\n",
    "\n"
   ]
  },
  {
   "cell_type": "code",
   "execution_count": 3,
   "id": "c0217ed2",
   "metadata": {
    "execution": {
     "iopub.execute_input": "2025-07-31T22:25:50.825800Z",
     "iopub.status.busy": "2025-07-31T22:25:50.825655Z",
     "iopub.status.idle": "2025-07-31T22:25:50.829133Z",
     "shell.execute_reply": "2025-07-31T22:25:50.828814Z"
    }
   },
   "outputs": [],
   "source": [
    "def f_display_html_with_heading(prefix, heading_level):\n",
    "    lst = [s for s in fnc.list_variables(globals()) if s.startswith(prefix)]\n",
    "    for html in lst:\n",
    "        display(HTML(fnc.combine_strings_with_heading(eval(html), heading_level)))\n",
    "\n",
    "def f_convert_string_vars_to_htmls(prefix, heading_level, content):\n",
    "    display(HTML(f\"<h{heading_level}>{content}</h{heading_level}>\"))\n",
    "    filtered_list = [s for s in fnc.list_variables(globals()) if s.startswith(prefix)]\n",
    "    for html in filtered_list:\n",
    "        display(HTML(eval(html)))\n",
    "\n"
   ]
  },
  {
   "cell_type": "code",
   "execution_count": 4,
   "id": "a7f640aa",
   "metadata": {
    "execution": {
     "iopub.execute_input": "2025-07-31T22:25:50.830733Z",
     "iopub.status.busy": "2025-07-31T22:25:50.830401Z",
     "iopub.status.idle": "2025-07-31T22:25:50.833490Z",
     "shell.execute_reply": "2025-07-31T22:25:50.833122Z"
    },
    "lines_to_next_cell": 2
   },
   "outputs": [],
   "source": [
    "# GRAMMAR STATEMENTS \n",
    "grm_centering_scaling = \"centering and scaling\"\n",
    "grm_role_of_transformations = \"role of transformations\"\n",
    "invprob_inverse_problem_determining_magnitudes = \" inverse problem of determining pc magnitudes given a yield curve\"\n",
    "grm_modelling_yield_curve_dynamics = \"modelling yield curve dynamics  -  is this the same as modelling yield curve changes given a base curve\"\n",
    "popnsmpl_out_of_sample = \"out of sample yield curves  -  those not used in the analysis to derive yield curves\"\n",
    "popnsmpl_population = \"population is the total population from which the sample set is obtained. For the examples in this paper this could also be called the universe of possible yield curves\"\n",
    "popnsmpl_sample_set = \"data set on which the PCA is performed. For the examples presented in this paper this is just a set of absolute yield curves in terms of forward rates\"\n",
    "popnsmpl_synthetic = fnc.f_wrap_in_span(\"i don't see purpose of synthetic population generation\",\"darkred\")\n",
    "datatrans_svt = \"mean centering essential when singular value decomposition used\" "
   ]
  },
  {
   "cell_type": "code",
   "execution_count": 5,
   "id": "7dbd090d",
   "metadata": {
    "execution": {
     "iopub.execute_input": "2025-07-31T22:25:50.835054Z",
     "iopub.status.busy": "2025-07-31T22:25:50.834786Z",
     "iopub.status.idle": "2025-07-31T22:25:50.837792Z",
     "shell.execute_reply": "2025-07-31T22:25:50.837444Z"
    }
   },
   "outputs": [],
   "source": [
    "# LOGIC LISTS\n",
    "lgc_out_of_sample = [\n",
    "\"out of sample yield curves  -  those not used in the analysis to derive yield curves\",\n",
    "\"his is shown to potentially require many more PCs than we might first think.\",\n",
    "\"perhaps bayesian inference gets around this....\"\n",
    "\n",
    "]\n",
    "\n",
    "lgc_adjacent_points_on_curve_do_not_move_independently = [\n",
    "\"adjacent points on the yield curve do not move independently\",\n",
    "\"why is this-when considering the forward yield curve specifically\"\n",
    "]\n",
    "lgc_central_tendency = [\n",
    "\"since pca derived from covariance matrix we are talking about deviation from the mean\",\n",
    "\"what does the mean represent in this context\",\n",
    "        ]        \n",
    "\n",
    "lgc_population_and_sample = [\n",
    "\"more is made of difference between population and sample than i would\",\n",
    "\"i would go for largest available dataset that is relevant and to me that is the population\",\n",
    "\"the paper seems to see validity in not using whole population to calibrate\"\n",
    "]\n",
    "\n",
    "datatranslgc = [\n",
    "\"data transformations\",\n",
    "\"not necessary to centre data when eigenvalue decomposition is used\",\n",
    "\"scaling involves dividing by standard deviation\"\n",
    "]\n",
    "\n"
   ]
  },
  {
   "cell_type": "code",
   "execution_count": 6,
   "id": "139e5420",
   "metadata": {
    "execution": {
     "iopub.execute_input": "2025-07-31T22:25:50.839341Z",
     "iopub.status.busy": "2025-07-31T22:25:50.839057Z",
     "iopub.status.idle": "2025-07-31T22:25:50.841301Z",
     "shell.execute_reply": "2025-07-31T22:25:50.840966Z"
    }
   },
   "outputs": [],
   "source": [
    "# RHETORICAL STATEMENTS \n",
    "rht_pc_intuitive = \"intuitively, PCs represent ways in which the forward rates making up a yield curve can deviate from their mean levels\"\n",
    "rht_reproduce_if_keep_all_pcs =  \"A model including all of the PCs turns can perfectly reproduce all of the yield curves on which the PCA analysis was performed.\""
   ]
  },
  {
   "cell_type": "code",
   "execution_count": 7,
   "id": "74dc0e60",
   "metadata": {
    "execution": {
     "iopub.execute_input": "2025-07-31T22:25:50.842779Z",
     "iopub.status.busy": "2025-07-31T22:25:50.842559Z",
     "iopub.status.idle": "2025-07-31T22:25:50.844978Z",
     "shell.execute_reply": "2025-07-31T22:25:50.844630Z"
    }
   },
   "outputs": [],
   "source": [
    "# CRITICISMS\n",
    "\n",
    "crt_99_pct = [\n",
    "\"it might be appropriate to use two PCs in a reduced model as these should cover around 99% of the yield curve variability\",\n",
    "\"this 99% seems arbitrary since my first run gave high 80% using a 50year dataset\",\n",
    "\"perhaps a shorter dataset is this reliable\",\n",
    "\n",
    "]\n",
    "\n",
    "crt_simulating_curve_not_changes = [\n",
    "\"it looks like they are simulating the whole curve rather than modelling changes from one period to the next\",\n",
    "\"as evidence by statement 'The solid black line is the mean yield curve at the 𝑡 = 1 projection horizon.'\"\n",
    "\"the chart with solid black line and the dotted black as movement suggests they are treating mean curve as the current yield curve which cannot see has pratical usage\",\n",
    "]\n",
    "\n",
    "\n",
    "\n",
    "\n",
    "\n",
    "\n",
    "\n",
    "\n"
   ]
  },
  {
   "cell_type": "code",
   "execution_count": 8,
   "id": "5539cdb3",
   "metadata": {
    "execution": {
     "iopub.execute_input": "2025-07-31T22:25:50.846512Z",
     "iopub.status.busy": "2025-07-31T22:25:50.846227Z",
     "iopub.status.idle": "2025-07-31T22:25:51.141892Z",
     "shell.execute_reply": "2025-07-31T22:25:51.141451Z"
    }
   },
   "outputs": [
    {
     "data": {
      "text/html": [
       "<h1>Rough notes on moodys paper</h1>"
      ],
      "text/plain": [
       "<IPython.core.display.HTML object>"
      ]
     },
     "metadata": {},
     "output_type": "display_data"
    },
    {
     "data": {
      "text/html": [
       "<h2>grammar</h2>"
      ],
      "text/plain": [
       "<IPython.core.display.HTML object>"
      ]
     },
     "metadata": {},
     "output_type": "display_data"
    },
    {
     "data": {
      "text/html": [
       "centering and scaling"
      ],
      "text/plain": [
       "<IPython.core.display.HTML object>"
      ]
     },
     "metadata": {},
     "output_type": "display_data"
    },
    {
     "data": {
      "text/html": [
       "role of transformations"
      ],
      "text/plain": [
       "<IPython.core.display.HTML object>"
      ]
     },
     "metadata": {},
     "output_type": "display_data"
    },
    {
     "data": {
      "text/html": [
       "modelling yield curve dynamics  -  is this the same as modelling yield curve changes given a base curve"
      ],
      "text/plain": [
       "<IPython.core.display.HTML object>"
      ]
     },
     "metadata": {},
     "output_type": "display_data"
    },
    {
     "data": {
      "text/html": [
       "<h3>populations and samples</h3>"
      ],
      "text/plain": [
       "<IPython.core.display.HTML object>"
      ]
     },
     "metadata": {},
     "output_type": "display_data"
    },
    {
     "data": {
      "text/html": [
       "out of sample yield curves  -  those not used in the analysis to derive yield curves"
      ],
      "text/plain": [
       "<IPython.core.display.HTML object>"
      ]
     },
     "metadata": {},
     "output_type": "display_data"
    },
    {
     "data": {
      "text/html": [
       "population is the total population from which the sample set is obtained. For the examples in this paper this could also be called the universe of possible yield curves"
      ],
      "text/plain": [
       "<IPython.core.display.HTML object>"
      ]
     },
     "metadata": {},
     "output_type": "display_data"
    },
    {
     "data": {
      "text/html": [
       "data set on which the PCA is performed. For the examples presented in this paper this is just a set of absolute yield curves in terms of forward rates"
      ],
      "text/plain": [
       "<IPython.core.display.HTML object>"
      ]
     },
     "metadata": {},
     "output_type": "display_data"
    },
    {
     "data": {
      "text/html": [
       "<span style=\"color: darkred;\">i don't see purpose of synthetic population generation</span>"
      ],
      "text/plain": [
       "<IPython.core.display.HTML object>"
      ]
     },
     "metadata": {},
     "output_type": "display_data"
    },
    {
     "data": {
      "text/html": [
       "<h3>inverse problem</h3>"
      ],
      "text/plain": [
       "<IPython.core.display.HTML object>"
      ]
     },
     "metadata": {},
     "output_type": "display_data"
    },
    {
     "data": {
      "text/html": [
       " inverse problem of determining pc magnitudes given a yield curve"
      ],
      "text/plain": [
       "<IPython.core.display.HTML object>"
      ]
     },
     "metadata": {},
     "output_type": "display_data"
    },
    {
     "data": {
      "text/html": [
       "<h3>inverse problem</h3>"
      ],
      "text/plain": [
       "<IPython.core.display.HTML object>"
      ]
     },
     "metadata": {},
     "output_type": "display_data"
    },
    {
     "data": {
      "text/html": [
       "mean centering essential when singular value decomposition used"
      ],
      "text/plain": [
       "<IPython.core.display.HTML object>"
      ]
     },
     "metadata": {},
     "output_type": "display_data"
    },
    {
     "ename": "AttributeError",
     "evalue": "'list' object has no attribute 'lower'",
     "output_type": "error",
     "traceback": [
      "\u001b[31m---------------------------------------------------------------------------\u001b[39m",
      "\u001b[31mAttributeError\u001b[39m                            Traceback (most recent call last)",
      "\u001b[36mCell\u001b[39m\u001b[36m \u001b[39m\u001b[32mIn[8]\u001b[39m\u001b[32m, line 5\u001b[39m\n\u001b[32m      3\u001b[39m f_convert_string_vars_to_htmls(\u001b[33m\"\u001b[39m\u001b[33mpopnsmpl\u001b[39m\u001b[33m\"\u001b[39m,\u001b[32m3\u001b[39m,\u001b[33m\"\u001b[39m\u001b[33mpopulations and samples\u001b[39m\u001b[33m\"\u001b[39m)\n\u001b[32m      4\u001b[39m f_convert_string_vars_to_htmls(\u001b[33m\"\u001b[39m\u001b[33minvprob\u001b[39m\u001b[33m\"\u001b[39m,\u001b[32m3\u001b[39m,\u001b[33m\"\u001b[39m\u001b[33minverse problem\u001b[39m\u001b[33m\"\u001b[39m)\n\u001b[32m----> \u001b[39m\u001b[32m5\u001b[39m \u001b[43mf_convert_string_vars_to_htmls\u001b[49m\u001b[43m(\u001b[49m\u001b[33;43m\"\u001b[39;49m\u001b[33;43mdatatrans\u001b[39;49m\u001b[33;43m\"\u001b[39;49m\u001b[43m,\u001b[49m\u001b[32;43m3\u001b[39;49m\u001b[43m,\u001b[49m\u001b[33;43m\"\u001b[39;49m\u001b[33;43minverse problem\u001b[39;49m\u001b[33;43m\"\u001b[39;49m\u001b[43m)\u001b[49m\n\u001b[32m      6\u001b[39m display(HTML(\u001b[33m\"\u001b[39m\u001b[33m<h2>logic</h2>\u001b[39m\u001b[33m\"\u001b[39m))\n\u001b[32m      7\u001b[39m f_display_html_with_heading(\u001b[33m\"\u001b[39m\u001b[33mlgc\u001b[39m\u001b[33m\"\u001b[39m,\u001b[32m3\u001b[39m)\n",
      "\u001b[36mCell\u001b[39m\u001b[36m \u001b[39m\u001b[32mIn[3]\u001b[39m\u001b[32m, line 10\u001b[39m, in \u001b[36mf_convert_string_vars_to_htmls\u001b[39m\u001b[34m(prefix, heading_level, content)\u001b[39m\n\u001b[32m      8\u001b[39m filtered_list = [s \u001b[38;5;28;01mfor\u001b[39;00m s \u001b[38;5;129;01min\u001b[39;00m fnc.list_variables(\u001b[38;5;28mglobals\u001b[39m()) \u001b[38;5;28;01mif\u001b[39;00m s.startswith(prefix)]\n\u001b[32m      9\u001b[39m \u001b[38;5;28;01mfor\u001b[39;00m html \u001b[38;5;129;01min\u001b[39;00m filtered_list:\n\u001b[32m---> \u001b[39m\u001b[32m10\u001b[39m     display(\u001b[43mHTML\u001b[49m\u001b[43m(\u001b[49m\u001b[38;5;28;43meval\u001b[39;49m\u001b[43m(\u001b[49m\u001b[43mhtml\u001b[49m\u001b[43m)\u001b[49m\u001b[43m)\u001b[49m)\n",
      "\u001b[36mFile \u001b[39m\u001b[32m/nix/store/hvrcj9bbfjb549fj3kgh2mdl71hkq282-python3-3.13.4-env/lib/python3.13/site-packages/IPython/core/display.py:446\u001b[39m, in \u001b[36mHTML.__init__\u001b[39m\u001b[34m(self, data, url, filename, metadata)\u001b[39m\n\u001b[32m    443\u001b[39m     suffix = data[-\u001b[32m10\u001b[39m:].lower()\n\u001b[32m    444\u001b[39m     \u001b[38;5;28;01mreturn\u001b[39;00m prefix.startswith(\u001b[33m\"\u001b[39m\u001b[33m<iframe \u001b[39m\u001b[33m\"\u001b[39m) \u001b[38;5;129;01mand\u001b[39;00m suffix.endswith(\u001b[33m\"\u001b[39m\u001b[33m</iframe>\u001b[39m\u001b[33m\"\u001b[39m)\n\u001b[32m--> \u001b[39m\u001b[32m446\u001b[39m \u001b[38;5;28;01mif\u001b[39;00m \u001b[43mwarn\u001b[49m\u001b[43m(\u001b[49m\u001b[43m)\u001b[49m:\n\u001b[32m    447\u001b[39m     warnings.warn(\u001b[33m\"\u001b[39m\u001b[33mConsider using IPython.display.IFrame instead\u001b[39m\u001b[33m\"\u001b[39m)\n\u001b[32m    448\u001b[39m \u001b[38;5;28msuper\u001b[39m(HTML, \u001b[38;5;28mself\u001b[39m).\u001b[34m__init__\u001b[39m(data=data, url=url, filename=filename, metadata=metadata)\n",
      "\u001b[36mFile \u001b[39m\u001b[32m/nix/store/hvrcj9bbfjb549fj3kgh2mdl71hkq282-python3-3.13.4-env/lib/python3.13/site-packages/IPython/core/display.py:442\u001b[39m, in \u001b[36mHTML.__init__.<locals>.warn\u001b[39m\u001b[34m()\u001b[39m\n\u001b[32m    436\u001b[39m     \u001b[38;5;28;01mreturn\u001b[39;00m \u001b[38;5;28;01mFalse\u001b[39;00m\n\u001b[32m    438\u001b[39m \u001b[38;5;66;03m#\u001b[39;00m\n\u001b[32m    439\u001b[39m \u001b[38;5;66;03m# Avoid calling lower() on the entire data, because it could be a\u001b[39;00m\n\u001b[32m    440\u001b[39m \u001b[38;5;66;03m# long string and we're only interested in its beginning and end.\u001b[39;00m\n\u001b[32m    441\u001b[39m \u001b[38;5;66;03m#\u001b[39;00m\n\u001b[32m--> \u001b[39m\u001b[32m442\u001b[39m prefix = \u001b[43mdata\u001b[49m\u001b[43m[\u001b[49m\u001b[43m:\u001b[49m\u001b[32;43m10\u001b[39;49m\u001b[43m]\u001b[49m\u001b[43m.\u001b[49m\u001b[43mlower\u001b[49m()\n\u001b[32m    443\u001b[39m suffix = data[-\u001b[32m10\u001b[39m:].lower()\n\u001b[32m    444\u001b[39m \u001b[38;5;28;01mreturn\u001b[39;00m prefix.startswith(\u001b[33m\"\u001b[39m\u001b[33m<iframe \u001b[39m\u001b[33m\"\u001b[39m) \u001b[38;5;129;01mand\u001b[39;00m suffix.endswith(\u001b[33m\"\u001b[39m\u001b[33m</iframe>\u001b[39m\u001b[33m\"\u001b[39m)\n",
      "\u001b[31mAttributeError\u001b[39m: 'list' object has no attribute 'lower'"
     ]
    }
   ],
   "source": [
    "\n",
    "display(HTML(\"<h1>Rough notes on moodys paper</h1>\"))\n",
    "f_convert_string_vars_to_htmls(\"grm\",2,\"grammar\")\n",
    "f_convert_string_vars_to_htmls(\"popnsmpl\",3,\"populations and samples\")\n",
    "f_convert_string_vars_to_htmls(\"invprob\",3,\"inverse problem\")\n",
    "f_convert_string_vars_to_htmls(\"datatrans\",3,\"inverse problem\")\n",
    "display(HTML(\"<h2>logic</h2>\"))\n",
    "f_display_html_with_heading(\"lgc\",3)\n",
    "f_display_html_with_heading(\"datatranslgc\",3)\n",
    "\n",
    "f_convert_string_vars_to_htmls(\"rht\",2,\"rhetoric\")\n",
    "display(HTML(\"<h2>criticisms</h2>\"))\n",
    "f_display_html_with_heading(\"crt\",3)\n",
    "\n",
    "display(HTML(\"hi\"))\n",
    "\n",
    "\n"
   ]
  },
  {
   "cell_type": "markdown",
   "id": "4331f143",
   "metadata": {},
   "source": [
    "\n"
   ]
  }
 ],
 "metadata": {
  "jupytext": {
   "formats": "ipynb,py:percent,md"
  },
  "kernelspec": {
   "display_name": "Python 3 (ipykernel)",
   "language": "python",
   "name": "python3"
  },
  "language_info": {
   "codemirror_mode": {
    "name": "ipython",
    "version": 3
   },
   "file_extension": ".py",
   "mimetype": "text/x-python",
   "name": "python",
   "nbconvert_exporter": "python",
   "pygments_lexer": "ipython3",
   "version": "3.13.4"
  }
 },
 "nbformat": 4,
 "nbformat_minor": 5
}
