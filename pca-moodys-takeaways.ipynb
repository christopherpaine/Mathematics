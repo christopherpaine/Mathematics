{
 "cells": [
  {
   "cell_type": "code",
   "execution_count": 1,
   "id": "c53bdfeb",
   "metadata": {
    "execution": {
     "iopub.execute_input": "2025-07-31T13:19:05.976157Z",
     "iopub.status.busy": "2025-07-31T13:19:05.975886Z",
     "iopub.status.idle": "2025-07-31T13:19:06.589432Z",
     "shell.execute_reply": "2025-07-31T13:19:06.588794Z"
    }
   },
   "outputs": [],
   "source": [
    "# imports\n",
    "from IPython.display import display, Markdown, HTML, SVG\n",
    "import numpy as np\n",
    "import matplotlib.pyplot as plt\n",
    "import pandas as pd\n",
    "from io import StringIO\n",
    "import notation as ntn\n",
    "import functions as fnc\n",
    "\n"
   ]
  },
  {
   "cell_type": "code",
   "execution_count": 2,
   "id": "49a1fd77",
   "metadata": {
    "execution": {
     "iopub.execute_input": "2025-07-31T13:19:06.592034Z",
     "iopub.status.busy": "2025-07-31T13:19:06.591481Z",
     "iopub.status.idle": "2025-07-31T13:19:06.595629Z",
     "shell.execute_reply": "2025-07-31T13:19:06.595133Z"
    }
   },
   "outputs": [],
   "source": [
    "grm_out_of_sample = \"out of sample yield curves  -  those not used in the analysis to derive yield curves\"\n",
    "grm_centering_scaling = \"centering and scaling\"\n",
    "grm_role_of_transformations = \"role of transformations\"\n",
    "grm_inverse_problem_determining_magnitudes = \" inverse problem of determining pc magnitudes given a yield curve\"\n",
    "grm_modelling_yield_curve_dynamics = \"modelling yield curve dynamics  -  is this the same as modelling yield curve changes given a base curve\"\n",
    "\n",
    "\n",
    "\n",
    "lgc_out_of_sample = [\n",
    "\"out of sample yield curves  -  those not used in the analysis to derive yield curves\",\n",
    "\"his is shown to potentially require many more PCs than we might first think.\",\n",
    "\"perhaps bayesian inference gets around this....\"\n",
    "\n",
    "]\n",
    "\n",
    "lgc_adjacent_points_on_curve_do_not_move_independently = [\n",
    "\"adjacent points on the yield curve do not move independently\",\n",
    "\"why is this-when considering the forward yield curve specifically\"\n",
    "\n",
    "        ]        "
   ]
  },
  {
   "cell_type": "code",
   "execution_count": 3,
   "id": "2d887010",
   "metadata": {
    "execution": {
     "iopub.execute_input": "2025-07-31T13:19:06.597491Z",
     "iopub.status.busy": "2025-07-31T13:19:06.597303Z",
     "iopub.status.idle": "2025-07-31T13:19:06.795586Z",
     "shell.execute_reply": "2025-07-31T13:19:06.795019Z"
    },
    "lines_to_next_cell": 3
   },
   "outputs": [
    {
     "data": {
      "text/html": [
       "<h2>grammar</h2>"
      ],
      "text/plain": [
       "<IPython.core.display.HTML object>"
      ]
     },
     "metadata": {},
     "output_type": "display_data"
    },
    {
     "ename": "NameError",
     "evalue": "name 'flitered_list' is not defined",
     "output_type": "error",
     "traceback": [
      "\u001b[0;31m---------------------------------------------------------------------------\u001b[0m",
      "\u001b[0;31mNameError\u001b[0m                                 Traceback (most recent call last)",
      "Cell \u001b[0;32mIn[3], line 3\u001b[0m\n\u001b[1;32m      1\u001b[0m display(HTML(\u001b[38;5;124m\"\u001b[39m\u001b[38;5;124m<h2>grammar</h2>\u001b[39m\u001b[38;5;124m\"\u001b[39m))\n\u001b[1;32m      2\u001b[0m filtered_list \u001b[38;5;241m=\u001b[39m [s \u001b[38;5;28;01mfor\u001b[39;00m s \u001b[38;5;129;01min\u001b[39;00m fnc\u001b[38;5;241m.\u001b[39mlist_variables(\u001b[38;5;28mglobals\u001b[39m()) \u001b[38;5;28;01mif\u001b[39;00m s\u001b[38;5;241m.\u001b[39mstartswith(\u001b[38;5;124m\"\u001b[39m\u001b[38;5;124mgrm\u001b[39m\u001b[38;5;124m\"\u001b[39m)]                    \n\u001b[0;32m----> 3\u001b[0m \u001b[38;5;28;01mfor\u001b[39;00m html \u001b[38;5;129;01min\u001b[39;00m \u001b[43mflitered_list\u001b[49m:                                                         \n\u001b[1;32m      4\u001b[0m      display(HTML(html))                                                                \n\u001b[1;32m      5\u001b[0m display(HTML(\u001b[38;5;124m\"\u001b[39m\u001b[38;5;124m<h2>logic</h2>\u001b[39m\u001b[38;5;124m\"\u001b[39m))\n",
      "\u001b[0;31mNameError\u001b[0m: name 'flitered_list' is not defined"
     ]
    }
   ],
   "source": [
    "\n",
    "display(HTML(\"<h2>grammar</h2>\"))\n",
    "filtered_list = [s for s in fnc.list_variables(globals()) if s.startswith(\"grm\")]                    \n",
    "for html in filtered_list:                                                         \n",
    "     display(HTML(html))                                                                \n",
    "display(HTML(\"<h2>logic</h2>\"))"
   ]
  }
 ],
 "metadata": {
  "jupytext": {
   "formats": "ipynb,py:percent,md"
  },
  "kernelspec": {
   "display_name": "Python 3 (ipykernel)",
   "language": "python",
   "name": "python3"
  },
  "language_info": {
   "codemirror_mode": {
    "name": "ipython",
    "version": 3
   },
   "file_extension": ".py",
   "mimetype": "text/x-python",
   "name": "python",
   "nbconvert_exporter": "python",
   "pygments_lexer": "ipython3",
   "version": "3.12.8"
  }
 },
 "nbformat": 4,
 "nbformat_minor": 5
}
