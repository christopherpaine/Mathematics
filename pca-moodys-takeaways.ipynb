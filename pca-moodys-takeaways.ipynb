{
 "cells": [
  {
   "cell_type": "code",
   "execution_count": 1,
   "id": "c53bdfeb",
   "metadata": {
    "execution": {
     "iopub.execute_input": "2025-07-30T15:10:17.959090Z",
     "iopub.status.busy": "2025-07-30T15:10:17.958674Z",
     "iopub.status.idle": "2025-07-30T15:10:18.559352Z",
     "shell.execute_reply": "2025-07-30T15:10:18.558787Z"
    }
   },
   "outputs": [],
   "source": [
    "# imports\n",
    "from IPython.display import display, Markdown, HTML, SVG\n",
    "import numpy as np\n",
    "import matplotlib.pyplot as plt\n",
    "import pandas as pd\n",
    "from io import StringIO\n",
    "import notation as ntn\n",
    "\n",
    "\n"
   ]
  },
  {
   "cell_type": "code",
   "execution_count": 2,
   "id": "49a1fd77",
   "metadata": {
    "execution": {
     "iopub.execute_input": "2025-07-30T15:10:18.561590Z",
     "iopub.status.busy": "2025-07-30T15:10:18.561284Z",
     "iopub.status.idle": "2025-07-30T15:10:18.564012Z",
     "shell.execute_reply": "2025-07-30T15:10:18.563519Z"
    }
   },
   "outputs": [],
   "source": [
    "grammar_out_of_sample = \"out of sample yield curves  -  those not used in the analysis to derive yield curves\"\n",
    "\n",
    "\n"
   ]
  },
  {
   "cell_type": "code",
   "execution_count": null,
   "id": "2d887010",
   "metadata": {
    "lines_to_next_cell": 3
   },
   "outputs": [],
   "source": []
  }
 ],
 "metadata": {
  "jupytext": {
   "formats": "ipynb,py:percent,md"
  },
  "kernelspec": {
   "display_name": "Python 3 (ipykernel)",
   "language": "python",
   "name": "python3"
  },
  "language_info": {
   "codemirror_mode": {
    "name": "ipython",
    "version": 3
   },
   "file_extension": ".py",
   "mimetype": "text/x-python",
   "name": "python",
   "nbconvert_exporter": "python",
   "pygments_lexer": "ipython3",
   "version": "3.12.8"
  }
 },
 "nbformat": 4,
 "nbformat_minor": 5
}
