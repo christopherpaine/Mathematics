{
 "cells": [
  {
   "cell_type": "code",
   "execution_count": 1,
   "id": "415850cf",
   "metadata": {
    "execution": {
     "iopub.execute_input": "2025-07-30T09:20:05.382739Z",
     "iopub.status.busy": "2025-07-30T09:20:05.382584Z",
     "iopub.status.idle": "2025-07-30T09:20:05.858998Z",
     "shell.execute_reply": "2025-07-30T09:20:05.858512Z"
    }
   },
   "outputs": [],
   "source": [
    "# imports\n",
    "from IPython.display import display, Markdown, HTML, SVG\n",
    "import numpy as np\n",
    "import matplotlib.pyplot as plt\n",
    "import pandas as pd\n",
    "from io import StringIO\n",
    "import notation as ntn"
   ]
  },
  {
   "cell_type": "code",
   "execution_count": 2,
   "id": "99905415",
   "metadata": {
    "execution": {
     "iopub.execute_input": "2025-07-30T09:20:05.860973Z",
     "iopub.status.busy": "2025-07-30T09:20:05.860747Z",
     "iopub.status.idle": "2025-07-30T09:20:05.863931Z",
     "shell.execute_reply": "2025-07-30T09:20:05.863453Z"
    }
   },
   "outputs": [],
   "source": [
    "not_V = r\"\\(V\\)\"\n",
    "not_T = r\"\\(T\\)\"\n",
    "not_transformation = r\"\\(T: V \\rightarrow V\\)\"\n",
    "not_v_exists_in_v = r\"\\(\\mathbf{v} \\in V\\)\"\n",
    "not_Tv = r\"\\(T\\mathbf{v}\\)\"\n",
    "not_v = r\"\\(\\mathbf{v}\\)\"\n",
    "not_lamda = r\"\\(\\lambda\\)\"\n",
    "\n",
    "\n",
    "eqn_tv_lamdav = r\"\\(T\\mathbf{v}=\\lambda \\mathbf{v}\\)\"\n",
    "eqn_associativity_of_additions = r\"\\((\\mathbf{u} + \\mathbf{v}) + \\mathbf{w} = \\mathbf{u} + (\\mathbf{v} + \\mathbf{w})\\)\"\n",
    "\n",
    "\n"
   ]
  },
  {
   "cell_type": "code",
   "execution_count": 3,
   "id": "a91d8766",
   "metadata": {
    "execution": {
     "iopub.execute_input": "2025-07-30T09:20:05.865507Z",
     "iopub.status.busy": "2025-07-30T09:20:05.865361Z",
     "iopub.status.idle": "2025-07-30T09:20:05.868952Z",
     "shell.execute_reply": "2025-07-30T09:20:05.868481Z"
    }
   },
   "outputs": [
    {
     "name": "stderr",
     "output_type": "stream",
     "text": [
      "<>:20: SyntaxWarning: invalid escape sequence '\\('\n",
      "<>:20: SyntaxWarning: invalid escape sequence '\\('\n",
      "/tmp/nix-shell-150985-0/ipykernel_368692/2316754505.py:20: SyntaxWarning: invalid escape sequence '\\('\n",
      "  <td>\\(\\mathbf{u} + \\mathbf{v} \\in V\\)</td>\n"
     ]
    }
   ],
   "source": [
    "wrd_vector_spaces_intro = \"<h2>Vector Spaces</h2>\"\\\n",
    "        + \"<p>A vector space is is a set of vectors with two operations:</p>\"\\\n",
    "        + \"\\\n",
    "        <ul>\\\n",
    "            <li>addition</li>\\\n",
    "            <li>scalar multiplication</li>\\\n",
    "        </ul>\\\n",
    "        \"\\\n",
    "        + \"These operations satisfy the following axioms:\" + \"\"\"\n",
    "\n",
    "<table border=\"1\">\n",
    "  <tr>\n",
    "    <th style=\"width: 30%;>Name of Vector Space Axiom</th>\n",
    "    <th style=\"width: 50%;\">Explanation</th>\n",
    "    <th>Mathematical Notation</th>\n",
    "  </tr>\n",
    "  <tr>\n",
    "    <td>Closure under Addition</td>\n",
    "    <td style=\"width: 50%;\">The sum of any two vectors is also a vector in the same space.</td>\n",
    "    <td>\\(\\mathbf{u} + \\mathbf{v} \\in V\\)</td>\n",
    "  </tr>\n",
    "  <tr>\n",
    "    <td>Associativity of Addition</td>\n",
    "    <td style=\"width: 50%;\">The way in which vectors are grouped in addition does not change the result.</td>\n",
    "    <td>\\((\\mathbf{u} + \\mathbf{v}) + \\mathbf{w} = \\mathbf{u} + (\\mathbf{v} + \\mathbf{w})\\)</td>\n",
    "  </tr>\n",
    "  <tr>\n",
    "    <td>Identity Element of Addition</td>\n",
    "    <td style=\"width: 50%;\">There exists a zero vector such that adding it to any vector does not change the vector.</td>\n",
    "    <td>\\(\\mathbf{v} + \\mathbf{0} = \\mathbf{v}\\)</td>\n",
    "  </tr>\n",
    "  <tr>\n",
    "    <td>Inverse Elements of Addition</td>\n",
    "    <td style=\"width: 50%;\">For every vector, there exists an inverse vector such that their sum is the zero vector.</td>\n",
    "    <td>\\(\\mathbf{v} + (-\\mathbf{v}) = \\mathbf{0}\\)</td>\n",
    "  </tr>\n",
    "  <tr>\n",
    "    <td>Closure under Scalar Multiplication</td>\n",
    "    <td style=\"width: 50%;\">The product of a scalar and a vector is also a vector in the same space.</td>\n",
    "    <td>\\(a\\mathbf{v} \\in V\\)</td>\n",
    "  </tr>\n",
    "  <tr>\n",
    "    <td>Distributive Property of Scalar Multiplication with respect to Vector Addition</td>\n",
    "    <td style=\"width: 50%;\">Scalar multiplication distributes over vector addition.</td>\n",
    "    <td>\\(a(\\mathbf{u} + \\mathbf{v}) = a\\mathbf{u} + a\\mathbf{v}\\)</td>\n",
    "  </tr>\n",
    "  <tr>\n",
    "    <td>Distributive Property of Scalar Multiplication with respect to Field Addition</td>\n",
    "    <td style=\"width: 50%;\">Scalar addition distributes over scalar multiplication.</td>\n",
    "    <td>\\((a + b)\\mathbf{v} = a\\mathbf{v} + b\\mathbf{v}\\)</td>\n",
    "  </tr>\n",
    "  <tr>\n",
    "    <td>Associativity of Scalar Multiplication</td>\n",
    "    <td style=\"width: 50%;\">The way in which scalars are grouped in multiplication does not change the result.</td>\n",
    "    <td>\\(a(b\\mathbf{v}) = (ab)\\mathbf{v}\\)</td>\n",
    "  </tr>\n",
    "  <tr>\n",
    "    <td>Identity Element of Scalar Multiplication</td>\n",
    "    <td style=\"width: 50%;\">Multiplying a vector by one does not change the vector.</td>\n",
    "    <td>\\(1\\mathbf{v} = \\mathbf{v}\\)</td>\n",
    "  </tr>\n",
    "</table>\n",
    "\"\"\"\n",
    "\n"
   ]
  },
  {
   "cell_type": "code",
   "execution_count": 4,
   "id": "eef75eb5",
   "metadata": {
    "execution": {
     "iopub.execute_input": "2025-07-30T09:20:05.870442Z",
     "iopub.status.busy": "2025-07-30T09:20:05.870121Z",
     "iopub.status.idle": "2025-07-30T09:20:05.872238Z",
     "shell.execute_reply": "2025-07-30T09:20:05.871915Z"
    }
   },
   "outputs": [],
   "source": [
    "wrd_V_vector_space = \"We define \" + ntn.not_V + \" as a vector space.\"\n",
    "#----------------------------------------------------------"
   ]
  },
  {
   "cell_type": "code",
   "execution_count": 5,
   "id": "bd8b0431",
   "metadata": {
    "execution": {
     "iopub.execute_input": "2025-07-30T09:20:05.873602Z",
     "iopub.status.busy": "2025-07-30T09:20:05.873458Z",
     "iopub.status.idle": "2025-07-30T09:20:05.879066Z",
     "shell.execute_reply": "2025-07-30T09:20:05.878724Z"
    },
    "lines_to_next_cell": 2
   },
   "outputs": [
    {
     "data": {
      "text/html": [
       "<a href=\"https://christopherpaine.github.io/Mathematics\">link home</a>"
      ],
      "text/plain": [
       "<IPython.core.display.HTML object>"
      ]
     },
     "metadata": {},
     "output_type": "display_data"
    },
    {
     "data": {
      "text/html": [
       "<h2>Vector Spaces</h2><p>A vector space is is a set of vectors with two operations:</p>        <ul>            <li>addition</li>            <li>scalar multiplication</li>        </ul>        These operations satisfy the following axioms:\n",
       "\n",
       "<table border=\"1\">\n",
       "  <tr>\n",
       "    <th style=\"width: 30%;>Name of Vector Space Axiom</th>\n",
       "    <th style=\"width: 50%;\">Explanation</th>\n",
       "    <th>Mathematical Notation</th>\n",
       "  </tr>\n",
       "  <tr>\n",
       "    <td>Closure under Addition</td>\n",
       "    <td style=\"width: 50%;\">The sum of any two vectors is also a vector in the same space.</td>\n",
       "    <td>\\(\\mathbf{u} + \\mathbf{v} \\in V\\)</td>\n",
       "  </tr>\n",
       "  <tr>\n",
       "    <td>Associativity of Addition</td>\n",
       "    <td style=\"width: 50%;\">The way in which vectors are grouped in addition does not change the result.</td>\n",
       "    <td>\\((\\mathbf{u} + \\mathbf{v}) + \\mathbf{w} = \\mathbf{u} + (\\mathbf{v} + \\mathbf{w})\\)</td>\n",
       "  </tr>\n",
       "  <tr>\n",
       "    <td>Identity Element of Addition</td>\n",
       "    <td style=\"width: 50%;\">There exists a zero vector such that adding it to any vector does not change the vector.</td>\n",
       "    <td>\\(\\mathbf{v} + \\mathbf{0} = \\mathbf{v}\\)</td>\n",
       "  </tr>\n",
       "  <tr>\n",
       "    <td>Inverse Elements of Addition</td>\n",
       "    <td style=\"width: 50%;\">For every vector, there exists an inverse vector such that their sum is the zero vector.</td>\n",
       "    <td>\\(\\mathbf{v} + (-\\mathbf{v}) = \\mathbf{0}\\)</td>\n",
       "  </tr>\n",
       "  <tr>\n",
       "    <td>Closure under Scalar Multiplication</td>\n",
       "    <td style=\"width: 50%;\">The product of a scalar and a vector is also a vector in the same space.</td>\n",
       "    <td>\\(a\\mathbf{v} \\in V\\)</td>\n",
       "  </tr>\n",
       "  <tr>\n",
       "    <td>Distributive Property of Scalar Multiplication with respect to Vector Addition</td>\n",
       "    <td style=\"width: 50%;\">Scalar multiplication distributes over vector addition.</td>\n",
       "    <td>\\(a(\\mathbf{u} + \\mathbf{v}) = a\\mathbf{u} + a\\mathbf{v}\\)</td>\n",
       "  </tr>\n",
       "  <tr>\n",
       "    <td>Distributive Property of Scalar Multiplication with respect to Field Addition</td>\n",
       "    <td style=\"width: 50%;\">Scalar addition distributes over scalar multiplication.</td>\n",
       "    <td>\\((a + b)\\mathbf{v} = a\\mathbf{v} + b\\mathbf{v}\\)</td>\n",
       "  </tr>\n",
       "  <tr>\n",
       "    <td>Associativity of Scalar Multiplication</td>\n",
       "    <td style=\"width: 50%;\">The way in which scalars are grouped in multiplication does not change the result.</td>\n",
       "    <td>\\(a(b\\mathbf{v}) = (ab)\\mathbf{v}\\)</td>\n",
       "  </tr>\n",
       "  <tr>\n",
       "    <td>Identity Element of Scalar Multiplication</td>\n",
       "    <td style=\"width: 50%;\">Multiplying a vector by one does not change the vector.</td>\n",
       "    <td>\\(1\\mathbf{v} = \\mathbf{v}\\)</td>\n",
       "  </tr>\n",
       "</table>\n"
      ],
      "text/plain": [
       "<IPython.core.display.HTML object>"
      ]
     },
     "metadata": {},
     "output_type": "display_data"
    }
   ],
   "source": [
    "display(HTML('<a href=\"https://christopherpaine.github.io/Mathematics\">link home</a>'))\n",
    "display(HTML(wrd_vector_spaces_intro))\n",
    "\n",
    "\n",
    "\n"
   ]
  }
 ],
 "metadata": {
  "jupytext": {
   "formats": "ipynb,py:percent,md"
  },
  "kernelspec": {
   "display_name": "Python 3 (ipykernel)",
   "language": "python",
   "name": "python3"
  },
  "language_info": {
   "codemirror_mode": {
    "name": "ipython",
    "version": 3
   },
   "file_extension": ".py",
   "mimetype": "text/x-python",
   "name": "python",
   "nbconvert_exporter": "python",
   "pygments_lexer": "ipython3",
   "version": "3.13.4"
  }
 },
 "nbformat": 4,
 "nbformat_minor": 5
}
