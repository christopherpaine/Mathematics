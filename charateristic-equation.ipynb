{
 "cells": [
  {
   "cell_type": "code",
   "execution_count": 1,
   "id": "951f9eca",
   "metadata": {
    "execution": {
     "iopub.execute_input": "2025-07-29T18:28:03.699981Z",
     "iopub.status.busy": "2025-07-29T18:28:03.699805Z",
     "iopub.status.idle": "2025-07-29T18:28:04.294394Z",
     "shell.execute_reply": "2025-07-29T18:28:04.293895Z"
    }
   },
   "outputs": [],
   "source": [
    "# imports\n",
    "from IPython.display import display, Markdown, HTML, SVG\n",
    "import numpy as np\n",
    "import matplotlib.pyplot as plt\n",
    "import pandas as pd\n",
    "from io import StringIO\n",
    "\n"
   ]
  },
  {
   "cell_type": "code",
   "execution_count": 2,
   "id": "41cac445",
   "metadata": {
    "execution": {
     "iopub.execute_input": "2025-07-29T18:28:04.296846Z",
     "iopub.status.busy": "2025-07-29T18:28:04.296440Z",
     "iopub.status.idle": "2025-07-29T18:28:04.298952Z",
     "shell.execute_reply": "2025-07-29T18:28:04.298587Z"
    },
    "lines_to_next_cell": 2
   },
   "outputs": [],
   "source": [
    "not_char_eqn = r\"\\( \\text{det}(A - \\lambda I) = 0 \\)\" "
   ]
  },
  {
   "cell_type": "code",
   "execution_count": 3,
   "id": "cf42835f",
   "metadata": {
    "execution": {
     "iopub.execute_input": "2025-07-29T18:28:04.300544Z",
     "iopub.status.busy": "2025-07-29T18:28:04.300275Z",
     "iopub.status.idle": "2025-07-29T18:28:04.303399Z",
     "shell.execute_reply": "2025-07-29T18:28:04.302996Z"
    },
    "lines_to_next_cell": 2
   },
   "outputs": [
    {
     "name": "stderr",
     "output_type": "stream",
     "text": [
      "<>:3: SyntaxWarning: invalid escape sequence '\\l'\n",
      "<>:3: SyntaxWarning: invalid escape sequence '\\l'\n",
      "/tmp/nix-shell-150985-0/ipykernel_200593/2775007776.py:3: SyntaxWarning: invalid escape sequence '\\l'\n",
      "  <p>The characteristic equation is a fundamental concept in linear algebra and      differential equations. It is derived from a square matrix and is used to find  the eigenvalues of that matrix. For a given ( n \\times n ) matrix ( A ), the    characteristic equation is obtained by setting the determinant of ( A - \\lambda I ) to zero, where ( \\lambda ) represents the eigenvalues and ( I ) is the      identity matrix of the same dimension as ( A ). Mathematically, it is expressed as:                                                                             </p>\"\"\"\n"
     ]
    }
   ],
   "source": [
    "wrd_intro_chrct_eqn =\"\"\" <h1>Understanding the Characteristic Equation</h1>\n",
    "\n",
    "<p>The characteristic equation is a fundamental concept in linear algebra and      differential equations. It is derived from a square matrix and is used to find  the eigenvalues of that matrix. For a given ( n \\times n ) matrix ( A ), the    characteristic equation is obtained by setting the determinant of ( A - \\lambda I ) to zero, where ( \\lambda ) represents the eigenvalues and ( I ) is the      identity matrix of the same dimension as ( A ). Mathematically, it is expressed as:                                                                             </p>\"\"\"\n",
    "\n",
    "\n",
    "wrd_sovling_char = \"Solving this equation yields the eigenvalues, which are crucial for understanding the properties of the matrix, such as stability and oscillatory behavior in systems.\" "
   ]
  },
  {
   "cell_type": "code",
   "execution_count": 4,
   "id": "7c6e03fc",
   "metadata": {
    "execution": {
     "iopub.execute_input": "2025-07-29T18:28:04.304720Z",
     "iopub.status.busy": "2025-07-29T18:28:04.304562Z",
     "iopub.status.idle": "2025-07-29T18:28:04.307486Z",
     "shell.execute_reply": "2025-07-29T18:28:04.307134Z"
    },
    "lines_to_next_cell": 2
   },
   "outputs": [
    {
     "ename": "_IncompleteInputError",
     "evalue": "incomplete input (3628114469.py, line 6)",
     "output_type": "error",
     "traceback": [
      "  \u001b[36mCell\u001b[39m\u001b[36m \u001b[39m\u001b[32mIn[4]\u001b[39m\u001b[32m, line 6\u001b[39m\n\u001b[31m    \u001b[39m\n    ^\n\u001b[31m_IncompleteInputError\u001b[39m\u001b[31m:\u001b[39m incomplete input\n"
     ]
    }
   ],
   "source": [
    "display(HTML(wrd_intro_chrct_eqn+not_char_eqn+wrd_sovling_char)\n",
    "\n",
    "\n",
    "\n",
    "\n",
    "\n"
   ]
  }
 ],
 "metadata": {
  "jupytext": {
   "formats": "ipynb,py:percent,md"
  },
  "kernelspec": {
   "display_name": "Python 3 (ipykernel)",
   "language": "python",
   "name": "python3"
  },
  "language_info": {
   "codemirror_mode": {
    "name": "ipython",
    "version": 3
   },
   "file_extension": ".py",
   "mimetype": "text/x-python",
   "name": "python",
   "nbconvert_exporter": "python",
   "pygments_lexer": "ipython3",
   "version": "3.13.4"
  }
 },
 "nbformat": 4,
 "nbformat_minor": 5
}
