{
 "cells": [
  {
   "cell_type": "code",
   "execution_count": 1,
   "id": "a8e00be2",
   "metadata": {
    "execution": {
     "iopub.execute_input": "2025-07-29T15:08:38.989645Z",
     "iopub.status.busy": "2025-07-29T15:08:38.989367Z",
     "iopub.status.idle": "2025-07-29T15:08:39.520097Z",
     "shell.execute_reply": "2025-07-29T15:08:39.519650Z"
    },
    "lines_to_next_cell": 2
   },
   "outputs": [],
   "source": [
    "# imports\n",
    "from IPython.display import display, Markdown, HTML, SVG\n",
    "import numpy as np\n",
    "import matplotlib.pyplot as plt\n",
    "import pandas as pd\n",
    "from io import StringIO"
   ]
  },
  {
   "cell_type": "code",
   "execution_count": 2,
   "id": "2de59e62",
   "metadata": {
    "execution": {
     "iopub.execute_input": "2025-07-29T15:08:39.522114Z",
     "iopub.status.busy": "2025-07-29T15:08:39.521775Z",
     "iopub.status.idle": "2025-07-29T15:08:39.524563Z",
     "shell.execute_reply": "2025-07-29T15:08:39.524202Z"
    }
   },
   "outputs": [
    {
     "ename": "SyntaxError",
     "evalue": "unterminated string literal (detected at line 1) (1825996679.py, line 1)",
     "output_type": "error",
     "traceback": [
      "  \u001b[36mCell\u001b[39m\u001b[36m \u001b[39m\u001b[32mIn[2]\u001b[39m\u001b[32m, line 1\u001b[39m\n\u001b[31m    \u001b[39m\u001b[31mnot_example_matrix = r\"\\( \\begin{bmatrix} a & b \\ c & d \\ \\end{bmatrix}\\)\u001b[39m\n                         ^\n\u001b[31mSyntaxError\u001b[39m\u001b[31m:\u001b[39m unterminated string literal (detected at line 1)\n"
     ]
    }
   ],
   "source": [
    "not_example_matrix = r\"\\( \\begin{bmatrix} a & b \\ c & d \\ \\end{bmatrix}\\) \n",
    "\n",
    "\n"
   ]
  },
  {
   "cell_type": "code",
   "execution_count": 3,
   "id": "4708ecbf",
   "metadata": {
    "execution": {
     "iopub.execute_input": "2025-07-29T15:08:39.526484Z",
     "iopub.status.busy": "2025-07-29T15:08:39.526039Z",
     "iopub.status.idle": "2025-07-29T15:08:39.691525Z",
     "shell.execute_reply": "2025-07-29T15:08:39.691132Z"
    }
   },
   "outputs": [
    {
     "ename": "NameError",
     "evalue": "name 'not_example_matrix' is not defined",
     "output_type": "error",
     "traceback": [
      "\u001b[31m---------------------------------------------------------------------------\u001b[39m",
      "\u001b[31mNameError\u001b[39m                                 Traceback (most recent call last)",
      "\u001b[36mCell\u001b[39m\u001b[36m \u001b[39m\u001b[32mIn[3]\u001b[39m\u001b[32m, line 11\u001b[39m\n\u001b[32m      1\u001b[39m wrd_intro = \u001b[33m\"\"\"\u001b[39m\n\u001b[32m      2\u001b[39m \u001b[33m<h1>\u001b[39m\n\u001b[32m      3\u001b[39m \u001b[33m             Understanding the Determinant Function in Mathematics              \u001b[39m\n\u001b[32m      4\u001b[39m \u001b[33m</h1>\u001b[39m\n\u001b[32m      5\u001b[39m \n\u001b[32m      6\u001b[39m \u001b[33m<p>The determinant is a scalar value that can be computed from the elements of a   \u001b[39m\n\u001b[32m      7\u001b[39m \u001b[33msquare matrix. It provides important properties of the matrix, such as whether  \u001b[39m\n\u001b[32m      8\u001b[39m \u001b[33mthe matrix is invertible and the volume scaling factor of the linear            \u001b[39m\n\u001b[32m      9\u001b[39m \u001b[33mtransformation described by the matrix. For a 2x2 matrix:                       \u001b[39m\n\u001b[32m     10\u001b[39m \u001b[33m    </p>\u001b[39m\n\u001b[32m---> \u001b[39m\u001b[32m11\u001b[39m \u001b[33m\"\"\"\u001b[39m + \u001b[43mnot_example_matrix\u001b[49m + \u001b[33m\"\"\"\u001b[39m\n\u001b[32m     12\u001b[39m \u001b[33m<p>The determinant is calculated as (ad - bc). For larger matrices, the determinant\u001b[39m\n\u001b[32m     13\u001b[39m \u001b[33mis computed using more complex methods, such as Laplace\u001b[39m\u001b[33m'\u001b[39m\u001b[33ms expansion or row      \u001b[39m\n\u001b[32m     14\u001b[39m \u001b[33mreduction. A non-zero determinant indicates that the matrix is invertible, while\u001b[39m\n\u001b[32m     15\u001b[39m \u001b[33ma zero determinant means it is singular.                                        </p>\u001b[39m\n\u001b[32m     16\u001b[39m \u001b[33m\"\"\"\u001b[39m\n",
      "\u001b[31mNameError\u001b[39m: name 'not_example_matrix' is not defined"
     ]
    }
   ],
   "source": [
    "\n",
    "wrd_intro = \"\"\"\n",
    "<h1>\n",
    "             Understanding the Determinant Function in Mathematics              \n",
    "</h1>\n",
    "\n",
    "<p>The determinant is a scalar value that can be computed from the elements of a   \n",
    "square matrix. It provides important properties of the matrix, such as whether  \n",
    "the matrix is invertible and the volume scaling factor of the linear            \n",
    "transformation described by the matrix. For a 2x2 matrix:                       \n",
    "    </p>\n",
    "\"\"\" + not_example_matrix + \"\"\"\n",
    "<p>The determinant is calculated as (ad - bc). For larger matrices, the determinant\n",
    "is computed using more complex methods, such as Laplace's expansion or row      \n",
    "reduction. A non-zero determinant indicates that the matrix is invertible, while\n",
    "a zero determinant means it is singular.                                        </p>\n",
    "\"\"\""
   ]
  },
  {
   "cell_type": "code",
   "execution_count": 4,
   "id": "ca3eca1e",
   "metadata": {
    "execution": {
     "iopub.execute_input": "2025-07-29T15:08:39.693137Z",
     "iopub.status.busy": "2025-07-29T15:08:39.692975Z",
     "iopub.status.idle": "2025-07-29T15:08:39.716908Z",
     "shell.execute_reply": "2025-07-29T15:08:39.716519Z"
    },
    "lines_to_next_cell": 2
   },
   "outputs": [
    {
     "ename": "NameError",
     "evalue": "name 'wrd_intro' is not defined",
     "output_type": "error",
     "traceback": [
      "\u001b[31m---------------------------------------------------------------------------\u001b[39m",
      "\u001b[31mNameError\u001b[39m                                 Traceback (most recent call last)",
      "\u001b[36mCell\u001b[39m\u001b[36m \u001b[39m\u001b[32mIn[4]\u001b[39m\u001b[32m, line 1\u001b[39m\n\u001b[32m----> \u001b[39m\u001b[32m1\u001b[39m display(HTML(\u001b[43mwrd_intro\u001b[49m))\n",
      "\u001b[31mNameError\u001b[39m: name 'wrd_intro' is not defined"
     ]
    }
   ],
   "source": [
    "display(HTML(wrd_intro))"
   ]
  }
 ],
 "metadata": {
  "jupytext": {
   "formats": "ipynb,py:percent,md"
  },
  "kernelspec": {
   "display_name": "Python 3 (ipykernel)",
   "language": "python",
   "name": "python3"
  },
  "language_info": {
   "codemirror_mode": {
    "name": "ipython",
    "version": 3
   },
   "file_extension": ".py",
   "mimetype": "text/x-python",
   "name": "python",
   "nbconvert_exporter": "python",
   "pygments_lexer": "ipython3",
   "version": "3.13.4"
  }
 },
 "nbformat": 4,
 "nbformat_minor": 5
}
