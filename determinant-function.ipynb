{
 "cells": [
  {
   "cell_type": "code",
   "execution_count": 1,
   "id": "a8e00be2",
   "metadata": {
    "execution": {
     "iopub.execute_input": "2025-07-29T15:14:35.502450Z",
     "iopub.status.busy": "2025-07-29T15:14:35.502192Z",
     "iopub.status.idle": "2025-07-29T15:14:36.044387Z",
     "shell.execute_reply": "2025-07-29T15:14:36.043944Z"
    },
    "lines_to_next_cell": 2
   },
   "outputs": [],
   "source": [
    "# imports\n",
    "from IPython.display import display, Markdown, HTML, SVG\n",
    "import numpy as np\n",
    "import matplotlib.pyplot as plt\n",
    "import pandas as pd\n",
    "from io import StringIO"
   ]
  },
  {
   "cell_type": "code",
   "execution_count": 2,
   "id": "2de59e62",
   "metadata": {
    "execution": {
     "iopub.execute_input": "2025-07-29T15:14:36.046574Z",
     "iopub.status.busy": "2025-07-29T15:14:36.046147Z",
     "iopub.status.idle": "2025-07-29T15:14:36.048719Z",
     "shell.execute_reply": "2025-07-29T15:14:36.048244Z"
    }
   },
   "outputs": [],
   "source": [
    "not_example_matrix = r\"\\( \\begin{bmatrix} a & b \\ c & d \\ \\end{bmatrix}\\)\" \n",
    "\n",
    "\n"
   ]
  },
  {
   "cell_type": "code",
   "execution_count": 3,
   "id": "4708ecbf",
   "metadata": {
    "execution": {
     "iopub.execute_input": "2025-07-29T15:14:36.050300Z",
     "iopub.status.busy": "2025-07-29T15:14:36.049977Z",
     "iopub.status.idle": "2025-07-29T15:14:36.052673Z",
     "shell.execute_reply": "2025-07-29T15:14:36.052249Z"
    }
   },
   "outputs": [],
   "source": [
    "\n",
    "wrd_intro = \"\"\"\n",
    "<h1>\n",
    "             Understanding the Determinant Function in Mathematics              \n",
    "</h1>\n",
    "\n",
    "<p>The determinant is a scalar value that can be computed from the elements of a   \n",
    "square matrix. It provides important properties of the matrix, such as whether  \n",
    "the matrix is invertible and the volume scaling factor of the linear            \n",
    "transformation described by the matrix. For a 2x2 matrix:                       \n",
    "    </p>\n",
    "\"\"\" + not_example_matrix + \"\"\"\n",
    "<p>The determinant is calculated as (ad - bc). For larger matrices, the determinant\n",
    "is computed using more complex methods, such as Laplace's expansion or row      \n",
    "reduction. A non-zero determinant indicates that the matrix is invertible, while\n",
    "a zero determinant means it is singular.                                        </p>\n",
    "\"\"\""
   ]
  },
  {
   "cell_type": "code",
   "execution_count": 4,
   "id": "ca3eca1e",
   "metadata": {
    "execution": {
     "iopub.execute_input": "2025-07-29T15:14:36.054283Z",
     "iopub.status.busy": "2025-07-29T15:14:36.053922Z",
     "iopub.status.idle": "2025-07-29T15:14:36.059200Z",
     "shell.execute_reply": "2025-07-29T15:14:36.058785Z"
    },
    "lines_to_next_cell": 2
   },
   "outputs": [
    {
     "data": {
      "text/html": [
       "\n",
       "<h1>\n",
       "             Understanding the Determinant Function in Mathematics              \n",
       "</h1>\n",
       "\n",
       "<p>The determinant is a scalar value that can be computed from the elements of a   \n",
       "square matrix. It provides important properties of the matrix, such as whether  \n",
       "the matrix is invertible and the volume scaling factor of the linear            \n",
       "transformation described by the matrix. For a 2x2 matrix:                       \n",
       "    </p>\n",
       "\\( \\begin{bmatrix} a & b \\ c & d \\ \\end{bmatrix}\\)\n",
       "<p>The determinant is calculated as (ad - bc). For larger matrices, the determinant\n",
       "is computed using more complex methods, such as Laplace's expansion or row      \n",
       "reduction. A non-zero determinant indicates that the matrix is invertible, while\n",
       "a zero determinant means it is singular.                                        </p>\n"
      ],
      "text/plain": [
       "<IPython.core.display.HTML object>"
      ]
     },
     "metadata": {},
     "output_type": "display_data"
    }
   ],
   "source": [
    "display(HTML(wrd_intro))"
   ]
  }
 ],
 "metadata": {
  "jupytext": {
   "formats": "ipynb,py:percent,md"
  },
  "kernelspec": {
   "display_name": "Python 3 (ipykernel)",
   "language": "python",
   "name": "python3"
  },
  "language_info": {
   "codemirror_mode": {
    "name": "ipython",
    "version": 3
   },
   "file_extension": ".py",
   "mimetype": "text/x-python",
   "name": "python",
   "nbconvert_exporter": "python",
   "pygments_lexer": "ipython3",
   "version": "3.13.4"
  }
 },
 "nbformat": 4,
 "nbformat_minor": 5
}
