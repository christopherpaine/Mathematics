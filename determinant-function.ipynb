{
 "cells": [
  {
   "cell_type": "code",
   "execution_count": 1,
   "id": "a8e00be2",
   "metadata": {
    "execution": {
     "iopub.execute_input": "2025-07-30T09:26:05.396520Z",
     "iopub.status.busy": "2025-07-30T09:26:05.396126Z",
     "iopub.status.idle": "2025-07-30T09:26:05.855964Z",
     "shell.execute_reply": "2025-07-30T09:26:05.855495Z"
    }
   },
   "outputs": [],
   "source": [
    "# imports\n",
    "from IPython.display import display, Markdown, HTML, SVG\n",
    "import numpy as np\n",
    "import matplotlib.pyplot as plt\n",
    "import pandas as pd\n",
    "from io import StringIO\n",
    "import notation as ntn\n",
    "\n",
    "\n",
    "\n"
   ]
  },
  {
   "cell_type": "code",
   "execution_count": 2,
   "id": "2de59e62",
   "metadata": {
    "execution": {
     "iopub.execute_input": "2025-07-30T09:26:05.857871Z",
     "iopub.status.busy": "2025-07-30T09:26:05.857650Z",
     "iopub.status.idle": "2025-07-30T09:26:05.860516Z",
     "shell.execute_reply": "2025-07-30T09:26:05.860131Z"
    }
   },
   "outputs": [],
   "source": [
    "\n",
    "wrd_intro = \"\"\"\n",
    "<h1>\n",
    "             Understanding the Determinant Function in Mathematics              \n",
    "</h1>\n",
    "\n",
    "<p>The determinant is a scalar value that can be computed from the elements of a   \n",
    "square matrix. It provides important properties of the matrix, such as whether  \n",
    "the matrix is invertible and the volume scaling factor of the linear            \n",
    "transformation described by the matrix. For a 2x2 matrix:                       \n",
    "    </p>\n",
    "\"\"\" + ntn.not_example_matrix + \"\"\"\n",
    "<p>The determinant is calculated as (ad - bc). For larger matrices, the determinant\n",
    "is computed using more complex methods, such as Laplace's expansion or row      \n",
    "reduction. A non-zero determinant indicates that the matrix is invertible, while\n",
    "a zero determinant means it is singular.                                        </p>\n",
    "\"\"\"\n",
    "\n",
    "wrd_invertible_functions = \"\"\" hi  \"\"\"\n",
    "\n"
   ]
  },
  {
   "cell_type": "code",
   "execution_count": 3,
   "id": "ca3eca1e",
   "metadata": {
    "execution": {
     "iopub.execute_input": "2025-07-30T09:26:05.861990Z",
     "iopub.status.busy": "2025-07-30T09:26:05.861819Z",
     "iopub.status.idle": "2025-07-30T09:26:05.867559Z",
     "shell.execute_reply": "2025-07-30T09:26:05.867185Z"
    },
    "lines_to_next_cell": 2
   },
   "outputs": [
    {
     "data": {
      "text/html": [
       "<a href=\"https://christopherpaine.github.io/Mathematics\">link home</a>"
      ],
      "text/plain": [
       "<IPython.core.display.HTML object>"
      ]
     },
     "metadata": {},
     "output_type": "display_data"
    },
    {
     "data": {
      "text/html": [
       "\n",
       "<h1>\n",
       "             Understanding the Determinant Function in Mathematics              \n",
       "</h1>\n",
       "\n",
       "<p>The determinant is a scalar value that can be computed from the elements of a   \n",
       "square matrix. It provides important properties of the matrix, such as whether  \n",
       "the matrix is invertible and the volume scaling factor of the linear            \n",
       "transformation described by the matrix. For a 2x2 matrix:                       \n",
       "    </p>\n",
       "\\( \\begin{bmatrix} a & b \\\\ c & d \\\\ \\end{bmatrix}\\)\n",
       "<p>The determinant is calculated as (ad - bc). For larger matrices, the determinant\n",
       "is computed using more complex methods, such as Laplace's expansion or row      \n",
       "reduction. A non-zero determinant indicates that the matrix is invertible, while\n",
       "a zero determinant means it is singular.                                        </p>\n"
      ],
      "text/plain": [
       "<IPython.core.display.HTML object>"
      ]
     },
     "metadata": {},
     "output_type": "display_data"
    }
   ],
   "source": [
    "display(HTML('<a href=\"https://christopherpaine.github.io/Mathematics\">link home</a>'))\n",
    "display(HTML(wrd_intro))\n",
    "\n"
   ]
  }
 ],
 "metadata": {
  "jupytext": {
   "formats": "ipynb,py:percent,md"
  },
  "kernelspec": {
   "display_name": "Python 3 (ipykernel)",
   "language": "python",
   "name": "python3"
  },
  "language_info": {
   "codemirror_mode": {
    "name": "ipython",
    "version": 3
   },
   "file_extension": ".py",
   "mimetype": "text/x-python",
   "name": "python",
   "nbconvert_exporter": "python",
   "pygments_lexer": "ipython3",
   "version": "3.13.4"
  }
 },
 "nbformat": 4,
 "nbformat_minor": 5
}
