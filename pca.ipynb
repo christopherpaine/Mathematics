{
 "cells": [
  {
   "cell_type": "code",
   "execution_count": 1,
   "id": "e36eb6f5",
   "metadata": {
    "execution": {
     "iopub.execute_input": "2025-07-30T17:02:25.711866Z",
     "iopub.status.busy": "2025-07-30T17:02:25.711682Z",
     "iopub.status.idle": "2025-07-30T17:02:26.451484Z",
     "shell.execute_reply": "2025-07-30T17:02:26.450921Z"
    }
   },
   "outputs": [
    {
     "ename": "NameError",
     "evalue": "name 'not_forward_rate' is not defined",
     "output_type": "error",
     "traceback": [
      "\u001b[0;31m---------------------------------------------------------------------------\u001b[0m",
      "\u001b[0;31mNameError\u001b[0m                                 Traceback (most recent call last)",
      "Cell \u001b[0;32mIn[1], line 7\u001b[0m\n\u001b[1;32m      5\u001b[0m \u001b[38;5;28;01mimport\u001b[39;00m \u001b[38;5;21;01mpandas\u001b[39;00m \u001b[38;5;28;01mas\u001b[39;00m \u001b[38;5;21;01mpd\u001b[39;00m\n\u001b[1;32m      6\u001b[0m \u001b[38;5;28;01mfrom\u001b[39;00m \u001b[38;5;21;01mio\u001b[39;00m \u001b[38;5;28;01mimport\u001b[39;00m StringIO\n\u001b[0;32m----> 7\u001b[0m \u001b[38;5;28;01mimport\u001b[39;00m \u001b[38;5;21;01mnotation\u001b[39;00m \u001b[38;5;28;01mas\u001b[39;00m \u001b[38;5;21;01mntn\u001b[39;00m\n",
      "File \u001b[0;32m~/Mathematics/notation.py:52\u001b[0m\n\u001b[1;32m     46\u001b[0m eqn_associativity_of_additions \u001b[38;5;241m=\u001b[39m \u001b[38;5;124mr\u001b[39m\u001b[38;5;124m\"\u001b[39m\u001b[38;5;124m\\\u001b[39m\u001b[38;5;124m((\u001b[39m\u001b[38;5;124m\\\u001b[39m\u001b[38;5;124mmathbf\u001b[39m\u001b[38;5;132;01m{u}\u001b[39;00m\u001b[38;5;124m + \u001b[39m\u001b[38;5;124m\\\u001b[39m\u001b[38;5;124mmathbf\u001b[39m\u001b[38;5;132;01m{v}\u001b[39;00m\u001b[38;5;124m) + \u001b[39m\u001b[38;5;124m\\\u001b[39m\u001b[38;5;124mmathbf\u001b[39m\u001b[38;5;132;01m{w}\u001b[39;00m\u001b[38;5;124m = \u001b[39m\u001b[38;5;124m\\\u001b[39m\u001b[38;5;124mmathbf\u001b[39m\u001b[38;5;132;01m{u}\u001b[39;00m\u001b[38;5;124m + (\u001b[39m\u001b[38;5;124m\\\u001b[39m\u001b[38;5;124mmathbf\u001b[39m\u001b[38;5;132;01m{v}\u001b[39;00m\u001b[38;5;124m + \u001b[39m\u001b[38;5;124m\\\u001b[39m\u001b[38;5;124mmathbf\u001b[39m\u001b[38;5;132;01m{w}\u001b[39;00m\u001b[38;5;124m)\u001b[39m\u001b[38;5;124m\\\u001b[39m\u001b[38;5;124m)\u001b[39m\u001b[38;5;124m\"\u001b[39m\n\u001b[1;32m     50\u001b[0m \u001b[38;5;66;03m# %%\u001b[39;00m\n\u001b[1;32m     51\u001b[0m \u001b[38;5;66;03m# MATHEMATICAL FINANCE\u001b[39;00m\n\u001b[0;32m---> 52\u001b[0m \u001b[43mnot_forward_rate\u001b[49m\n",
      "\u001b[0;31mNameError\u001b[0m: name 'not_forward_rate' is not defined"
     ]
    }
   ],
   "source": [
    "# imports\n",
    "from IPython.display import display, Markdown, HTML, SVG\n",
    "import numpy as np\n",
    "import matplotlib.pyplot as plt\n",
    "import pandas as pd\n",
    "from io import StringIO\n",
    "import notation as ntn\n",
    "\n"
   ]
  },
  {
   "cell_type": "code",
   "execution_count": 2,
   "id": "2ccf4044",
   "metadata": {
    "execution": {
     "iopub.execute_input": "2025-07-30T17:02:26.453202Z",
     "iopub.status.busy": "2025-07-30T17:02:26.453034Z",
     "iopub.status.idle": "2025-07-30T17:02:26.464371Z",
     "shell.execute_reply": "2025-07-30T17:02:26.464020Z"
    }
   },
   "outputs": [
    {
     "ename": "NameError",
     "evalue": "name 'ntn' is not defined",
     "output_type": "error",
     "traceback": [
      "\u001b[0;31m---------------------------------------------------------------------------\u001b[0m",
      "\u001b[0;31mNameError\u001b[0m                                 Traceback (most recent call last)",
      "Cell \u001b[0;32mIn[2], line 1\u001b[0m\n\u001b[0;32m----> 1\u001b[0m display(HTML(\u001b[43mntn\u001b[49m\u001b[38;5;241m.\u001b[39mfoward_rate))\n",
      "\u001b[0;31mNameError\u001b[0m: name 'ntn' is not defined"
     ]
    }
   ],
   "source": [
    "display(HTML(ntn.foward_rate))"
   ]
  }
 ],
 "metadata": {
  "jupytext": {
   "formats": "ipynb,py:percent,md"
  },
  "kernelspec": {
   "display_name": "Python 3 (ipykernel)",
   "language": "python",
   "name": "python3"
  },
  "language_info": {
   "codemirror_mode": {
    "name": "ipython",
    "version": 3
   },
   "file_extension": ".py",
   "mimetype": "text/x-python",
   "name": "python",
   "nbconvert_exporter": "python",
   "pygments_lexer": "ipython3",
   "version": "3.12.8"
  }
 },
 "nbformat": 4,
 "nbformat_minor": 5
}
