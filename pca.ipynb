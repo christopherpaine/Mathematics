{
 "cells": [
  {
   "cell_type": "code",
   "execution_count": 1,
   "id": "e36eb6f5",
   "metadata": {
    "execution": {
     "iopub.execute_input": "2025-08-01T18:44:40.229203Z",
     "iopub.status.busy": "2025-08-01T18:44:40.228956Z",
     "iopub.status.idle": "2025-08-01T18:44:41.134992Z",
     "shell.execute_reply": "2025-08-01T18:44:41.134098Z"
    }
   },
   "outputs": [],
   "source": [
    "# imports\n",
    "from IPython.display import display, Markdown, HTML, SVG\n",
    "import numpy as np\n",
    "import matplotlib.pyplot as plt\n",
    "import pandas as pd\n",
    "from io import StringIO\n",
    "import notation as ntn\n",
    "import functions as fnc \n",
    "\n",
    "\n"
   ]
  },
  {
   "cell_type": "code",
   "execution_count": 2,
   "id": "d3caec70",
   "metadata": {
    "execution": {
     "iopub.execute_input": "2025-08-01T18:44:41.138033Z",
     "iopub.status.busy": "2025-08-01T18:44:41.137697Z",
     "iopub.status.idle": "2025-08-01T18:44:41.149281Z",
     "shell.execute_reply": "2025-08-01T18:44:41.148395Z"
    },
    "lines_to_next_cell": 0
   },
   "outputs": [
    {
     "data": {
      "text/html": [
       "<h1>Giro Conference 2025</h1>\n",
       "<h2>second heading</h2>\n",
       "<p>some stuff in here</p>"
      ],
      "text/plain": [
       "<IPython.core.display.HTML object>"
      ]
     },
     "metadata": {},
     "output_type": "display_data"
    }
   ],
   "source": [
    "display(HTML(fnc.f_md_to_html(\"giro2025-notes.md\")))\n",
    "\n",
    "\n",
    "\n",
    "\n",
    "\n"
   ]
  },
  {
   "cell_type": "markdown",
   "id": "1f2e09b1",
   "metadata": {},
   "source": []
  }
 ],
 "metadata": {
  "jupytext": {
   "formats": "ipynb,py:percent,md"
  },
  "kernelspec": {
   "display_name": "Python 3 (ipykernel)",
   "language": "python",
   "name": "python3"
  },
  "language_info": {
   "codemirror_mode": {
    "name": "ipython",
    "version": 3
   },
   "file_extension": ".py",
   "mimetype": "text/x-python",
   "name": "python",
   "nbconvert_exporter": "python",
   "pygments_lexer": "ipython3",
   "version": "3.12.8"
  }
 },
 "nbformat": 4,
 "nbformat_minor": 5
}
