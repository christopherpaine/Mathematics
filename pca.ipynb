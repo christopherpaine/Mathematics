{
 "cells": [
  {
   "cell_type": "code",
   "execution_count": 1,
   "id": "e36eb6f5",
   "metadata": {
    "execution": {
     "iopub.execute_input": "2025-08-01T19:19:29.091574Z",
     "iopub.status.busy": "2025-08-01T19:19:29.091353Z",
     "iopub.status.idle": "2025-08-01T19:19:29.935119Z",
     "shell.execute_reply": "2025-08-01T19:19:29.934175Z"
    }
   },
   "outputs": [],
   "source": [
    "# imports\n",
    "from IPython.display import display, Markdown, HTML, SVG\n",
    "import numpy as np\n",
    "import matplotlib.pyplot as plt\n",
    "import pandas as pd\n",
    "from io import StringIO\n",
    "import notation as ntn\n",
    "import functions as fnc \n",
    "import markdown\n",
    "\n",
    "\n",
    "\n",
    "\n",
    "\n",
    "\n"
   ]
  },
  {
   "cell_type": "code",
   "execution_count": 2,
   "id": "d3caec70",
   "metadata": {
    "execution": {
     "iopub.execute_input": "2025-08-01T19:19:29.938353Z",
     "iopub.status.busy": "2025-08-01T19:19:29.937942Z",
     "iopub.status.idle": "2025-08-01T19:19:29.951395Z",
     "shell.execute_reply": "2025-08-01T19:19:29.950790Z"
    }
   },
   "outputs": [
    {
     "data": {
      "text/html": [
       "<h1>Giro Conference 2025</h1>\n",
       "<h2>Workshop A1 – Climate change: The bigger picture</h2>\n",
       "<p>Speakers: Alex Marcuson, Josie Durley &amp; Konrad Farrugia (Climate Change Reserving Working Party)</p>\n",
       "<h2>Workshop A2 – The state of the market 2025</h2>\n",
       "<p>Speakers: Edward Plowman, Andrew Goldby &amp; Mohammad Khan (IFoA Pricing Research Group)</p>\n",
       "<h2>Workshop A3 – The state of the market 2025 (repeat session)</h2>\n",
       "<p>Same content as A2 – Speakers: Edward Plowman, Andrew Goldby &amp; Mohammad Khan</p>\n",
       "<h2>Workshop A4 – Setting the personal injury discount (Ogden) rate</h2>\n",
       "<p>Speakers: Paul Butcher &amp; Fiona Dunsire (GAD)</p>\n",
       "<h2>Workshop A5 – Update from the Third Party Working Party</h2>\n",
       "<p>Speakers: Katie Carmona &amp; Rob Treen (Third Party Working Party)</p>\n",
       "<h2>Workshop A6 – Capital modelling and validation market review: Industry trends and best practices</h2>\n",
       "<p>Speakers: Cat Drummond &amp; Tom Durkin (LCP)</p>\n",
       "<h2>Workshop A7 – Risk drivers for general insurance capital modelling: Market practice, parameterisation, methods and validation</h2>\n",
       "<p>Speaker: James Toller (Risk Drivers Working Party)</p>\n",
       "<h2>Workshop B1 – Rethinking reserving: Deterministic methods for a changing liability landscape</h2>\n",
       "<p>Speakers: Muhammad Ali &amp; Harsh Jaitak (Hymans Robertson)</p>\n",
       "<h2>Workshop B2 – Smarter governance for smarter models: Reimagining pricing governance in a machine learning world</h2>\n",
       "<p>Speaker: Catrin Townsend (Price Writers)</p>\n",
       "<h2>Workshop B3 – PRA focus</h2>\n",
       "<p>Speaker: Daniel Curtis (Prudential Regulation Authority)</p>\n",
       "<h2>Workshop B4 – The final calculation: Navigating your path to the NED role</h2>\n",
       "<p>Speakers: Rupa Pithiya, Cathy Carroll &amp; Zoe Bolton (Bolton Associates)</p>\n",
       "<h2>Workshop B5 – Electric vehicles – do they crash more or less than petrol cars?</h2>\n",
       "<p>Speakers: Amit Parmar &amp; Conor Woods (Guy Carpenter)</p>\n",
       "<h2>Workshop B6 – What’s climate sensitivity, why should I care and what can we do if it’s more than we thought?</h2>\n",
       "<p>Speakers: James Orr &amp; Oliver Bettis (IFoA Climate Sensitivity Working Party)</p>\n",
       "<h2>Workshop B7 – Are cyber development patterns changing again? Implications for actuarial reserving</h2>\n",
       "<p>Speakers: Cyber Reserving Working Party (specific names not listed)</p>"
      ],
      "text/plain": [
       "<IPython.core.display.HTML object>"
      ]
     },
     "metadata": {},
     "output_type": "display_data"
    }
   ],
   "source": [
    "display(HTML(fnc.f_md_to_html(\"giro2025-notes.md\")))"
   ]
  }
 ],
 "metadata": {
  "jupytext": {
   "formats": "ipynb,py:percent,md"
  },
  "kernelspec": {
   "display_name": "Python 3 (ipykernel)",
   "language": "python",
   "name": "python3"
  },
  "language_info": {
   "codemirror_mode": {
    "name": "ipython",
    "version": 3
   },
   "file_extension": ".py",
   "mimetype": "text/x-python",
   "name": "python",
   "nbconvert_exporter": "python",
   "pygments_lexer": "ipython3",
   "version": "3.12.8"
  }
 },
 "nbformat": 4,
 "nbformat_minor": 5
}
