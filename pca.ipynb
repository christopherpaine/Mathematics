{
 "cells": [
  {
   "cell_type": "code",
   "execution_count": 1,
   "id": "e36eb6f5",
   "metadata": {
    "execution": {
     "iopub.execute_input": "2025-08-01T21:10:05.887629Z",
     "iopub.status.busy": "2025-08-01T21:10:05.886964Z",
     "iopub.status.idle": "2025-08-01T21:10:06.737850Z",
     "shell.execute_reply": "2025-08-01T21:10:06.736846Z"
    }
   },
   "outputs": [],
   "source": [
    "# imports\n",
    "from IPython.display import display, Markdown, HTML, SVG\n",
    "import numpy as np\n",
    "import matplotlib.pyplot as plt\n",
    "import pandas as pd\n",
    "from io import StringIO\n",
    "import notation as ntn\n",
    "import functions as fnc \n",
    "import markdown\n",
    "\n",
    "\n",
    "\n",
    "\n",
    "\n",
    "\n",
    "\n"
   ]
  },
  {
   "cell_type": "code",
   "execution_count": 2,
   "id": "d3caec70",
   "metadata": {
    "execution": {
     "iopub.execute_input": "2025-08-01T21:10:06.741022Z",
     "iopub.status.busy": "2025-08-01T21:10:06.740689Z",
     "iopub.status.idle": "2025-08-01T21:10:06.752359Z",
     "shell.execute_reply": "2025-08-01T21:10:06.751914Z"
    }
   },
   "outputs": [
    {
     "data": {
      "text/html": [
       "<h1>Giro Conference 2025</h1>\n",
       "<h2>Climate change: The bigger picture</h2>\n",
       "<h2>The state of the market 2025</h2>\n",
       "<p>Pricing Research Group\n",
       "projected market statistics on:</p>\n",
       "<ul>\n",
       "<li>uk personal lines</li>\n",
       "<li>uk commerical lines</li>\n",
       "<li>lloyds </li>\n",
       "<li>reinsurance</li>\n",
       "</ul>\n",
       "<p>key issues in pricing:</p>\n",
       "<ul>\n",
       "<li>algorithmic underwriting</li>\n",
       "<li>rise of GBMs</li>\n",
       "<li>pricing model governance</li>\n",
       "</ul>\n",
       "<h2>Setting the personal injury discount (Ogden) rate</h2>\n",
       "<h2>Update from the Third Party Working Party</h2>\n",
       "<h2>Capital modelling and validation market review: Industry trends and best practices</h2>\n",
       "<ul>\n",
       "<li>validation</li>\n",
       "<li>geopolitical risk</li>\n",
       "<li>societal trends</li>\n",
       "</ul>\n",
       "<h2>Risk drivers for general insurance capital modelling: Market practice, parameterisation, methods and validation</h2>\n",
       "<h2>Rethinking reserving: Deterministic methods for a changing liability landscape</h2>\n",
       "<h2>Smarter governance for smarter models: Reimagining pricing governance in a machine learning world</h2>\n",
       "<h2>PRA focus</h2>\n",
       "<h2>The final calculation: Navigating your path to the NED role</h2>\n",
       "<h2>Electric vehicles – do they crash more or less than petrol cars?</h2>\n",
       "<h2>What’s climate sensitivity, why should I care and what can we do if it’s more than we thought?</h2>\n",
       "<h2>Are cyber development patterns changing again? Implications for actuarial reserving</h2>"
      ],
      "text/plain": [
       "<IPython.core.display.HTML object>"
      ]
     },
     "metadata": {},
     "output_type": "display_data"
    }
   ],
   "source": [
    "display(HTML(fnc.f_md_to_html(\"giro2025-notes.md\")))"
   ]
  }
 ],
 "metadata": {
  "jupytext": {
   "formats": "ipynb,py:percent,md"
  },
  "kernelspec": {
   "display_name": "Python 3 (ipykernel)",
   "language": "python",
   "name": "python3"
  },
  "language_info": {
   "codemirror_mode": {
    "name": "ipython",
    "version": 3
   },
   "file_extension": ".py",
   "mimetype": "text/x-python",
   "name": "python",
   "nbconvert_exporter": "python",
   "pygments_lexer": "ipython3",
   "version": "3.12.8"
  }
 },
 "nbformat": 4,
 "nbformat_minor": 5
}
