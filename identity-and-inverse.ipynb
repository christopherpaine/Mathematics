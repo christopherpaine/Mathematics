{
 "cells": [
  {
   "cell_type": "code",
   "execution_count": 1,
   "id": "f72b80d9",
   "metadata": {
    "execution": {
     "iopub.execute_input": "2025-07-29T20:19:55.901618Z",
     "iopub.status.busy": "2025-07-29T20:19:55.901165Z",
     "iopub.status.idle": "2025-07-29T20:19:56.436029Z",
     "shell.execute_reply": "2025-07-29T20:19:56.435425Z"
    },
    "lines_to_next_cell": 2
   },
   "outputs": [],
   "source": [
    "# imports\n",
    "from IPython.display import display, Markdown, HTML, SVG\n",
    "import numpy as np\n",
    "import matplotlib.pyplot as plt\n",
    "import pandas as pd\n",
    "from io import StringIO"
   ]
  },
  {
   "cell_type": "code",
   "execution_count": 2,
   "id": "00b7041a",
   "metadata": {
    "execution": {
     "iopub.execute_input": "2025-07-29T20:19:56.438376Z",
     "iopub.status.busy": "2025-07-29T20:19:56.437967Z",
     "iopub.status.idle": "2025-07-29T20:19:56.441042Z",
     "shell.execute_reply": "2025-07-29T20:19:56.440685Z"
    }
   },
   "outputs": [],
   "source": [
    "not_identity_matrix = r\"\"\"\\(\n",
    "\\begin{bmatrix}\n",
    "1 & 0 & 0 & 0 \\\\\n",
    "0 & 1 & 0 & 0 \\\\\n",
    "0 & 0 & 1 & 0 \\\\\n",
    "0 & 0 & 0 & 1 \\\\\n",
    "\\end{bmatrix}\n",
    "\\)\"\"\"\n",
    "\n"
   ]
  },
  {
   "cell_type": "code",
   "execution_count": 3,
   "id": "53390519",
   "metadata": {
    "execution": {
     "iopub.execute_input": "2025-07-29T20:19:56.442868Z",
     "iopub.status.busy": "2025-07-29T20:19:56.442709Z",
     "iopub.status.idle": "2025-07-29T20:19:56.444944Z",
     "shell.execute_reply": "2025-07-29T20:19:56.444602Z"
    }
   },
   "outputs": [],
   "source": [
    "wrd_identity_matrix = \"An identity matrix is a square matrix with ones on the main diagonal and zeros elsewhere, serving as the multiplicative identity in matrix algebra.\"       \n",
    "\n",
    "\n"
   ]
  },
  {
   "cell_type": "code",
   "execution_count": 4,
   "id": "4e2f1fe8",
   "metadata": {
    "execution": {
     "iopub.execute_input": "2025-07-29T20:19:56.446434Z",
     "iopub.status.busy": "2025-07-29T20:19:56.446111Z",
     "iopub.status.idle": "2025-07-29T20:19:56.450827Z",
     "shell.execute_reply": "2025-07-29T20:19:56.450499Z"
    }
   },
   "outputs": [
    {
     "data": {
      "text/html": [
       "\\(\n",
       "\\begin{bmatrix}\n",
       "1 & 0 & 0 & 0 \\\\\n",
       "0 & 1 & 0 & 0 \\\\\n",
       "0 & 0 & 1 & 0 \\\\\n",
       "0 & 0 & 0 & 1 \\\\\n",
       "\\end{bmatrix}\n",
       "\\)"
      ],
      "text/plain": [
       "<IPython.core.display.HTML object>"
      ]
     },
     "metadata": {},
     "output_type": "display_data"
    }
   ],
   "source": [
    "display(HTML(not_identity_matrix))"
   ]
  }
 ],
 "metadata": {
  "jupytext": {
   "formats": "ipynb,py:percent,md"
  },
  "kernelspec": {
   "display_name": "Python 3 (ipykernel)",
   "language": "python",
   "name": "python3"
  },
  "language_info": {
   "codemirror_mode": {
    "name": "ipython",
    "version": 3
   },
   "file_extension": ".py",
   "mimetype": "text/x-python",
   "name": "python",
   "nbconvert_exporter": "python",
   "pygments_lexer": "ipython3",
   "version": "3.13.4"
  }
 },
 "nbformat": 4,
 "nbformat_minor": 5
}
