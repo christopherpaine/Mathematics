{
 "cells": [
  {
   "cell_type": "code",
   "execution_count": 1,
   "id": "f72b80d9",
   "metadata": {
    "execution": {
     "iopub.execute_input": "2025-07-29T20:34:29.402066Z",
     "iopub.status.busy": "2025-07-29T20:34:29.401762Z",
     "iopub.status.idle": "2025-07-29T20:34:29.905648Z",
     "shell.execute_reply": "2025-07-29T20:34:29.905072Z"
    },
    "lines_to_next_cell": 2
   },
   "outputs": [],
   "source": [
    "# imports\n",
    "from IPython.display import display, Markdown, HTML, SVG\n",
    "import numpy as np\n",
    "import matplotlib.pyplot as plt\n",
    "import pandas as pd\n",
    "from io import StringIO"
   ]
  },
  {
   "cell_type": "code",
   "execution_count": 2,
   "id": "00b7041a",
   "metadata": {
    "execution": {
     "iopub.execute_input": "2025-07-29T20:34:29.907669Z",
     "iopub.status.busy": "2025-07-29T20:34:29.907437Z",
     "iopub.status.idle": "2025-07-29T20:34:29.909893Z",
     "shell.execute_reply": "2025-07-29T20:34:29.909536Z"
    }
   },
   "outputs": [],
   "source": [
    "not_identity_matrix = r\"\"\"\\(\n",
    "\\begin{bmatrix}\n",
    "1 & 0 & 0 & 0 \\\\\n",
    "0 & 1 & 0 & 0 \\\\\n",
    "0 & 0 & 1 & 0 \\\\\n",
    "0 & 0 & 0 & 1 \\\\\n",
    "\\end{bmatrix}\n",
    "\\)\"\"\"\n",
    "\n",
    "not_inverse_matrix = r\"\\( AB = BA = I \\)\""
   ]
  },
  {
   "cell_type": "code",
   "execution_count": 3,
   "id": "53390519",
   "metadata": {
    "execution": {
     "iopub.execute_input": "2025-07-29T20:34:29.911501Z",
     "iopub.status.busy": "2025-07-29T20:34:29.911189Z",
     "iopub.status.idle": "2025-07-29T20:34:29.913486Z",
     "shell.execute_reply": "2025-07-29T20:34:29.913131Z"
    }
   },
   "outputs": [],
   "source": [
    "wrd_identity_matrix = \"<p>An identity matrix is a square matrix with ones on the main diagonal and zeros elsewhere, serving as the multiplicative identity in matrix algebra.</p>\"       \n",
    "\n",
    "wrd_inverse_matrix = \"<p>An inverse matrix is a matrix that, when multiplied by the original matrix, results in the identity matrix, effectively 'undoing' the effect of the original matrix.</p>\" \n",
    "\n",
    "\n",
    "wrd_det_zero =\"<p>A matrix is invertible if and only if its determinant is non-zero.</p>\""
   ]
  },
  {
   "cell_type": "code",
   "execution_count": 4,
   "id": "4e2f1fe8",
   "metadata": {
    "execution": {
     "iopub.execute_input": "2025-07-29T20:34:29.915015Z",
     "iopub.status.busy": "2025-07-29T20:34:29.914783Z",
     "iopub.status.idle": "2025-07-29T20:34:29.924155Z",
     "shell.execute_reply": "2025-07-29T20:34:29.923806Z"
    }
   },
   "outputs": [
    {
     "data": {
      "text/html": [
       "<h2>Identity Matrix</h2>"
      ],
      "text/plain": [
       "<IPython.core.display.HTML object>"
      ]
     },
     "metadata": {},
     "output_type": "display_data"
    },
    {
     "data": {
      "text/html": [
       "<p>An identity matrix is a square matrix with ones on the main diagonal and zeros elsewhere, serving as the multiplicative identity in matrix algebra.</p>"
      ],
      "text/plain": [
       "<IPython.core.display.HTML object>"
      ]
     },
     "metadata": {},
     "output_type": "display_data"
    },
    {
     "data": {
      "text/html": [
       "\\(\n",
       "\\begin{bmatrix}\n",
       "1 & 0 & 0 & 0 \\\\\n",
       "0 & 1 & 0 & 0 \\\\\n",
       "0 & 0 & 1 & 0 \\\\\n",
       "0 & 0 & 0 & 1 \\\\\n",
       "\\end{bmatrix}\n",
       "\\)"
      ],
      "text/plain": [
       "<IPython.core.display.HTML object>"
      ]
     },
     "metadata": {},
     "output_type": "display_data"
    },
    {
     "data": {
      "text/html": [
       "<h2>Inverse Matrix</h2>"
      ],
      "text/plain": [
       "<IPython.core.display.HTML object>"
      ]
     },
     "metadata": {},
     "output_type": "display_data"
    },
    {
     "data": {
      "text/html": [
       "<p>An inverse matrix is a matrix that, when multiplied by the original matrix, results in the identity matrix, effectively 'undoing' the effect of the original matrix.</p>"
      ],
      "text/plain": [
       "<IPython.core.display.HTML object>"
      ]
     },
     "metadata": {},
     "output_type": "display_data"
    },
    {
     "data": {
      "text/html": [
       "\\( AB = BA = I \\)"
      ],
      "text/plain": [
       "<IPython.core.display.HTML object>"
      ]
     },
     "metadata": {},
     "output_type": "display_data"
    },
    {
     "data": {
      "text/html": [
       "<p>A matrix is invertible if and only if its determinant is non-zero.</p>"
      ],
      "text/plain": [
       "<IPython.core.display.HTML object>"
      ]
     },
     "metadata": {},
     "output_type": "display_data"
    }
   ],
   "source": [
    "display(HTML(\"<h2>Identity Matrix</h2>\"))\n",
    "display(HTML(wrd_identity_matrix))\n",
    "display(HTML(not_identity_matrix))\n",
    "display(HTML(\"<h2>Inverse Matrix</h2>\"))\n",
    "display(HTML(wrd_inverse_matrix))\n",
    "display(HTML(not_inverse_matrix))\n",
    "display(HTML(wrd_det_zero))"
   ]
  }
 ],
 "metadata": {
  "jupytext": {
   "formats": "ipynb,py:percent,md"
  },
  "kernelspec": {
   "display_name": "Python 3 (ipykernel)",
   "language": "python",
   "name": "python3"
  },
  "language_info": {
   "codemirror_mode": {
    "name": "ipython",
    "version": 3
   },
   "file_extension": ".py",
   "mimetype": "text/x-python",
   "name": "python",
   "nbconvert_exporter": "python",
   "pygments_lexer": "ipython3",
   "version": "3.13.4"
  }
 },
 "nbformat": 4,
 "nbformat_minor": 5
}
