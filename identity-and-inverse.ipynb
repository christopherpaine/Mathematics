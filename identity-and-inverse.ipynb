{
 "cells": [
  {
   "cell_type": "code",
   "execution_count": 1,
   "id": "f72b80d9",
   "metadata": {
    "execution": {
     "iopub.execute_input": "2025-07-29T20:22:27.233089Z",
     "iopub.status.busy": "2025-07-29T20:22:27.232735Z",
     "iopub.status.idle": "2025-07-29T20:22:27.701218Z",
     "shell.execute_reply": "2025-07-29T20:22:27.700759Z"
    },
    "lines_to_next_cell": 2
   },
   "outputs": [],
   "source": [
    "# imports\n",
    "from IPython.display import display, Markdown, HTML, SVG\n",
    "import numpy as np\n",
    "import matplotlib.pyplot as plt\n",
    "import pandas as pd\n",
    "from io import StringIO"
   ]
  },
  {
   "cell_type": "code",
   "execution_count": 2,
   "id": "00b7041a",
   "metadata": {
    "execution": {
     "iopub.execute_input": "2025-07-29T20:22:27.703119Z",
     "iopub.status.busy": "2025-07-29T20:22:27.702892Z",
     "iopub.status.idle": "2025-07-29T20:22:27.705515Z",
     "shell.execute_reply": "2025-07-29T20:22:27.705078Z"
    }
   },
   "outputs": [],
   "source": [
    "not_identity_matrix = r\"\"\"\\(\n",
    "\\begin{bmatrix}\n",
    "1 & 0 & 0 & 0 \\\\\n",
    "0 & 1 & 0 & 0 \\\\\n",
    "0 & 0 & 1 & 0 \\\\\n",
    "0 & 0 & 0 & 1 \\\\\n",
    "\\end{bmatrix}\n",
    "\\)\"\"\"\n",
    "\n"
   ]
  },
  {
   "cell_type": "code",
   "execution_count": 3,
   "id": "53390519",
   "metadata": {
    "execution": {
     "iopub.execute_input": "2025-07-29T20:22:27.707057Z",
     "iopub.status.busy": "2025-07-29T20:22:27.706909Z",
     "iopub.status.idle": "2025-07-29T20:22:27.709076Z",
     "shell.execute_reply": "2025-07-29T20:22:27.708754Z"
    }
   },
   "outputs": [],
   "source": [
    "wrd_identity_matrix = \"<p>An identity matrix is a square matrix with ones on the main diagonal and zeros elsewhere, serving as the multiplicative identity in matrix algebra.</p>\"       \n",
    "\n",
    "\n"
   ]
  },
  {
   "cell_type": "code",
   "execution_count": 4,
   "id": "4e2f1fe8",
   "metadata": {
    "execution": {
     "iopub.execute_input": "2025-07-29T20:22:27.710721Z",
     "iopub.status.busy": "2025-07-29T20:22:27.710422Z",
     "iopub.status.idle": "2025-07-29T20:22:27.718533Z",
     "shell.execute_reply": "2025-07-29T20:22:27.718153Z"
    }
   },
   "outputs": [
    {
     "data": {
      "text/html": [
       "<h2>Identity Matrix</h2>"
      ],
      "text/plain": [
       "<IPython.core.display.HTML object>"
      ]
     },
     "metadata": {},
     "output_type": "display_data"
    },
    {
     "data": {
      "text/html": [
       "<p>An identity matrix is a square matrix with ones on the main diagonal and zeros elsewhere, serving as the multiplicative identity in matrix algebra.</p>"
      ],
      "text/plain": [
       "<IPython.core.display.HTML object>"
      ]
     },
     "metadata": {},
     "output_type": "display_data"
    },
    {
     "data": {
      "text/html": [
       "\\(\n",
       "\\begin{bmatrix}\n",
       "1 & 0 & 0 & 0 \\\\\n",
       "0 & 1 & 0 & 0 \\\\\n",
       "0 & 0 & 1 & 0 \\\\\n",
       "0 & 0 & 0 & 1 \\\\\n",
       "\\end{bmatrix}\n",
       "\\)"
      ],
      "text/plain": [
       "<IPython.core.display.HTML object>"
      ]
     },
     "metadata": {},
     "output_type": "display_data"
    },
    {
     "data": {
      "text/html": [
       "<h2>Inverse Matrix</h2>"
      ],
      "text/plain": [
       "<IPython.core.display.HTML object>"
      ]
     },
     "metadata": {},
     "output_type": "display_data"
    }
   ],
   "source": [
    "display(HTML(\"<h2>Identity Matrix</h2>\"))\n",
    "display(HTML(wrd_identity_matrix))\n",
    "display(HTML(not_identity_matrix))\n",
    "display(HTML(\"<h2>Inverse Matrix</h2>\"))"
   ]
  }
 ],
 "metadata": {
  "jupytext": {
   "formats": "ipynb,py:percent,md"
  },
  "kernelspec": {
   "display_name": "Python 3 (ipykernel)",
   "language": "python",
   "name": "python3"
  },
  "language_info": {
   "codemirror_mode": {
    "name": "ipython",
    "version": 3
   },
   "file_extension": ".py",
   "mimetype": "text/x-python",
   "name": "python",
   "nbconvert_exporter": "python",
   "pygments_lexer": "ipython3",
   "version": "3.13.4"
  }
 },
 "nbformat": 4,
 "nbformat_minor": 5
}
